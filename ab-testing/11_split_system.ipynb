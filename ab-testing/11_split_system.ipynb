{
 "cells": [
  {
   "cell_type": "markdown",
   "id": "74abf3fb",
   "metadata": {},
   "source": [
    "## **Split System - Practice**"
   ]
  },
  {
   "cell_type": "markdown",
   "id": "89b9d91f",
   "metadata": {},
   "source": [
    "### Hash Function\n",
    "\n",
    "Хеш-функция преобразует хешируемый объект в некоторый набор символов. Этот набор символов называется хешем.\n",
    "\n",
    "**Свойства хеш-функции:**\n",
    "- незначительное изменение входной информации сильно изменяет хеш\n",
    "- хеш-функция необратима и не позволяет восстанавливать исходный массив информации из символьной строки\n",
    "- быстро вычисляется\n",
    "- хеш-функция может приводить любой объем данных к числу заданной длины\n"
   ]
  },
  {
   "cell_type": "code",
   "execution_count": 2,
   "id": "aa56387b",
   "metadata": {},
   "outputs": [],
   "source": [
    "import os\n",
    "from datetime import datetime\n",
    "import numpy as np\n",
    "import pandas as pd\n",
    "from hashlib import md5"
   ]
  },
  {
   "cell_type": "code",
   "execution_count": 4,
   "id": "93f57094",
   "metadata": {},
   "outputs": [
    {
     "data": {
      "text/plain": [
       "<md5 _hashlib.HASH object @ 0x000001F0E3B74650>"
      ]
     },
     "execution_count": 4,
     "metadata": {},
     "output_type": "execute_result"
    }
   ],
   "source": [
    "# Хешируем строку\n",
    "md5('Hello'.encode())"
   ]
  },
  {
   "cell_type": "code",
   "execution_count": 5,
   "id": "90ebb938",
   "metadata": {},
   "outputs": [
    {
     "data": {
      "text/plain": [
       "'8b1a9953c4611296a827abf8c47804d7'"
      ]
     },
     "execution_count": 5,
     "metadata": {},
     "output_type": "execute_result"
    }
   ],
   "source": [
    "# Приводим к 16-ричному числу\n",
    "md5('Hello'.encode()).hexdigest()"
   ]
  },
  {
   "cell_type": "code",
   "execution_count": 6,
   "id": "4cd4f2f7",
   "metadata": {},
   "outputs": [
    {
     "data": {
      "text/plain": [
       "184900800977808474752697256094572479703"
      ]
     },
     "execution_count": 6,
     "metadata": {},
     "output_type": "execute_result"
    }
   ],
   "source": [
    "# Приводим к 10-тичному числу\n",
    "int(md5('Hello'.encode()).hexdigest(), 16)"
   ]
  },
  {
   "cell_type": "markdown",
   "id": "29548633",
   "metadata": {},
   "source": [
    "С помощью хэш-функции можно «случайно» распределять объекты по группам, если у них есть уникальные идентификаторы."
   ]
  },
  {
   "cell_type": "code",
   "execution_count": 7,
   "id": "1eb8cb18",
   "metadata": {},
   "outputs": [],
   "source": [
    "def get_bucket(value: str, n: int, salt: str=''):\n",
    "    \"\"\"Определяет бакет по id.\n",
    "\n",
    "    value - уникальный идентификатор объекта.\n",
    "    n - количество бакетов.\n",
    "    salt - соль для перемешивания.\n",
    "    \"\"\"\n",
    "    hash_value = int(md5((value + salt).encode()).hexdigest(), 16)\n",
    "    return hash_value % n"
   ]
  },
  {
   "cell_type": "code",
   "execution_count": 8,
   "id": "03acfa84",
   "metadata": {},
   "outputs": [
    {
     "data": {
      "text/plain": [
       "[91, 95, 2, 50, 70, 10, 52, 11, 27, 62]"
      ]
     },
     "execution_count": 8,
     "metadata": {},
     "output_type": "execute_result"
    }
   ],
   "source": [
    "n = 100\n",
    "[get_bucket(str(x), n, 'salt_one') for x in range(10)]"
   ]
  },
  {
   "cell_type": "code",
   "execution_count": 9,
   "id": "1ca02257",
   "metadata": {},
   "outputs": [
    {
     "data": {
      "text/plain": [
       "[91, 95, 2, 50, 70, 10, 52, 11, 27, 62]"
      ]
     },
     "execution_count": 9,
     "metadata": {},
     "output_type": "execute_result"
    }
   ],
   "source": [
    "# если вычислим бакеты для тех же объектов с той же солью, то получим те же значения\n",
    "[get_bucket(str(x), n, 'salt_one') for x in range(10)]"
   ]
  },
  {
   "cell_type": "code",
   "execution_count": 10,
   "id": "69d0ac81",
   "metadata": {},
   "outputs": [
    {
     "data": {
      "text/plain": [
       "[9, 85, 72, 2, 28, 2, 45, 31, 7, 47]"
      ]
     },
     "execution_count": 10,
     "metadata": {},
     "output_type": "execute_result"
    }
   ],
   "source": [
    "# если поменяем солью, то получим другие значения\n",
    "[get_bucket(str(x), n, 'salt_two') for x in range(10)]"
   ]
  },
  {
   "cell_type": "markdown",
   "id": "a7be7dae",
   "metadata": {},
   "source": [
    "### Pizzeria's Data\n",
    "\n",
    "На нашей платформе А/Б тестирования реализована очень простая схема формирования групп для эксперимента.\n",
    "- для эксперимента генерируется случайная соль\n",
    "- выбирается количество бакетов\n",
    "- пользователи разбиваются по бакетам с солью эксперимента\n",
    "- первый бакет — контрольная группа, второй бакет — экспериментальная группа\n",
    "\n",
    "Посмотрим, как это работает на примере данных первого эксперимента.\n",
    "\n",
    "- даты — с 2022-03-23 по 2022-03-30\n",
    "- количество бакетов — 3\n",
    "- salt — uSuuwtPc"
   ]
  },
  {
   "cell_type": "code",
   "execution_count": 11,
   "id": "407fe5d4",
   "metadata": {},
   "outputs": [],
   "source": [
    "URL_BASE = 'https://raw.githubusercontent.com/ab-courses/simulator-ab-datasets/main/2022-04-01/'\n",
    "\n",
    "def read_database(file_name):\n",
    "    return pd.read_csv(os.path.join(URL_BASE, file_name))\n",
    "\n",
    "df_sales = read_database('2022-04-01T12_df_sales.csv')\n",
    "df_sales['date'] = pd.to_datetime(df_sales['date'])\n",
    "df_users = read_database('experiment_users.csv')"
   ]
  },
  {
   "cell_type": "markdown",
   "id": "3a242e91",
   "metadata": {},
   "source": [
    "df_sales - информация о покупках, одна строка - один заказ. Атрибуты:\n",
    "- sale_id - идентификатор покупки\n",
    "- date - дата покупки\n",
    "- count_pizza - количество пицц в заказе\n",
    "- count_drink - количество напитков в заказе\n",
    "- price - стоимость заказа\n",
    "- user_id - идентификатор пользователя\n",
    "\n",
    "df_users - список пользователей, попавших в первый эксперимент. \n",
    "Флаг в столбце pilot указывает на группу, 1 - экспериментальная, 0 - контрольная."
   ]
  },
  {
   "cell_type": "code",
   "execution_count": 12,
   "id": "64d4b401",
   "metadata": {},
   "outputs": [
    {
     "data": {
      "text/html": [
       "<div>\n",
       "<style scoped>\n",
       "    .dataframe tbody tr th:only-of-type {\n",
       "        vertical-align: middle;\n",
       "    }\n",
       "\n",
       "    .dataframe tbody tr th {\n",
       "        vertical-align: top;\n",
       "    }\n",
       "\n",
       "    .dataframe thead th {\n",
       "        text-align: right;\n",
       "    }\n",
       "</style>\n",
       "<table border=\"1\" class=\"dataframe\">\n",
       "  <thead>\n",
       "    <tr style=\"text-align: right;\">\n",
       "      <th></th>\n",
       "      <th>user_id</th>\n",
       "      <th>pilot</th>\n",
       "    </tr>\n",
       "  </thead>\n",
       "  <tbody>\n",
       "    <tr>\n",
       "      <th>14914</th>\n",
       "      <td>7d428e</td>\n",
       "      <td>1</td>\n",
       "    </tr>\n",
       "    <tr>\n",
       "      <th>12354</th>\n",
       "      <td>f24bbf</td>\n",
       "      <td>1</td>\n",
       "    </tr>\n",
       "    <tr>\n",
       "      <th>15121</th>\n",
       "      <td>effa3f</td>\n",
       "      <td>1</td>\n",
       "    </tr>\n",
       "    <tr>\n",
       "      <th>13185</th>\n",
       "      <td>8dcf45</td>\n",
       "      <td>1</td>\n",
       "    </tr>\n",
       "    <tr>\n",
       "      <th>11043</th>\n",
       "      <td>fa8a38</td>\n",
       "      <td>0</td>\n",
       "    </tr>\n",
       "  </tbody>\n",
       "</table>\n",
       "</div>"
      ],
      "text/plain": [
       "      user_id  pilot\n",
       "14914  7d428e      1\n",
       "12354  f24bbf      1\n",
       "15121  effa3f      1\n",
       "13185  8dcf45      1\n",
       "11043  fa8a38      0"
      ]
     },
     "execution_count": 12,
     "metadata": {},
     "output_type": "execute_result"
    }
   ],
   "source": [
    "df_users.sample(5)"
   ]
  },
  {
   "cell_type": "markdown",
   "id": "846d9bbd",
   "metadata": {},
   "source": [
    "Посчитаем бакеты сами:"
   ]
  },
  {
   "cell_type": "code",
   "execution_count": 13,
   "id": "e99ed1a7",
   "metadata": {},
   "outputs": [],
   "source": [
    "salt = 'uSuuwtPc'\n",
    "n = 3\n",
    "\n",
    "df_users['bucket'] = [get_bucket(user_id, n, salt) for user_id in df_users['user_id'].values]"
   ]
  },
  {
   "cell_type": "code",
   "execution_count": 14,
   "id": "2faac1f9",
   "metadata": {},
   "outputs": [
    {
     "data": {
      "text/html": [
       "<div>\n",
       "<style scoped>\n",
       "    .dataframe tbody tr th:only-of-type {\n",
       "        vertical-align: middle;\n",
       "    }\n",
       "\n",
       "    .dataframe tbody tr th {\n",
       "        vertical-align: top;\n",
       "    }\n",
       "\n",
       "    .dataframe thead th {\n",
       "        text-align: right;\n",
       "    }\n",
       "</style>\n",
       "<table border=\"1\" class=\"dataframe\">\n",
       "  <thead>\n",
       "    <tr style=\"text-align: right;\">\n",
       "      <th></th>\n",
       "      <th>user_id</th>\n",
       "      <th>pilot</th>\n",
       "      <th>bucket</th>\n",
       "    </tr>\n",
       "  </thead>\n",
       "  <tbody>\n",
       "    <tr>\n",
       "      <th>22671</th>\n",
       "      <td>26d443</td>\n",
       "      <td>1</td>\n",
       "      <td>1</td>\n",
       "    </tr>\n",
       "    <tr>\n",
       "      <th>16565</th>\n",
       "      <td>3ae9d3</td>\n",
       "      <td>1</td>\n",
       "      <td>1</td>\n",
       "    </tr>\n",
       "    <tr>\n",
       "      <th>22657</th>\n",
       "      <td>9e9968</td>\n",
       "      <td>1</td>\n",
       "      <td>1</td>\n",
       "    </tr>\n",
       "    <tr>\n",
       "      <th>4632</th>\n",
       "      <td>ab60c7</td>\n",
       "      <td>0</td>\n",
       "      <td>0</td>\n",
       "    </tr>\n",
       "    <tr>\n",
       "      <th>16610</th>\n",
       "      <td>af8f5c</td>\n",
       "      <td>1</td>\n",
       "      <td>1</td>\n",
       "    </tr>\n",
       "  </tbody>\n",
       "</table>\n",
       "</div>"
      ],
      "text/plain": [
       "      user_id  pilot  bucket\n",
       "22671  26d443      1       1\n",
       "16565  3ae9d3      1       1\n",
       "22657  9e9968      1       1\n",
       "4632   ab60c7      0       0\n",
       "16610  af8f5c      1       1"
      ]
     },
     "execution_count": 14,
     "metadata": {},
     "output_type": "execute_result"
    }
   ],
   "source": [
    "df_users.sample(5)"
   ]
  },
  {
   "cell_type": "code",
   "execution_count": 15,
   "id": "6c3f05c3",
   "metadata": {},
   "outputs": [
    {
     "data": {
      "text/plain": [
       "1.0"
      ]
     },
     "execution_count": 15,
     "metadata": {},
     "output_type": "execute_result"
    }
   ],
   "source": [
    "(df_users['pilot'] == df_users['bucket']).mean()"
   ]
  },
  {
   "cell_type": "markdown",
   "id": "0cb52ba7",
   "metadata": {},
   "source": [
    "Совпадение 100%\n",
    "\n",
    "Проверим, что для пользователей, которые не попали в эксперимент, номер бакета не 0 и не 1."
   ]
  },
  {
   "cell_type": "code",
   "execution_count": 18,
   "id": "19f02304",
   "metadata": {},
   "outputs": [
    {
     "name": "stdout",
     "output_type": "stream",
     "text": [
      "8cc27d 2\n",
      "342ea1 2\n",
      "2bcdf7 2\n",
      "da222d 2\n",
      "b88116 2\n",
      "578575 2\n",
      "b4c369 2\n",
      "b5de40 2\n",
      "6e60f7 2\n",
      "704285 2\n"
     ]
    }
   ],
   "source": [
    "all_users = (\n",
    "    df_sales\n",
    "    [(df_sales['date'] >= datetime(2022, 3, 23)) & (df_sales['date'] < datetime(2022, 3, 30))]\n",
    "    ['user_id'].unique()\n",
    ")\n",
    "third_bucket_users = list(set(all_users) - set(df_users['user_id'].unique()))\n",
    "for user_id in third_bucket_users[:10]:\n",
    "    print(user_id, get_bucket(user_id, n, salt))"
   ]
  },
  {
   "cell_type": "markdown",
   "id": "7368e40d",
   "metadata": {},
   "source": [
    "Всё верно, бакет не 0 и не 1."
   ]
  },
  {
   "cell_type": "markdown",
   "id": "174a951a",
   "metadata": {},
   "source": [
    "### Double Hashing\n",
    "\n",
    "Посмотрим, как можно реализовать двойное хеширование.\n",
    "\n",
    "Сначала нужно разбить пользователей по бакетам:"
   ]
  },
  {
   "cell_type": "code",
   "execution_count": 21,
   "id": "ae6b5a19",
   "metadata": {},
   "outputs": [
    {
     "data": {
      "text/html": [
       "<div>\n",
       "<style scoped>\n",
       "    .dataframe tbody tr th:only-of-type {\n",
       "        vertical-align: middle;\n",
       "    }\n",
       "\n",
       "    .dataframe tbody tr th {\n",
       "        vertical-align: top;\n",
       "    }\n",
       "\n",
       "    .dataframe thead th {\n",
       "        text-align: right;\n",
       "    }\n",
       "</style>\n",
       "<table border=\"1\" class=\"dataframe\">\n",
       "  <thead>\n",
       "    <tr style=\"text-align: right;\">\n",
       "      <th></th>\n",
       "      <th>user_id</th>\n",
       "      <th>bucket</th>\n",
       "    </tr>\n",
       "  </thead>\n",
       "  <tbody>\n",
       "    <tr>\n",
       "      <th>0</th>\n",
       "      <td>1c1543</td>\n",
       "      <td>99</td>\n",
       "    </tr>\n",
       "    <tr>\n",
       "      <th>1</th>\n",
       "      <td>a9a6e8</td>\n",
       "      <td>83</td>\n",
       "    </tr>\n",
       "    <tr>\n",
       "      <th>2</th>\n",
       "      <td>23420a</td>\n",
       "      <td>23</td>\n",
       "    </tr>\n",
       "    <tr>\n",
       "      <th>3</th>\n",
       "      <td>3e8ed5</td>\n",
       "      <td>14</td>\n",
       "    </tr>\n",
       "    <tr>\n",
       "      <th>4</th>\n",
       "      <td>cbc468</td>\n",
       "      <td>41</td>\n",
       "    </tr>\n",
       "  </tbody>\n",
       "</table>\n",
       "</div>"
      ],
      "text/plain": [
       "  user_id  bucket\n",
       "0  1c1543      99\n",
       "1  a9a6e8      83\n",
       "2  23420a      23\n",
       "3  3e8ed5      14\n",
       "4  cbc468      41"
      ]
     },
     "execution_count": 21,
     "metadata": {},
     "output_type": "execute_result"
    }
   ],
   "source": [
    "n_buckets = 100\n",
    "bucket_salt = 'abc123'\n",
    "\n",
    "# сделаем датафрейм с пользователями\n",
    "df = df_sales[['user_id']].drop_duplicates()\n",
    "# распределим пользователей по бакетам\n",
    "df['bucket'] = [get_bucket(user_id, n_buckets, bucket_salt) for user_id in df['user_id'].values]\n",
    "df.head()"
   ]
  },
  {
   "cell_type": "markdown",
   "id": "6a826c6a",
   "metadata": {},
   "source": [
    "Допустим, мы оценили, что для проведения эксперимента нам нужно 5% пользователей. \n",
    "При условии, что у нас 100 бакетов, для эксперимента нужно 5 бакетов. \n",
    "Выберем случайные 5 бакетов и распределим попавших в них пользователей на контрольную и экспериментальную группу:"
   ]
  },
  {
   "cell_type": "code",
   "execution_count": 24,
   "id": "b0f2715b",
   "metadata": {},
   "outputs": [
    {
     "name": "stdout",
     "output_type": "stream",
     "text": [
      "experiment_buckets: [58 36 46 82 19]\n"
     ]
    }
   ],
   "source": [
    "experiment_buckets = np.random.choice(df['bucket'].unique(), 5, False)\n",
    "print(f'experiment_buckets: {experiment_buckets}')\n",
    "\n",
    "df_experiment = df[df['bucket'].isin(experiment_buckets)].copy()\n",
    "experiment_salt = 'qwe456'\n",
    "df_experiment['pilot'] = [get_bucket(user_id, 2, experiment_salt) for user_id in df_experiment['user_id'].values]"
   ]
  },
  {
   "cell_type": "markdown",
   "id": "df1a8f27",
   "metadata": {},
   "source": [
    "Кол-во групп = 2 → pilot = 0 (контрольная), pilot = 1 (тестовая)\n",
    "\n",
    "Соль 'qwe456' гарантирует равномерное и независимое распределение пользователей в группы"
   ]
  },
  {
   "cell_type": "code",
   "execution_count": 25,
   "id": "2063efba",
   "metadata": {},
   "outputs": [
    {
     "data": {
      "text/html": [
       "<div>\n",
       "<style scoped>\n",
       "    .dataframe tbody tr th:only-of-type {\n",
       "        vertical-align: middle;\n",
       "    }\n",
       "\n",
       "    .dataframe tbody tr th {\n",
       "        vertical-align: top;\n",
       "    }\n",
       "\n",
       "    .dataframe thead th {\n",
       "        text-align: right;\n",
       "    }\n",
       "</style>\n",
       "<table border=\"1\" class=\"dataframe\">\n",
       "  <thead>\n",
       "    <tr style=\"text-align: right;\">\n",
       "      <th></th>\n",
       "      <th>user_id</th>\n",
       "      <th>bucket</th>\n",
       "      <th>pilot</th>\n",
       "    </tr>\n",
       "  </thead>\n",
       "  <tbody>\n",
       "    <tr>\n",
       "      <th>64</th>\n",
       "      <td>c2d425</td>\n",
       "      <td>82</td>\n",
       "      <td>0</td>\n",
       "    </tr>\n",
       "    <tr>\n",
       "      <th>76</th>\n",
       "      <td>574a38</td>\n",
       "      <td>82</td>\n",
       "      <td>0</td>\n",
       "    </tr>\n",
       "    <tr>\n",
       "      <th>101</th>\n",
       "      <td>638d39</td>\n",
       "      <td>36</td>\n",
       "      <td>0</td>\n",
       "    </tr>\n",
       "    <tr>\n",
       "      <th>184</th>\n",
       "      <td>907f56</td>\n",
       "      <td>36</td>\n",
       "      <td>0</td>\n",
       "    </tr>\n",
       "    <tr>\n",
       "      <th>200</th>\n",
       "      <td>07ed46</td>\n",
       "      <td>82</td>\n",
       "      <td>1</td>\n",
       "    </tr>\n",
       "  </tbody>\n",
       "</table>\n",
       "</div>"
      ],
      "text/plain": [
       "    user_id  bucket  pilot\n",
       "64   c2d425      82      0\n",
       "76   574a38      82      0\n",
       "101  638d39      36      0\n",
       "184  907f56      36      0\n",
       "200  07ed46      82      1"
      ]
     },
     "execution_count": 25,
     "metadata": {},
     "output_type": "execute_result"
    }
   ],
   "source": [
    "df_experiment.head()"
   ]
  },
  {
   "cell_type": "code",
   "execution_count": 26,
   "id": "8de087ff",
   "metadata": {},
   "outputs": [],
   "source": [
    "experiment_salt = 'qwe45sadjfb'\n",
    "df_experiment['pilot2'] = [get_bucket(user_id, 2, experiment_salt) for user_id in df_experiment['user_id'].values]"
   ]
  },
  {
   "cell_type": "markdown",
   "id": "a931f403",
   "metadata": {},
   "source": [
    "Теперь эксперимент делится по-другому (другая соль → другое распределение A/B)\n",
    "\n",
    "Используется, если хочешь запустить другой эксперимент на том же подмножестве пользователей, но так, чтобы разбиение было ортогональным предыдущему"
   ]
  },
  {
   "cell_type": "code",
   "execution_count": 27,
   "id": "fd2fef1e",
   "metadata": {},
   "outputs": [
    {
     "data": {
      "text/html": [
       "<div>\n",
       "<style scoped>\n",
       "    .dataframe tbody tr th:only-of-type {\n",
       "        vertical-align: middle;\n",
       "    }\n",
       "\n",
       "    .dataframe tbody tr th {\n",
       "        vertical-align: top;\n",
       "    }\n",
       "\n",
       "    .dataframe thead th {\n",
       "        text-align: right;\n",
       "    }\n",
       "</style>\n",
       "<table border=\"1\" class=\"dataframe\">\n",
       "  <thead>\n",
       "    <tr style=\"text-align: right;\">\n",
       "      <th></th>\n",
       "      <th>user_id</th>\n",
       "      <th>bucket</th>\n",
       "      <th>pilot</th>\n",
       "      <th>pilot2</th>\n",
       "    </tr>\n",
       "  </thead>\n",
       "  <tbody>\n",
       "    <tr>\n",
       "      <th>64</th>\n",
       "      <td>c2d425</td>\n",
       "      <td>82</td>\n",
       "      <td>0</td>\n",
       "      <td>0</td>\n",
       "    </tr>\n",
       "    <tr>\n",
       "      <th>76</th>\n",
       "      <td>574a38</td>\n",
       "      <td>82</td>\n",
       "      <td>0</td>\n",
       "      <td>1</td>\n",
       "    </tr>\n",
       "    <tr>\n",
       "      <th>101</th>\n",
       "      <td>638d39</td>\n",
       "      <td>36</td>\n",
       "      <td>0</td>\n",
       "      <td>0</td>\n",
       "    </tr>\n",
       "    <tr>\n",
       "      <th>184</th>\n",
       "      <td>907f56</td>\n",
       "      <td>36</td>\n",
       "      <td>0</td>\n",
       "      <td>1</td>\n",
       "    </tr>\n",
       "    <tr>\n",
       "      <th>200</th>\n",
       "      <td>07ed46</td>\n",
       "      <td>82</td>\n",
       "      <td>1</td>\n",
       "      <td>1</td>\n",
       "    </tr>\n",
       "    <tr>\n",
       "      <th>202</th>\n",
       "      <td>d5cb45</td>\n",
       "      <td>58</td>\n",
       "      <td>0</td>\n",
       "      <td>1</td>\n",
       "    </tr>\n",
       "    <tr>\n",
       "      <th>217</th>\n",
       "      <td>8abcab</td>\n",
       "      <td>82</td>\n",
       "      <td>1</td>\n",
       "      <td>0</td>\n",
       "    </tr>\n",
       "    <tr>\n",
       "      <th>229</th>\n",
       "      <td>73c0cc</td>\n",
       "      <td>82</td>\n",
       "      <td>1</td>\n",
       "      <td>1</td>\n",
       "    </tr>\n",
       "    <tr>\n",
       "      <th>240</th>\n",
       "      <td>cadd30</td>\n",
       "      <td>82</td>\n",
       "      <td>1</td>\n",
       "      <td>1</td>\n",
       "    </tr>\n",
       "    <tr>\n",
       "      <th>253</th>\n",
       "      <td>bf1b9c</td>\n",
       "      <td>58</td>\n",
       "      <td>1</td>\n",
       "      <td>0</td>\n",
       "    </tr>\n",
       "    <tr>\n",
       "      <th>257</th>\n",
       "      <td>fe6874</td>\n",
       "      <td>19</td>\n",
       "      <td>1</td>\n",
       "      <td>1</td>\n",
       "    </tr>\n",
       "    <tr>\n",
       "      <th>275</th>\n",
       "      <td>831c81</td>\n",
       "      <td>58</td>\n",
       "      <td>1</td>\n",
       "      <td>0</td>\n",
       "    </tr>\n",
       "    <tr>\n",
       "      <th>277</th>\n",
       "      <td>0d238c</td>\n",
       "      <td>46</td>\n",
       "      <td>0</td>\n",
       "      <td>0</td>\n",
       "    </tr>\n",
       "    <tr>\n",
       "      <th>299</th>\n",
       "      <td>9dbbf1</td>\n",
       "      <td>58</td>\n",
       "      <td>0</td>\n",
       "      <td>0</td>\n",
       "    </tr>\n",
       "    <tr>\n",
       "      <th>310</th>\n",
       "      <td>26fcdf</td>\n",
       "      <td>36</td>\n",
       "      <td>0</td>\n",
       "      <td>0</td>\n",
       "    </tr>\n",
       "    <tr>\n",
       "      <th>324</th>\n",
       "      <td>f0bf6f</td>\n",
       "      <td>36</td>\n",
       "      <td>0</td>\n",
       "      <td>1</td>\n",
       "    </tr>\n",
       "    <tr>\n",
       "      <th>330</th>\n",
       "      <td>e6faf2</td>\n",
       "      <td>82</td>\n",
       "      <td>0</td>\n",
       "      <td>1</td>\n",
       "    </tr>\n",
       "    <tr>\n",
       "      <th>337</th>\n",
       "      <td>675883</td>\n",
       "      <td>46</td>\n",
       "      <td>1</td>\n",
       "      <td>1</td>\n",
       "    </tr>\n",
       "    <tr>\n",
       "      <th>361</th>\n",
       "      <td>71dfe0</td>\n",
       "      <td>19</td>\n",
       "      <td>0</td>\n",
       "      <td>0</td>\n",
       "    </tr>\n",
       "    <tr>\n",
       "      <th>377</th>\n",
       "      <td>c34a95</td>\n",
       "      <td>46</td>\n",
       "      <td>0</td>\n",
       "      <td>0</td>\n",
       "    </tr>\n",
       "  </tbody>\n",
       "</table>\n",
       "</div>"
      ],
      "text/plain": [
       "    user_id  bucket  pilot  pilot2\n",
       "64   c2d425      82      0       0\n",
       "76   574a38      82      0       1\n",
       "101  638d39      36      0       0\n",
       "184  907f56      36      0       1\n",
       "200  07ed46      82      1       1\n",
       "202  d5cb45      58      0       1\n",
       "217  8abcab      82      1       0\n",
       "229  73c0cc      82      1       1\n",
       "240  cadd30      82      1       1\n",
       "253  bf1b9c      58      1       0\n",
       "257  fe6874      19      1       1\n",
       "275  831c81      58      1       0\n",
       "277  0d238c      46      0       0\n",
       "299  9dbbf1      58      0       0\n",
       "310  26fcdf      36      0       0\n",
       "324  f0bf6f      36      0       1\n",
       "330  e6faf2      82      0       1\n",
       "337  675883      46      1       1\n",
       "361  71dfe0      19      0       0\n",
       "377  c34a95      46      0       0"
      ]
     },
     "execution_count": 27,
     "metadata": {},
     "output_type": "execute_result"
    }
   ],
   "source": [
    "df_experiment.head(20)"
   ]
  },
  {
   "cell_type": "markdown",
   "id": "d9c3493c",
   "metadata": {},
   "source": [
    "### Метод для распределения экспериментов по бакетам add_experiment класса SplittingService"
   ]
  },
  {
   "cell_type": "code",
   "execution_count": null,
   "id": "9504b2e6",
   "metadata": {},
   "outputs": [
    {
     "name": "stdout",
     "output_type": "stream",
     "text": [
      "simple test passed\n"
     ]
    }
   ],
   "source": [
    "from pydantic import BaseModel\n",
    "\n",
    "\n",
    "class Experiment(BaseModel):\n",
    "    \"\"\"\n",
    "    id - идентификатор эксперимента.\n",
    "    buckets_count - необходимое количество бакетов.\n",
    "    conflicts - список идентификаторов экспериментов, которые нельзя проводить\n",
    "        одновременно на одних и тех же пользователях.\n",
    "    \"\"\"\n",
    "    id: int\n",
    "    buckets_count: int\n",
    "    conflicts: list[int] = []\n",
    "\n",
    "\n",
    "class SplittingService:\n",
    "\n",
    "    def __init__(self, buckets_count):\n",
    "        \"\"\"Класс для распределения экспериментов и пользователей по бакетам.\n",
    "\n",
    "        :param buckets_count (int): количество бакетов.\n",
    "        \"\"\"\n",
    "        self.buckets_count = buckets_count\n",
    "        self.buckets = [[] for _ in range(buckets_count)]\n",
    "\n",
    "    def add_experiment(self, experiment):\n",
    "        \"\"\"Проверяет можно ли добавить эксперимент, добавляет если можно.\n",
    "\n",
    "        :param experiment (Experiment): параметры эксперимента, который нужно запустить\n",
    "        :return success, buckets:\n",
    "            success (boolean) - можно ли добавить эксперимент, True - можно, иначе - False\n",
    "            buckets (list[list[int]]]) - список бакетов, в каждом бакете перечислены идентификаторы эксперименты,\n",
    "                которые в нём проводятся.\n",
    "        \"\"\"\n",
    "        # список из элементов [bucket_id, количество совместных экспериментов]\n",
    "        available_buckets_meta = []\n",
    "        # Если в бакете есть хотя бы один конфликтующий эксперимент — пропускаем\n",
    "        for bucket_id, bucket in enumerate(self.buckets):\n",
    "            if set(experiment.conflicts) & set(bucket):\n",
    "                continue\n",
    "            # Иначе добавляем бакет как потенциально подходящий\n",
    "            available_buckets_meta.append((bucket_id, len(bucket)))\n",
    "        # Если не хватает подходящих бакетов — вернуть отказ\n",
    "        if len(available_buckets_meta) < experiment.buckets_count:\n",
    "            return False, self.buckets\n",
    "        # Сортируем бакеты по количеству уже запущенных экспериментов — от большего к меньшему.\n",
    "        # Это минимизирует общее число занятых бакетов (плотно \"упаковываем\" эксперименты).\n",
    "        sorted_available_buckets_meta = sorted(available_buckets_meta, key=lambda x: -x[1])\n",
    "        # Берём нужное количество бакетов и добавляем в них текущий эксперимент\n",
    "        for bucket_id, _ in sorted_available_buckets_meta[:experiment.buckets_count]:\n",
    "            self.buckets[bucket_id].append(experiment.id)\n",
    "        return True, self.buckets\n",
    "\n",
    " \n",
    "\n",
    "def check_correct_buckets(buckets, experiments):\n",
    "    for experiment in experiments:\n",
    "        buckets_with_exp = [b for b in buckets if experiment.id in b]\n",
    "        assert experiment.buckets_count == len(buckets_with_exp), 'Неверное количество бакетов с экспериментом'\n",
    "        parallel_experiments = set(sum(buckets_with_exp, []))\n",
    "        err_msg = 'Несовместные эксперименты в одном бакете'\n",
    "        assert len(set(experiment.conflicts) & parallel_experiments) == 0, err_msg\n",
    "\n",
    "\n",
    "if __name__ == '__main__':\n",
    "    experiments = [\n",
    "        Experiment(id=1, buckets_count=4, conflicts=[4]),\n",
    "        Experiment(id=2, buckets_count=2, conflicts=[3]),\n",
    "        Experiment(id=3, buckets_count=2, conflicts=[2]),\n",
    "        Experiment(id=4, buckets_count=1, conflicts=[1]),\n",
    "        \n",
    "        Experiment(id=1, buckets_count=2),\n",
    "        Experiment(id=2, buckets_count=2),\n",
    "        Experiment(id=3, buckets_count=2),\n",
    "        Experiment(id=4, buckets_count=5),\n",
    "        \n",
    "        Experiment(id=1, buckets_count=2, conflicts=[2, 4]),\n",
    "        Experiment(id=2, buckets_count=2, conflicts=[1]),\n",
    "        Experiment(id=3, buckets_count=2),\n",
    "        Experiment(id=4, buckets_count=4, conflicts=[1]),\n",
    "        \n",
    "        Experiment(id=1, buckets_count=2, conflicts=[3]),\n",
    "        Experiment(id=2, buckets_count=2, conflicts=[3]),\n",
    "        Experiment(id=3, buckets_count=2, conflicts=[1, 2]),\n",
    "        \n",
    "        Experiment(id=1, buckets_count=2, conflicts=[4, 5]),\n",
    "        Experiment(id=2, buckets_count=2, conflicts=[4, 5]),\n",
    "        Experiment(id=3, buckets_count=2, conflicts=[4, 5]),\n",
    "        Experiment(id=4, buckets_count=2, conflicts=[1, 2, 3]),\n",
    "        Experiment(id=5, buckets_count=2, conflicts=[1, 2, 3]),\n",
    "        Experiment(id=6, buckets_count=4, conflicts=[7]),\n",
    "        Experiment(id=7, buckets_count=1, conflicts=[6]),\n",
    "        \n",
    "    ]\n",
    "    ideal_answers = [True, True, True, False]\n",
    "\n",
    "    splitting_service = SplittingService(buckets_count=4)\n",
    "    added_experiments = []\n",
    "    for index, (experiment, ideal_answer) in enumerate(zip(experiments, ideal_answers)):\n",
    "        success, buckets = splitting_service.add_experiment(experiment)\n",
    "        assert success == ideal_answer, 'Сплит-система работает неоптимально или некорректно.'\n",
    "        if success:\n",
    "            added_experiments.append(experiment)\n",
    "        check_correct_buckets(buckets, added_experiments)\n",
    "    print('simple test passed')\n"
   ]
  },
  {
   "cell_type": "markdown",
   "id": "aedf00d8",
   "metadata": {},
   "source": [
    "### Метод для распределения пользователей по бакетам и группам. Метод process_user класса SplittingService.\n"
   ]
  },
  {
   "cell_type": "code",
   "execution_count": 32,
   "id": "2d738adf",
   "metadata": {},
   "outputs": [
    {
     "name": "stdout",
     "output_type": "stream",
     "text": [
      "simple test passed\n"
     ]
    }
   ],
   "source": [
    "from pydantic import BaseModel\n",
    "from hashlib import md5\n",
    "\n",
    "\n",
    "class Experiment(BaseModel):\n",
    "    \"\"\"\n",
    "    id - идентификатор эксперимента.\n",
    "    salt - соль эксперимента (для случайного распределения пользователей на контрольную/пилотную группы)\n",
    "    \"\"\"\n",
    "    id: int\n",
    "    salt: str\n",
    "\n",
    "\n",
    "class SplittingService:\n",
    "\n",
    "    def __init__(self, buckets_count, bucket_salt, buckets=None, id2experiment=None):\n",
    "        \"\"\"Класс для распределения экспериментов и пользователей по бакетам.\n",
    "\n",
    "        :param buckets_count (int): количество бакетов.\n",
    "        :param bucket_salt (str): соль для разбиения пользователей по бакетам.\n",
    "            При одной соли каждый пользователь должен всегда попадать в один и тот же бакет.\n",
    "            Если изменить соль, то распределение людей по бакетам должно измениться.\n",
    "        :param buckets (list[list[int]]) - список бакетов, в каждом бакете перечислены идентификаторы\n",
    "            эксперименты, которые в нём проводятся.\n",
    "        :param id2experiment (dict[int, Experiment]) - словарь пар: идентификатор эксперимента - эксперимент.\n",
    "        \"\"\"\n",
    "        self.buckets_count = buckets_count\n",
    "        self.bucket_salt = bucket_salt\n",
    "        if buckets:\n",
    "            self.buckets = buckets\n",
    "        else:\n",
    "            self.buckets = [[] for _ in range(buckets_count)]\n",
    "        if id2experiment:\n",
    "            self.id2experiment = id2experiment\n",
    "        else:\n",
    "            self.id2experiment = {}\n",
    "\n",
    "    def _get_hash_modulo(self, value: str, modulo: int, salt: str):\n",
    "        \"\"\"Вычисляем остаток от деления: (hash(value) + salt) % modulo.\"\"\"\n",
    "        hash_value = int(md5(str.encode(value + salt)).hexdigest(), 16)\n",
    "        return hash_value % modulo\n",
    "\n",
    "    def process_user(self, user_id):\n",
    "        \"\"\"Определяет в какие эксперименты попадает пользователь.\n",
    "\n",
    "        Сначала нужно определить бакет пользователя.\n",
    "        Затем для каждого эксперимента в этом бакете выбрать пилотную или контрольную группу.\n",
    "\n",
    "        :param user_id (str): идентификатор пользователя\n",
    "        :return bucket_id, experiment_groups:\n",
    "            - bucket_id (int) - номер бакета (индекс элемента в self.buckets)\n",
    "            - experiment_groups (list[tuple]) - список пар: id эксперимента, группа.\n",
    "                Группы: 'A', 'B'.\n",
    "            Пример: (8, [(194, 'A'), (73, 'B')])\n",
    "        \"\"\"\n",
    "        bucket_id = self._get_hash_modulo(user_id, self.buckets_count, self.bucket_salt) # Определяем, в какой бакет попал пользователь\n",
    "        # Получаем все эксперименты, которые находятся в этом бакете\n",
    "        experiment_ids = self.buckets[bucket_id] \n",
    "        experiments = [\n",
    "            self.id2experiment[experiment_id] for experiment_id in experiment_ids\n",
    "        ]\n",
    "\n",
    "        # Определяем для каждого эксперимента, в какую группу (A или B) попал пользователь\n",
    "        experiment_groups = []\n",
    "        for experiment in experiments:\n",
    "            second_hash = self._get_hash_modulo(user_id, 2, experiment.salt)\n",
    "            group = 'B' if second_hash == 1 else 'A'\n",
    "            experiment_groups.append((experiment.id, group))\n",
    "        return bucket_id, experiment_groups\n",
    "\n",
    "\n",
    "if __name__ == '__main__':\n",
    "    id2experiment = {\n",
    "        0: Experiment(id=0, salt='0'),\n",
    "        1: Experiment(id=1, salt='1')\n",
    "    }\n",
    "    buckets = [[0, 1], [1], [], []]\n",
    "    buckets_count = len(buckets)\n",
    "    bucket_salt = 'a2N4'\n",
    "\n",
    "    splitting_service = SplittingService(buckets_count, bucket_salt, buckets, id2experiment)\n",
    "    user_ids = [str(x) for x in range(1000)]\n",
    "    for user_id in user_ids:\n",
    "        bucket_id, experiment_groups = splitting_service.process_user(user_id)\n",
    "        assert bucket_id in [0, 1, 2, 3], 'Неверный bucket_id'\n",
    "        assert len(experiment_groups) == len(buckets[bucket_id]), 'Неверное количество экспериментов в бакете'\n",
    "        for exp_id, group in experiment_groups:\n",
    "            assert exp_id in id2experiment, 'Неверный experiment_id'\n",
    "            assert group in ['A', 'B'], 'Неверная group'\n",
    "    print('simple test passed')\n"
   ]
  },
  {
   "cell_type": "markdown",
   "id": "ea27b95c",
   "metadata": {},
   "source": [
    "_get_hash_modulo — основной механизм стабильно-рандомного назначения.\n",
    "\n",
    "process_user — находит, в каком бакете находится пользователь и в какие A/B группы он попадает для каждого эксперимента в этом бакете."
   ]
  }
 ],
 "metadata": {
  "kernelspec": {
   "display_name": "Python 3",
   "language": "python",
   "name": "python3"
  },
  "language_info": {
   "codemirror_mode": {
    "name": "ipython",
    "version": 3
   },
   "file_extension": ".py",
   "mimetype": "text/x-python",
   "name": "python",
   "nbconvert_exporter": "python",
   "pygments_lexer": "ipython3",
   "version": "3.12.1"
  }
 },
 "nbformat": 4,
 "nbformat_minor": 5
}
