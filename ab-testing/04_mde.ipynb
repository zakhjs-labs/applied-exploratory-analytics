{
 "cells": [
  {
   "cell_type": "markdown",
   "id": "c1207d27",
   "metadata": {},
   "source": [
    "### Pizzeria's Data\n",
    "\n",
    "Наши разработчики создали новую версию бэкенда и хотят её протестировать. Новый бэкенд решает те же задачи, что и старый, поэтому улучшений во время эксперимента мы не ожидаем. Задача эксперимента — проверить, не возникнет ли проблем у пользователей, если мы заменим старую версию на новую. Например, если мы перейдём от монолитного ядра к микросервисной архитектуре. \n",
    "\n",
    "Одна из основных метрик бэкенда — время обработки запроса. Никто не любит, когда страницы сайта долго загружаются. Если страницы будут долго открываться, то часть пользователей перестанет заказывать пиццу на нашем сайте. \n",
    "\n",
    "В этом эксперименте мы будем оценивать изменение среднего времени обработки запросов. Если время обработки запроса значимо увеличится, то переход на новый бэкенд может привести к снижению выручки из-за ухода части пользователей.\n",
    "\n",
    "Нужно разобраться, как подготовиться к запуску эксперимента и запустить A/B тест."
   ]
  },
  {
   "cell_type": "code",
   "execution_count": 3,
   "id": "2ae91d3b",
   "metadata": {},
   "outputs": [],
   "source": [
    "import pandas as pd\n",
    "import matplotlib.pyplot as plt\n",
    "import os\n",
    "import numpy as np\n",
    "# import datetime as dt\n",
    "from datetime import datetime\n",
    "from scipy import stats\n",
    "import ipywidgets as widgets\n",
    "\n",
    "titlesize = 10       # размер шрифта заголовков\n",
    "labelsize = 10       # размер шрифта меток осей\n",
    "legendsize = 10      # размер шрифта легенды\n",
    "xticksize = 10       # размер шрифта меток на оси X\n",
    "yticksize = xticksize # размер шрифта меток на оси Y (такой же, как у X)\n",
    "\n",
    "# Настройки легенды:\n",
    "plt.rcParams['legend.markerscale'] = 1.5     # масштаб маркеров в легенде относительно исходных\n",
    "plt.rcParams['legend.handletextpad'] = 0.5   # расстояние между маркером и текстом в легенде\n",
    "plt.rcParams['legend.labelspacing'] = 0.4    # вертикальный отступ между элементами легенды\n",
    "plt.rcParams['legend.borderpad'] = 0.5       # отступ рамки легенды от содержимого\n",
    "\n",
    "# Общие настройки шрифта:\n",
    "plt.rcParams['font.size'] = 12               # базовый размер шрифта\n",
    "plt.rcParams['font.serif'] = 'Times New Roman' # шрифт с засечками (по умолчанию)\n",
    "\n",
    "# Настройки осей и заголовков:\n",
    "plt.rcParams['axes.labelsize'] = labelsize    # размер меток осей (берётся из labelsize)\n",
    "plt.rcParams['axes.titlesize'] = titlesize    # размер заголовков графиков (берётся из titlesize)\n",
    "\n",
    "# Размер фигуры по умолчанию:\n",
    "plt.rcParams['figure.figsize'] = (5, 3)       # ширина и высота графика в дюймах\n",
    "\n",
    "# Настройки меток на осях:\n",
    "plt.rc('xtick', labelsize=xticksize)          # размер меток на оси X\n",
    "plt.rc('ytick', labelsize=yticksize)          # размер меток на оси Y\n",
    "plt.rc('legend', fontsize=legendsize)         # размер шрифта в легенде"
   ]
  },
  {
   "cell_type": "code",
   "execution_count": 1,
   "id": "2ba14679",
   "metadata": {},
   "outputs": [],
   "source": [
    "URL_BASE = 'https://raw.githubusercontent.com/ab-courses/simulator-ab-datasets/main/2022-04-01/'\n",
    "\n",
    "def read_database(file_name):\n",
    "    return pd.read_csv(os.path.join(URL_BASE, file_name))"
   ]
  },
  {
   "cell_type": "code",
   "execution_count": null,
   "id": "8ced2afd",
   "metadata": {},
   "outputs": [
    {
     "data": {
      "text/html": [
       "<div>\n",
       "<style scoped>\n",
       "    .dataframe tbody tr th:only-of-type {\n",
       "        vertical-align: middle;\n",
       "    }\n",
       "\n",
       "    .dataframe tbody tr th {\n",
       "        vertical-align: top;\n",
       "    }\n",
       "\n",
       "    .dataframe thead th {\n",
       "        text-align: right;\n",
       "    }\n",
       "</style>\n",
       "<table border=\"1\" class=\"dataframe\">\n",
       "  <thead>\n",
       "    <tr style=\"text-align: right;\">\n",
       "      <th></th>\n",
       "      <th>user_id</th>\n",
       "      <th>page</th>\n",
       "      <th>date</th>\n",
       "      <th>load_time</th>\n",
       "    </tr>\n",
       "  </thead>\n",
       "  <tbody>\n",
       "    <tr>\n",
       "      <th>0</th>\n",
       "      <td>f25239</td>\n",
       "      <td>m</td>\n",
       "      <td>2022-02-03 23:45:37</td>\n",
       "      <td>80.8</td>\n",
       "    </tr>\n",
       "    <tr>\n",
       "      <th>1</th>\n",
       "      <td>06d6df</td>\n",
       "      <td>m</td>\n",
       "      <td>2022-02-03 23:49:56</td>\n",
       "      <td>70.5</td>\n",
       "    </tr>\n",
       "    <tr>\n",
       "      <th>2</th>\n",
       "      <td>06d6df</td>\n",
       "      <td>m</td>\n",
       "      <td>2022-02-03 23:51:16</td>\n",
       "      <td>89.7</td>\n",
       "    </tr>\n",
       "  </tbody>\n",
       "</table>\n",
       "</div>"
      ],
      "text/plain": [
       "  user_id page                date  load_time\n",
       "0  f25239    m 2022-02-03 23:45:37       80.8\n",
       "1  06d6df    m 2022-02-03 23:49:56       70.5\n",
       "2  06d6df    m 2022-02-03 23:51:16       89.7"
      ]
     },
     "execution_count": 4,
     "metadata": {},
     "output_type": "execute_result"
    }
   ],
   "source": [
    "web_logs = read_database('2022-04-01T12_df_web_logs.csv')\n",
    "web_logs['date'] = pd.to_datetime(web_logs['date'])\n",
    "web_logs.head(3)"
   ]
  },
  {
   "cell_type": "markdown",
   "id": "82a5609c",
   "metadata": {},
   "source": [
    "Web-logs — таблица с логами посещения сайта.\n",
    "\n",
    "1. user_id — идентификатор пользователя;\n",
    "2. page — какая страница сайта была открыта. Типы страниц:\n",
    "    + m — страница с меню;\n",
    "    + b  — страница с корзиной и подтверждением заказа;\n",
    "    + p — страница с оплатой заказа;\n",
    "3. date — дата открытия страницы;\n",
    "4. load_time — время загрузки страницы в миллисекундах.\n",
    "\n",
    "**Предполагается, что данные независимы**"
   ]
  },
  {
   "cell_type": "code",
   "execution_count": 6,
   "id": "ed82f450",
   "metadata": {},
   "outputs": [
    {
     "name": "stdout",
     "output_type": "stream",
     "text": [
      "2022-02-03 23:45:37\n",
      "2022-04-01 11:59:57\n",
      "(1964507, 4)\n"
     ]
    },
    {
     "data": {
      "text/plain": [
       "<Axes: >"
      ]
     },
     "execution_count": 6,
     "metadata": {},
     "output_type": "execute_result"
    },
    {
     "data": {
      "image/png": "[encoded data removed]",
      "text/plain": [
       "<Figure size 500x300 with 1 Axes>"
      ]
     },
     "metadata": {},
     "output_type": "display_data"
    }
   ],
   "source": [
    "print(web_logs['date'].min())\n",
    "print(web_logs['date'].max())\n",
    "print(web_logs.shape)\n",
    "web_logs['date'].hist(xrot=45)"
   ]
  },
  {
   "cell_type": "markdown",
   "id": "44ff1a41",
   "metadata": {},
   "source": [
    "Предположим, что мы хотим проводить тест в течение одной недели.\n",
    "\n",
    "Для этого на историческом промежутке выберем интервал длинной в одну неделю и проведем все расчеты \n",
    "для данного промежутка времени. Отметим, что сегодня 1 апреля, \n",
    "поэтому мы взяли неделю непосредственно перед запуском эксперимента. \n",
    "\n",
    "Данный подход служит неплохой эвристикой."
   ]
  },
  {
   "cell_type": "code",
   "execution_count": 8,
   "id": "0f197fd8",
   "metadata": {},
   "outputs": [
    {
     "data": {
      "text/plain": [
       "(247163, 4)"
      ]
     },
     "execution_count": 8,
     "metadata": {},
     "output_type": "execute_result"
    }
   ],
   "source": [
    "web_logs_hist = web_logs[(web_logs['date'] >= datetime(2022, 3, 22)) & (web_logs['date'] < datetime(2022, 3, 29))]\n",
    "web_logs_hist.shape"
   ]
  },
  {
   "cell_type": "markdown",
   "id": "e609373b",
   "metadata": {},
   "source": [
    "Предположим, что 1% для нас не является существенным изменением. \n",
    "То есть нас устроит любое изменение в пределах одного процента. \n",
    "\n",
    "Таким образом, если эффект будет равен одному проценту, мы хотим быть способны обнаружить его с большой вероятностью.\n",
    "\n",
    "Зафиксируем параметры эксперимента и посчитаем необходимые статистики."
   ]
  },
  {
   "cell_type": "code",
   "execution_count": 9,
   "id": "1b800cc8",
   "metadata": {},
   "outputs": [
    {
     "name": "stdout",
     "output_type": "stream",
     "text": [
      "Mean = 74.09834562616572, std = 111.56972405581008\n"
     ]
    }
   ],
   "source": [
    "alpha = 0.05\n",
    "beta = 0.2\n",
    "eff = 1.01\n",
    "\n",
    "mean = web_logs_hist['load_time'].mean()\n",
    "std = web_logs_hist['load_time'].std()\n",
    "\n",
    "print(f'Mean = {mean}, std = {std}')"
   ]
  },
  {
   "cell_type": "markdown",
   "id": "c5348639",
   "metadata": {},
   "source": [
    "Оценим размер выборки в одной группе (контрольной или экспериментальной)"
   ]
  },
  {
   "cell_type": "code",
   "execution_count": 11,
   "id": "02d8ada4",
   "metadata": {},
   "outputs": [],
   "source": [
    "def get_sample_size_abs(epsilon, std, alpha=0.05, beta=0.2):\n",
    "    t_alpha = stats.norm.ppf(1-alpha/2, loc=0, scale=1)\n",
    "    t_beta = stats.norm.ppf(1-beta, loc=0, scale=1)\n",
    "    z_scores_sum_squared = (t_alpha + t_beta) ** 2\n",
    "    sample_size = int(\n",
    "        np.ceil(\n",
    "            z_scores_sum_squared * (2 * std ** 2) / (epsilon ** 2)\n",
    "        )\n",
    "    )\n",
    "    return sample_size\n",
    "\n",
    "def get_sample_size_arb(mu, std, eff=1.01, alpha=0.05, beta=0.2):\n",
    "    epsilon = (eff - 1) * mu\n",
    "\n",
    "    return get_sample_size_abs(epsilon, std=std, alpha=alpha, beta=beta)\n",
    "\n",
    "def check_ttest(a, b, alpha=0.05):\n",
    "    \"\"\"Тест Стьюдента. Возвращает 1, если отличия значимы.\"\"\"\n",
    "    _, pvalue = stats.ttest_ind(a, b)\n",
    "    return int(pvalue < alpha)"
   ]
  },
  {
   "cell_type": "code",
   "execution_count": null,
   "id": "08938349",
   "metadata": {},
   "outputs": [
    {
     "name": "stdout",
     "output_type": "stream",
     "text": [
      "sample_size = 355889\n",
      "sample_size = 355889\n"
     ]
    }
   ],
   "source": [
    "sample_size = get_sample_size_abs(mean / 100, std, alpha=alpha, beta=beta) # mean / 100 - 1% процент от среднего - т.е. фактическое увеличение на 1 процент в абсолютном значении\n",
    "print(f'sample_size = {sample_size}')\n",
    "\n",
    "sample_size = get_sample_size_arb(mean, std, eff=eff, alpha=alpha, beta=beta)\n",
    "print(f'sample_size = {sample_size}')"
   ]
  },
  {
   "cell_type": "markdown",
   "id": "3ff940ae",
   "metadata": {},
   "source": [
    "Для проведения эксперимента нам требуется 700 000 наблюдений в течение недели.\n",
    "А всего у нас 247000 наблюдений за неделю до эксперимента.\n",
    "\n",
    "Давайте попробуем решить обратную задачу. А какой эффект мы бы смогли обнаружить, \n",
    "проведи мы эксперимент на данной неделе, разбив всех пользователей на две группы?"
   ]
  },
  {
   "cell_type": "code",
   "execution_count": 14,
   "id": "9394dbb0",
   "metadata": {},
   "outputs": [],
   "source": [
    "def get_minimal_determinable_effect(std, sample_size, alpha=0.05, beta=0.2):\n",
    "    t_alpha = stats.norm.ppf(1-alpha/2, loc=0, scale=1)\n",
    "    t_beta = stats.norm.ppf(1-beta, loc=0, scale=1)\n",
    "    disp_sum_sqrt = (2*(std**2))**0.5\n",
    "    mde = ((t_alpha + t_beta) * disp_sum_sqrt)/np.sqrt(sample_size)\n",
    "    return mde"
   ]
  },
  {
   "cell_type": "code",
   "execution_count": 17,
   "id": "70299bf9",
   "metadata": {},
   "outputs": [
    {
     "name": "stdout",
     "output_type": "stream",
     "text": [
      "Максимально доступный размер группы: 123581\n",
      "mde = 1.257\n",
      "mde = 1.697%\n"
     ]
    }
   ],
   "source": [
    "n = web_logs_hist.shape[0] // 2\n",
    "print(f\"Максимально доступный размер группы: {n}\")\n",
    "mde = get_minimal_determinable_effect(std, n, alpha=alpha, beta=beta)\n",
    "print(f'mde = {np.round(mde, 3)}')\n",
    "print(f'mde = {np.round(mde / mean * 100, 3)}%')"
   ]
  },
  {
   "cell_type": "markdown",
   "id": "9e09a04e",
   "metadata": {},
   "source": [
    "Хотим 1%, а можем 1.7%. В будущем мы научимся увеличивать чувствительность тестов с помощью различных техник, \n",
    "а сейчас давайте предположим, что нас устроит чувствительность 3%. \n",
    "То есть мы считаем, что эффект менее 3% для нас незначителен.\n",
    "\n",
    "Давайте оценим, сколько загрузок страниц нам потребуется для оценки эксперимента."
   ]
  },
  {
   "cell_type": "code",
   "execution_count": 18,
   "id": "3906149c",
   "metadata": {},
   "outputs": [
    {
     "name": "stdout",
     "output_type": "stream",
     "text": [
      "sample_size = 39544\n"
     ]
    }
   ],
   "source": [
    "alpha = 0.05\n",
    "beta = 0.2\n",
    "eff = 1.03\n",
    "\n",
    "mean = web_logs_hist['load_time'].mean()\n",
    "std = web_logs_hist['load_time'].std()\n",
    "\n",
    "sample_size = get_sample_size_arb(mean, std, eff=eff, alpha=alpha, beta=beta)\n",
    "print(f'sample_size = {sample_size}')"
   ]
  },
  {
   "cell_type": "markdown",
   "id": "0a7d6316",
   "metadata": {},
   "source": [
    "Таким образом, в каждую группу требуется выделить 40000 событий, связанных с загрузкой страницы, чтобы мы были способны отловить эффект 3% на уровне значимости 0.05 и мощностью 0.8.\n",
    "\n",
    "Но эксперимент мы будем проводить на клиентах, поэтому давайте посчитаем, сколько клиентов требуется выделить в каждую группу. Для этого посчитаем, сколько в среднем каждый клиент делает сессий в течение недели."
   ]
  },
  {
   "cell_type": "code",
   "execution_count": 21,
   "id": "5eb002d9",
   "metadata": {},
   "outputs": [
    {
     "name": "stdout",
     "output_type": "stream",
     "text": [
      "7.015298592188919\n",
      "7.015298592188919\n"
     ]
    }
   ],
   "source": [
    "ratio = web_logs_hist.groupby(['user_id'])['load_time'].count().mean()\n",
    "\n",
    "print(ratio)\n",
    "\n",
    "ratio = web_logs_hist.shape[0] / web_logs_hist['user_id'].nunique()\n",
    "print(ratio)"
   ]
  },
  {
   "cell_type": "code",
   "execution_count": 22,
   "id": "0c703307",
   "metadata": {},
   "outputs": [
    {
     "name": "stdout",
     "output_type": "stream",
     "text": [
      "n_users = 5637\n"
     ]
    }
   ],
   "source": [
    "n_users = int(sample_size / ratio) + 1\n",
    "print(f'n_users = {n_users}')"
   ]
  },
  {
   "cell_type": "markdown",
   "id": "9f35be24",
   "metadata": {},
   "source": [
    "Таким образом, основываясь на исторических данных, в каждую группу требуется выделить 6000 пользователей, \n",
    "которые сгенерируют достаточный трафик, чтобы мы были способны отловить эффект 3% на уровне значимости 0.05 и мощностью 0.8.\n"
   ]
  },
  {
   "cell_type": "markdown",
   "id": "ebffc9d0",
   "metadata": {},
   "source": [
    "### Оценка необходимого размера групп по данным о покупках за неделю с 21 по 28 февраля."
   ]
  },
  {
   "cell_type": "code",
   "execution_count": null,
   "id": "1a60b550",
   "metadata": {},
   "outputs": [
    {
     "data": {
      "text/html": [
       "<div>\n",
       "<style scoped>\n",
       "    .dataframe tbody tr th:only-of-type {\n",
       "        vertical-align: middle;\n",
       "    }\n",
       "\n",
       "    .dataframe tbody tr th {\n",
       "        vertical-align: top;\n",
       "    }\n",
       "\n",
       "    .dataframe thead th {\n",
       "        text-align: right;\n",
       "    }\n",
       "</style>\n",
       "<table border=\"1\" class=\"dataframe\">\n",
       "  <thead>\n",
       "    <tr style=\"text-align: right;\">\n",
       "      <th></th>\n",
       "      <th>sale_id</th>\n",
       "      <th>date</th>\n",
       "      <th>count_pizza</th>\n",
       "      <th>count_drink</th>\n",
       "      <th>price</th>\n",
       "      <th>user_id</th>\n",
       "    </tr>\n",
       "  </thead>\n",
       "  <tbody>\n",
       "    <tr>\n",
       "      <th>0</th>\n",
       "      <td>1000001</td>\n",
       "      <td>2022-02-04 10:00:24</td>\n",
       "      <td>1</td>\n",
       "      <td>0</td>\n",
       "      <td>720</td>\n",
       "      <td>1c1543</td>\n",
       "    </tr>\n",
       "    <tr>\n",
       "      <th>1</th>\n",
       "      <td>1000002</td>\n",
       "      <td>2022-02-04 10:02:28</td>\n",
       "      <td>1</td>\n",
       "      <td>1</td>\n",
       "      <td>930</td>\n",
       "      <td>a9a6e8</td>\n",
       "    </tr>\n",
       "    <tr>\n",
       "      <th>2</th>\n",
       "      <td>1000003</td>\n",
       "      <td>2022-02-04 10:02:35</td>\n",
       "      <td>3</td>\n",
       "      <td>1</td>\n",
       "      <td>1980</td>\n",
       "      <td>23420a</td>\n",
       "    </tr>\n",
       "    <tr>\n",
       "      <th>3</th>\n",
       "      <td>1000004</td>\n",
       "      <td>2022-02-04 10:03:06</td>\n",
       "      <td>1</td>\n",
       "      <td>1</td>\n",
       "      <td>750</td>\n",
       "      <td>3e8ed5</td>\n",
       "    </tr>\n",
       "    <tr>\n",
       "      <th>4</th>\n",
       "      <td>1000005</td>\n",
       "      <td>2022-02-04 10:03:23</td>\n",
       "      <td>1</td>\n",
       "      <td>1</td>\n",
       "      <td>870</td>\n",
       "      <td>cbc468</td>\n",
       "    </tr>\n",
       "  </tbody>\n",
       "</table>\n",
       "</div>"
      ],
      "text/plain": [
       "   sale_id                date  count_pizza  count_drink  price user_id\n",
       "0  1000001 2022-02-04 10:00:24            1            0    720  1c1543\n",
       "1  1000002 2022-02-04 10:02:28            1            1    930  a9a6e8\n",
       "2  1000003 2022-02-04 10:02:35            3            1   1980  23420a\n",
       "3  1000004 2022-02-04 10:03:06            1            1    750  3e8ed5\n",
       "4  1000005 2022-02-04 10:03:23            1            1    870  cbc468"
      ]
     },
     "execution_count": 63,
     "metadata": {},
     "output_type": "execute_result"
    }
   ],
   "source": [
    "# Допустим, мы хотим провести эксперимент, в который попадают клиенты, совершившие покупку во время эксперимента.\n",
    "# Метрика — средняя выручка с пользователя за время эксперимента;\n",
    "# Продолжительность — одна неделя;\n",
    "# Уровень значимости — 0.05;\n",
    "# Допустимая вероятность ошибки II рода — 0.1;\n",
    "# Ожидаемый эффект — 20 рублей.\n",
    "# Оценм необходимый размер групп по данным о покупках за неделю с 21 по 28 февраля.\n",
    "\n",
    "\n",
    "URL_BASE = 'https://raw.githubusercontent.com/ab-courses/simulator-ab-datasets/main/2022-04-01/'\n",
    "\n",
    "epsilon = 20\n",
    "alpha = 0.05\n",
    "beta = 0.1\n",
    "\n",
    "def read_database(file_name):\n",
    "    return pd.read_csv(os.path.join(URL_BASE, file_name))\n",
    "\n",
    "df_sales = read_database('2022-04-01T12_df_sales.csv')\n",
    "df_sales['date'] = pd.to_datetime(df_sales['date'])\n",
    "\n",
    "begin_date = datetime(2022, 2, 21)\n",
    "end_date = datetime(2022, 2, 28)\n",
    "df_sales.head()"
   ]
  },
  {
   "cell_type": "code",
   "execution_count": 80,
   "id": "976b3d59",
   "metadata": {},
   "outputs": [],
   "source": [
    "def get_sample_size_abs(epsilon, std, alpha=0.05, beta=0.2):\n",
    "    t_alpha = stats.norm.ppf(1-alpha/2, loc=0, scale=1)\n",
    "    t_beta = stats.norm.ppf(1-beta, loc=0, scale=1)\n",
    "    z_scores_sum_squared = (t_alpha + t_beta) ** 2\n",
    "    sample_size = int(\n",
    "        np.ceil(\n",
    "            z_scores_sum_squared * (2 * std ** 2) / (epsilon ** 2)\n",
    "        )\n",
    "    )\n",
    "    return sample_size\n",
    "\n",
    "def get_sample_size_arb(mu, std, eff=1.01, alpha=0.05, beta=0.2):\n",
    "    epsilon = (eff - 1) * mu\n",
    "\n",
    "    return get_sample_size_abs(epsilon, std=std, alpha=alpha, beta=beta)"
   ]
  },
  {
   "cell_type": "code",
   "execution_count": null,
   "id": "f615c281",
   "metadata": {},
   "outputs": [
    {
     "name": "stdout",
     "output_type": "stream",
     "text": [
      "std: 811.180, mean: 1234.687\n",
      "Sample size: [метрик по средней выручке] 34570\n"
     ]
    },
    {
     "data": {
      "text/plain": [
       "(24840,)"
      ]
     },
     "execution_count": 96,
     "metadata": {},
     "output_type": "execute_result"
    }
   ],
   "source": [
    "df = df_sales[(df_sales['date']>=begin_date) & (df_sales['date'] < end_date)].groupby('user_id').agg(revenue_per_user = ('price', 'sum')).fillna(0).reset_index()\n",
    "mean_revenue = df['revenue_per_user'].mean()\n",
    "std_revenue = df['revenue_per_user'].std()\n",
    "print(f\"std: {std_revenue:.3f}, mean: {mean_revenue:.3f}\")\n",
    "\n",
    "sample_size = get_sample_size_abs(epsilon, std_revenue, alpha, beta)\n",
    "print('Sample size: [метрик по средней выручке]', round(sample_size, -1))"
   ]
  },
  {
   "cell_type": "code",
   "execution_count": null,
   "id": "c5b5ccb6",
   "metadata": {},
   "outputs": [
    {
     "name": "stdout",
     "output_type": "stream",
     "text": [
      "std: 0.148, mean: 1.020\n",
      "Количество пользователей в одной группе с учетом среднего количества заказов: 33880.0\n"
     ]
    }
   ],
   "source": [
    "df = df_sales[(df_sales['date']>=begin_date) & (df_sales['date'] < end_date)].groupby('user_id').agg(order_per_user = ('sale_id', 'count')).fillna(0).reset_index()\n",
    "mean_orders = df['order_per_user'].mean()\n",
    "std_orders = df['order_per_user'].std()\n",
    "print(f\"std: {std_orders:.3f}, mean: {mean_orders:.3f}\")\n",
    "n_users = np.ceil(sample_size/mean_orders)\n",
    "print(f\"Количество пользователей в одной группе с учетом среднего количества заказов: {n_users}\")"
   ]
  },
  {
   "cell_type": "markdown",
   "id": "a423a22f",
   "metadata": {},
   "source": [
    "### Минимальный эффект который можно отловить"
   ]
  },
  {
   "cell_type": "code",
   "execution_count": null,
   "id": "7cec7962",
   "metadata": {},
   "outputs": [
    {
     "name": "stdout",
     "output_type": "stream",
     "text": [
      "sample_size: 24840\n",
      "Миниальный эффект: 33\n"
     ]
    }
   ],
   "source": [
    "# Task 2.\n",
    "# В прошлом задании получилось, что необходимый размер групп больше имеющихся данных за одну неделю. \n",
    "# Какой минимальный эффект мы можем отловить с теми же вероятностями ошибок на данных\n",
    "# с 21 по 28 февраля?\n",
    "\n",
    "# Ответ округлите до целого значения.\n",
    "\n",
    "def get_minimal_determinable_effect(std, sample_size, alpha=0.05, beta=0.2):\n",
    "    t_alpha = stats.norm.ppf(1-alpha/2, loc=0, scale=1)\n",
    "    t_beta = stats.norm.ppf(1-beta, loc=0, scale=1)\n",
    "    disp_sum_sqrt = (2*(std**2))**0.5\n",
    "    mde = ((t_alpha + t_beta) * disp_sum_sqrt)/np.sqrt(sample_size)\n",
    "    return mde\n",
    "sample_size = df.shape[0]  # по сути число уникальных пользователей сделавших заказ в этот период\n",
    "# df_sales[(df_sales['date']>=begin_date) & (df_sales['date'] < end_date)].user_id.unique().shape[0] # то же самое\n",
    "print(f\"sample_size: {sample_size}\")\n",
    "mde = get_minimal_determinable_effect(std_revenue, sample_size//2, alpha, beta)\n",
    "print(f\"Миниальный эффект: {round(mde)}\")\n"
   ]
  },
  {
   "cell_type": "markdown",
   "id": "487d6b83",
   "metadata": {},
   "source": [
    "### Метод estimate_sample_size класса ExperimentsService"
   ]
  },
  {
   "cell_type": "code",
   "execution_count": null,
   "id": "c9dbce7d",
   "metadata": {},
   "outputs": [
    {
     "name": "stdout",
     "output_type": "stream",
     "text": [
      "9513\n",
      "simple test passed\n"
     ]
    }
   ],
   "source": [
    "\n",
    "# Напишем метод estimate_sample_size класса ExperimentsService. \n",
    "# Размер эффекта задаётся в процентах;\n",
    "# Для вычисления стандартного отклонения используем функцию np.std с параметрами по умолчанию.\n",
    "\n",
    "\n",
    "import numpy as np\n",
    "import pandas as pd\n",
    "from pydantic import BaseModel\n",
    "from scipy import stats\n",
    "\n",
    "\n",
    "class Design(BaseModel):\n",
    "    \"\"\"Дата-класс с описание параметров эксперимента.\n",
    "    \n",
    "    statistical_test - тип статтеста. ['ttest']\n",
    "    effect - размер эффекта в процентах\n",
    "    alpha - уровень значимости\n",
    "    beta - допустимая вероятность ошибки II рода\n",
    "    \"\"\"\n",
    "    statistical_test: str\n",
    "    effect: float\n",
    "    alpha: float\n",
    "    beta: float\n",
    "\n",
    "\n",
    "class ExperimentsService:\n",
    "\n",
    "    def estimate_sample_size(self, metrics, design):\n",
    "        \"\"\"Оцениваем необходимый размер выборки для проверки гипотезы о равенстве средних.\n",
    "        \n",
    "        Для метрик, у которых для одного пользователя одно значение просто вычислите размер групп по формуле.\n",
    "        Для метрик, у которых для одного пользователя несколько значений (например, response_time),\n",
    "            вычислите необходимый объём данных и разделите его на среднее количество значений на одного пользователя.\n",
    "            Пример, если в таблице metrics 1000 наблюдений и 100 уникальных пользователей, и для эксперимента нужно\n",
    "            302 наблюдения, то размер групп будет 31, тк в среднем на одного пользователя 10 наблюдений, то получится\n",
    "            порядка 310 наблюдений в группе.\n",
    "\n",
    "        :param metrics (pd.DataFrame): датафрейм со значениями метрик из MetricsService.\n",
    "            columns=['user_id', 'metric']\n",
    "        :param design (Design): объект с данными, описывающий параметры эксперимента\n",
    "        :return (int): минимально необходимый размер групп (количество пользователей)\n",
    "        \"\"\"\n",
    "        effect = design.effect\n",
    "        alpha = design.alpha\n",
    "        beta = design.beta\n",
    "        std = np.std(metrics['metric'])\n",
    "        mean = np.mean(metrics['metric'])\n",
    "        epsilon = effect / 100 * mean\n",
    "        coef = metrics['user_id'].nunique() / len(metrics)\n",
    "\n",
    "        t_alpha = stats.norm.ppf(1 - alpha/2, loc=0, scale=1)\n",
    "        t_beta = stats.norm.ppf(1 - beta, loc=0, scale=1)\n",
    "        z_scores_sum_squared = (t_alpha + t_beta) ** 2\n",
    "        sample_size = int(np.ceil(z_scores_sum_squared * (2*std ** 2)/(epsilon ** 2) * coef))\n",
    "        # print(sample_size)\n",
    "        return sample_size\n",
    "    \n",
    "if __name__ == '__main__':\n",
    "    metrics = pd.DataFrame({\n",
    "        'user_id': [str(i) for i in range(10)],\n",
    "        'metric': [i for i in range(10)]\n",
    "    })\n",
    "    design = Design(\n",
    "        statistical_test='ttest',\n",
    "        alpha=0.05,\n",
    "        beta=0.1,\n",
    "        effect=3.\n",
    "    )\n",
    "    ideal_sample_size = 9513\n",
    "\n",
    "    experiments_service = ExperimentsService()\n",
    "    sample_size = experiments_service.estimate_sample_size(metrics, design)\n",
    "    assert sample_size == ideal_sample_size, 'Неверно'\n",
    "    print('simple test passed')\n"
   ]
  }
 ],
 "metadata": {
  "kernelspec": {
   "display_name": "Python 3",
   "language": "python",
   "name": "python3"
  },
  "language_info": {
   "codemirror_mode": {
    "name": "ipython",
    "version": 3
   },
   "file_extension": ".py",
   "mimetype": "text/x-python",
   "name": "python",
   "nbconvert_exporter": "python",
   "pygments_lexer": "ipython3",
   "version": "3.12.1"
  }
 },
 "nbformat": 4,
 "nbformat_minor": 5
}
