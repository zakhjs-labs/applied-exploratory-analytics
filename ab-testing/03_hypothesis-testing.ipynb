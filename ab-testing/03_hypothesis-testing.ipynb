{
 "cells": [
  {
   "cell_type": "markdown",
   "id": "0867ddcf",
   "metadata": {},
   "source": [
    "### Проверка значимости отличий средней выручки с пользователя на неделе перед экспериментом (с 2022.03.16 по 2022.03.23)"
   ]
  },
  {
   "cell_type": "code",
   "execution_count": null,
   "id": "1479b299",
   "metadata": {},
   "outputs": [
    {
     "name": "stdout",
     "output_type": "stream",
     "text": [
      "df_sales: \n",
      "    sale_id                 date  count_pizza  count_drink  price user_id\n",
      "0  1000001  2022-02-04 10:00:24            1            0    720  1c1543\n",
      "1  1000002  2022-02-04 10:02:28            1            1    930  a9a6e8\n",
      "2  1000003  2022-02-04 10:02:35            3            1   1980  23420a\n",
      "df_experiment: \n",
      "   user_id  pilot\n",
      "0  0ffc65      0\n",
      "1  b962b9      0\n",
      "2  7ea63f      0\n"
     ]
    }
   ],
   "source": [
    "# Возьмём те же группы, что и в эксперименте с изменением дизайна сайта, \n",
    "# и проверим значимость отличий средней выручки с пользователя на неделе перед экспериментом (c 2022.03.16 по 2022.03.23).\n",
    "# Для решения используются данные из файлов 2022-04-01T12_df_sales.csv и experiment_users.csv.\n",
    "\n",
    "# Importing data\n",
    "import os\n",
    "import pandas as pd\n",
    "from datetime import datetime\n",
    "from scipy import stats\n",
    "\n",
    "URL_BASE = 'https://raw.githubusercontent.com/ab-courses/simulator-ab-datasets/main/2022-04-01/'\n",
    "\n",
    "def read_database(file_name):\n",
    "    return pd.read_csv(os.path.join(URL_BASE, file_name))\n",
    "\n",
    "df_sales = read_database('2022-04-01T12_df_sales.csv')\n",
    "df_experiment = read_database('experiment_users.csv')\n",
    "\n",
    "print(f\"df_sales: \\n {df_sales.head(3)}\")\n",
    "print(f\"df_experiment: \\n {df_experiment.head(3)}\")\n",
    "df_sales['date'] = pd.to_datetime(df_sales['date'])\n",
    "\n",
    "begin_date = datetime(2022, 3, 16)\n",
    "end_date = datetime(2022, 3, 23)"
   ]
  },
  {
   "cell_type": "code",
   "execution_count": 24,
   "id": "035c2274",
   "metadata": {},
   "outputs": [
    {
     "name": "stdout",
     "output_type": "stream",
     "text": [
      "      user_id  pilot   price\n",
      "0      0ffc65      0     0.0\n",
      "1      b962b9      0     0.0\n",
      "2      7ea63f      0     0.0\n",
      "3      7f9a61      0     0.0\n",
      "4      459e55      0  2160.0\n",
      "...       ...    ...     ...\n",
      "23328  b10ce5      1     0.0\n",
      "23329  c5486d      1     0.0\n",
      "23330  53bf9f      1     0.0\n",
      "23331  405a2b      1     0.0\n",
      "23332  a40e01      1  3240.0\n",
      "\n",
      "[23333 rows x 3 columns]\n",
      "p-value равно: 0.199, H0 не можем отклонить\n"
     ]
    }
   ],
   "source": [
    "df_revenue = (\n",
    "    df_sales[(df_sales['date'] >= begin_date) & (df_sales['date'] < end_date)]\n",
    "    .groupby('user_id')[['price']].sum()\n",
    "    .reset_index()\n",
    ")\n",
    "df = pd.merge(df_experiment, df_revenue, on='user_id', how='left').fillna(0)\n",
    "\n",
    "df_control = df[df['pilot'] == 0]['price']\n",
    "df_pilot = df[df['pilot'] == 1]['price']\n",
    "t, p_value = stats.ttest_ind(df_control, df_pilot)\n",
    "print(f\"p-value равно: {p_value:.3f}, H0 {'отклоняем' if p_value<0.05 else 'не можем отклонить'}\")"
   ]
  },
  {
   "cell_type": "markdown",
   "id": "e8505e10",
   "metadata": {},
   "source": [
    "### Оценка среднего времени между покупками."
   ]
  },
  {
   "cell_type": "code",
   "execution_count": null,
   "id": "95c1f683",
   "metadata": {},
   "outputs": [
    {
     "data": {
      "text/html": [
       "<div>\n",
       "<style scoped>\n",
       "    .dataframe tbody tr th:only-of-type {\n",
       "        vertical-align: middle;\n",
       "    }\n",
       "\n",
       "    .dataframe tbody tr th {\n",
       "        vertical-align: top;\n",
       "    }\n",
       "\n",
       "    .dataframe thead th {\n",
       "        text-align: right;\n",
       "    }\n",
       "</style>\n",
       "<table border=\"1\" class=\"dataframe\">\n",
       "  <thead>\n",
       "    <tr style=\"text-align: right;\">\n",
       "      <th></th>\n",
       "      <th>sale_id</th>\n",
       "      <th>date</th>\n",
       "      <th>count_pizza</th>\n",
       "      <th>count_drink</th>\n",
       "      <th>price</th>\n",
       "      <th>user_id</th>\n",
       "    </tr>\n",
       "  </thead>\n",
       "  <tbody>\n",
       "    <tr>\n",
       "      <th>0</th>\n",
       "      <td>1000001</td>\n",
       "      <td>2022-02-04 10:00:24</td>\n",
       "      <td>1</td>\n",
       "      <td>0</td>\n",
       "      <td>720</td>\n",
       "      <td>1c1543</td>\n",
       "    </tr>\n",
       "    <tr>\n",
       "      <th>1</th>\n",
       "      <td>1000002</td>\n",
       "      <td>2022-02-04 10:02:28</td>\n",
       "      <td>1</td>\n",
       "      <td>1</td>\n",
       "      <td>930</td>\n",
       "      <td>a9a6e8</td>\n",
       "    </tr>\n",
       "    <tr>\n",
       "      <th>2</th>\n",
       "      <td>1000003</td>\n",
       "      <td>2022-02-04 10:02:35</td>\n",
       "      <td>3</td>\n",
       "      <td>1</td>\n",
       "      <td>1980</td>\n",
       "      <td>23420a</td>\n",
       "    </tr>\n",
       "    <tr>\n",
       "      <th>3</th>\n",
       "      <td>1000004</td>\n",
       "      <td>2022-02-04 10:03:06</td>\n",
       "      <td>1</td>\n",
       "      <td>1</td>\n",
       "      <td>750</td>\n",
       "      <td>3e8ed5</td>\n",
       "    </tr>\n",
       "    <tr>\n",
       "      <th>4</th>\n",
       "      <td>1000005</td>\n",
       "      <td>2022-02-04 10:03:23</td>\n",
       "      <td>1</td>\n",
       "      <td>1</td>\n",
       "      <td>870</td>\n",
       "      <td>cbc468</td>\n",
       "    </tr>\n",
       "  </tbody>\n",
       "</table>\n",
       "</div>"
      ],
      "text/plain": [
       "   sale_id                date  count_pizza  count_drink  price user_id\n",
       "0  1000001 2022-02-04 10:00:24            1            0    720  1c1543\n",
       "1  1000002 2022-02-04 10:02:28            1            1    930  a9a6e8\n",
       "2  1000003 2022-02-04 10:02:35            3            1   1980  23420a\n",
       "3  1000004 2022-02-04 10:03:06            1            1    750  3e8ed5\n",
       "4  1000005 2022-02-04 10:03:23            1            1    870  cbc468"
      ]
     },
     "execution_count": 25,
     "metadata": {},
     "output_type": "execute_result"
    }
   ],
   "source": [
    "# Оценить среднее время между покупками. Возьмите всех клиентов, у которых 2 и более покупок. \n",
    "# Вычислить время между покупками (для клиента с N покупками должно получиться N-1 значения времени). \n",
    "# Объединить значения всех клиентов и вычислите среднее.\n",
    "# Файл 2022-04-01T12_df_sales.csv.\n",
    "\n",
    "\n",
    "import os\n",
    "from datetime import datetime\n",
    "import pandas as pd\n",
    "import numpy as np\n",
    "from scipy import stats \n",
    "\n",
    "URL_BASE = 'https://raw.githubusercontent.com/ab-courses/simulator-ab-datasets/main/2022-04-01/'\n",
    "\n",
    "def read_database(file_name):\n",
    "    return pd.read_csv(os.path.join(URL_BASE, file_name))\n",
    "\n",
    "df_sales = read_database('2022-04-01T12_df_sales.csv')\n",
    "df_sales['date'] = pd.to_datetime(df_sales['date'])\n",
    "df_sales.head()"
   ]
  },
  {
   "cell_type": "code",
   "execution_count": 52,
   "id": "63389b46",
   "metadata": {},
   "outputs": [
    {
     "data": {
      "text/plain": [
       "17"
      ]
     },
     "execution_count": 52,
     "metadata": {},
     "output_type": "execute_result"
    }
   ],
   "source": [
    "df_sales['count_sales'] = df_sales.groupby('user_id')['sale_id'].transform('count')\n",
    "# print(df_sales.info())\n",
    "df_sales_time_between = df_sales[df_sales['count_sales'] >=2].sort_values(['user_id', 'date'], ascending=True)\n",
    "df_sales_time_between['prev_date'] = df_sales.groupby('user_id', as_index=False)['date'].shift(1)\n",
    "df_sales_time_between['time_delta'] = (df_sales_time_between['date'] - df_sales_time_between['prev_date']) / pd.Timedelta(days=1)\n",
    "mean_delta = round(df_sales_time_between['time_delta'].dropna().mean())\n",
    "mean_delta"
   ]
  },
  {
   "cell_type": "code",
   "execution_count": 56,
   "id": "be7f78e1",
   "metadata": {},
   "outputs": [
    {
     "name": "stdout",
     "output_type": "stream",
     "text": [
      "0.05\n"
     ]
    }
   ],
   "source": [
    "from pydantic import BaseModel\n",
    "\n",
    "class Design(BaseModel):\n",
    "    \"\"\"Дата-класс с описанием параметров эксперимента.\n",
    "    \n",
    "    :param statistical_test: название статистического теста.\n",
    "    :param metric: название метрики.\n",
    "    :param alpha: уровень значимости.\n",
    "    \"\"\"\n",
    "    statistical_test: str\n",
    "    metric: str\n",
    "    alpha: float\n",
    "\n",
    "# Создание экземпляра класса с описанием конкретного эксперимента  \n",
    "my_design = Design(\n",
    "    statistical_test='t-test',\n",
    "    metric='revenue',\n",
    "    alpha=0.05\n",
    ")\n",
    "\n",
    "# Чтобы воспользоваться каким-либо значением из объекта данных, достаточно просто обратиться к нему через точку\n",
    "print(my_design.alpha)"
   ]
  },
  {
   "cell_type": "code",
   "execution_count": 62,
   "id": "eabc784b",
   "metadata": {},
   "outputs": [
    {
     "data": {
      "text/plain": [
       "{'login': 'winner2003', 'subscribed': False, 'age': 22}"
      ]
     },
     "execution_count": 62,
     "metadata": {},
     "output_type": "execute_result"
    }
   ],
   "source": [
    "class User(BaseModel):\n",
    "    login: str\n",
    "    subscribed: bool = False\n",
    "    age: int\n",
    "\n",
    "user = User(login='winner2003', age='22', city='Moscow')\n",
    "user.__dict__"
   ]
  },
  {
   "cell_type": "markdown",
   "id": "91c9274a",
   "metadata": {},
   "source": [
    "#### ExperimentsService\n",
    "Теперь мы начнём реализовывать центральный блок платформы A/B тестирования ExperimentsService, который отвечает за оценку экспериментов."
   ]
  },
  {
   "cell_type": "code",
   "execution_count": null,
   "id": "7f8cb0ba",
   "metadata": {},
   "outputs": [
    {
     "name": "stdout",
     "output_type": "stream",
     "text": [
      "simple test passed\n"
     ]
    }
   ],
   "source": [
    "# Теперь начнём реализовывать центральный блок платформы A/B тестирования ExperimentsService, который отвечает за оценку экспериментов.\n",
    "# Метод get_pvalue класса ExperimentsService\n",
    "\n",
    "import numpy as np\n",
    "from pydantic import BaseModel\n",
    "from scipy import stats\n",
    "\n",
    "\n",
    "class Design(BaseModel):\n",
    "    \"\"\"Дата-класс с описание параметров эксперимента.\"\"\"\n",
    "    statistical_test: str\n",
    "\n",
    "\n",
    "class ExperimentsService:\n",
    "\n",
    "    def get_pvalue(self, metrics_a_group, metrics_b_group, design):\n",
    "        \"\"\"Применяет статтест, возвращает pvalue.\n",
    "\n",
    "        :param metrics_a_group (np.array): массив значений метрик группы A\n",
    "        :param metrics_a_group (np.array): массив значений метрик группы B\n",
    "        :param design (Design): объект с данными, описывающий параметры эксперимента\n",
    "        :return (float): значение p-value\n",
    "        \"\"\"\n",
    "        if design.statistical_test == 'ttest':\n",
    "            _, p_value = stats.ttest_ind(metrics_a_group, metrics_b_group)\n",
    "            return p_value\n",
    "        else:\n",
    "            raise ValueError('Неверный design.statistical_test')\n",
    "\n",
    "if __name__ == '__main__':\n",
    "    metrics_a_group = np.array([964, 1123, 962, 1213, 914, 906, 951, 1033, 987, 1082])\n",
    "    metrics_b_group = np.array([952, 1064, 1091, 1079, 1158, 921, 1161, 1064, 819, 1065])\n",
    "    design = Design(statistical_test='ttest')\n",
    "    ideal_pvalue = 0.612219\n",
    "\n",
    "    experiments_service = ExperimentsService()\n",
    "    pvalue = experiments_service.get_pvalue(metrics_a_group, metrics_b_group, design)\n",
    "    np.testing.assert_almost_equal(ideal_pvalue, pvalue, decimal=4)\n",
    "    print('simple test passed')\n",
    "       "
   ]
  }
 ],
 "metadata": {
  "kernelspec": {
   "display_name": "Python 3",
   "language": "python",
   "name": "python3"
  },
  "language_info": {
   "codemirror_mode": {
    "name": "ipython",
    "version": 3
   },
   "file_extension": ".py",
   "mimetype": "text/x-python",
   "name": "python",
   "nbconvert_exporter": "python",
   "pygments_lexer": "ipython3",
   "version": "3.12.1"
  }
 },
 "nbformat": 4,
 "nbformat_minor": 5
}
