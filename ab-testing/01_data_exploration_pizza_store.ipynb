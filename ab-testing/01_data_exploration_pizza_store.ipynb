{
 "cells": [
  {
   "cell_type": "markdown",
   "id": "ccc985ad",
   "metadata": {},
   "source": [
    "### Pizzeria's data\n",
    "\n",
    "df_sales - информация о покупках, одна строка - один заказ. Атрибуты:\n",
    "- sale_id - идентификатор покупки;\n",
    "- date - дата покупки;\n",
    "- count_pizza - количество пицц в заказе;\n",
    "- count_drink - количество напитков в заказе;\n",
    "- price - стоимость заказа;\n",
    "- user_id - идентификатор пользователя;\n",
    "\n",
    "df_web_logs - талица с логами посещения сайта. Атрибуты:\n",
    "- user_id - идентификатор пользователя;\n",
    "- page - какая страница сайта была открыта. Типы страниц:\n",
    "  - m - страница с меню;\n",
    "  - b - страница с корзиной и подтверждением заказа;\n",
    "  - p - страница с оплатой заказа;\n",
    "- date - дата открытия страницы;\n",
    "- load_time - время загрузки страницы в миллисекундах."
   ]
  },
  {
   "cell_type": "code",
   "execution_count": 42,
   "id": "99375ccb",
   "metadata": {},
   "outputs": [],
   "source": [
    "import os\n",
    "import pandas as pd\n",
    "\n",
    "URL_BASE = 'https://raw.githubusercontent.com/ab-courses/simulator-ab-datasets/main/2022-04-01/'\n",
    "\n",
    "def read_database(file_name):\n",
    "    return pd.read_csv(os.path.join(URL_BASE, file_name))\n",
    "\n",
    "df_sales = read_database('2022-04-01T12_df_sales.csv')\n",
    "df_web_logs = read_database('2022-04-01T12_df_web_logs.csv')\n",
    "\n",
    "df_sales['date'] = pd.to_datetime(df_sales['date'])\n",
    "df_web_logs['date'] = pd.to_datetime(df_web_logs['date'])\n"
   ]
  },
  {
   "cell_type": "code",
   "execution_count": 43,
   "id": "66396237",
   "metadata": {},
   "outputs": [
    {
     "name": "stdout",
     "output_type": "stream",
     "text": [
      "df_web_logs:\n",
      "  user_id page                date  load_time\n",
      "0  f25239    m 2022-02-03 23:45:37       80.8\n",
      "1  06d6df    m 2022-02-03 23:49:56       70.5\n",
      "2  06d6df    m 2022-02-03 23:51:16       89.7\n",
      "3  f25239    m 2022-02-03 23:51:43       74.4\n",
      "4  697870    m 2022-02-03 23:53:12       66.8\n",
      "\n",
      "df_sales:\n",
      "   sale_id                date  count_pizza  count_drink  price user_id\n",
      "0  1000001 2022-02-04 10:00:24            1            0    720  1c1543\n",
      "1  1000002 2022-02-04 10:02:28            1            1    930  a9a6e8\n",
      "2  1000003 2022-02-04 10:02:35            3            1   1980  23420a\n",
      "3  1000004 2022-02-04 10:03:06            1            1    750  3e8ed5\n",
      "4  1000005 2022-02-04 10:03:23            1            1    870  cbc468\n"
     ]
    }
   ],
   "source": [
    "print(f'df_web_logs:\\n{df_web_logs.head()}\\n')\n",
    "print(f'df_sales:\\n{df_sales.head()}')"
   ]
  },
  {
   "cell_type": "code",
   "execution_count": 44,
   "id": "1f73fb7e",
   "metadata": {},
   "outputs": [
    {
     "name": "stdout",
     "output_type": "stream",
     "text": [
      "<class 'pandas.core.frame.DataFrame'>\n",
      "RangeIndex: 203847 entries, 0 to 203846\n",
      "Data columns (total 6 columns):\n",
      " #   Column       Non-Null Count   Dtype         \n",
      "---  ------       --------------   -----         \n",
      " 0   sale_id      203847 non-null  int64         \n",
      " 1   date         203847 non-null  datetime64[ns]\n",
      " 2   count_pizza  203847 non-null  int64         \n",
      " 3   count_drink  203847 non-null  int64         \n",
      " 4   price        203847 non-null  int64         \n",
      " 5   user_id      203847 non-null  object        \n",
      "dtypes: datetime64[ns](1), int64(4), object(1)\n",
      "memory usage: 9.3+ MB\n"
     ]
    }
   ],
   "source": [
    "df_sales.info()"
   ]
  },
  {
   "cell_type": "code",
   "execution_count": 45,
   "id": "36885751",
   "metadata": {},
   "outputs": [
    {
     "name": "stdout",
     "output_type": "stream",
     "text": [
      "<class 'pandas.core.frame.DataFrame'>\n",
      "RangeIndex: 1964507 entries, 0 to 1964506\n",
      "Data columns (total 4 columns):\n",
      " #   Column     Dtype         \n",
      "---  ------     -----         \n",
      " 0   user_id    object        \n",
      " 1   page       object        \n",
      " 2   date       datetime64[ns]\n",
      " 3   load_time  float64       \n",
      "dtypes: datetime64[ns](1), float64(1), object(2)\n",
      "memory usage: 60.0+ MB\n"
     ]
    }
   ],
   "source": [
    "df_web_logs.info()"
   ]
  },
  {
   "cell_type": "code",
   "execution_count": 46,
   "id": "fad63746",
   "metadata": {},
   "outputs": [
    {
     "data": {
      "text/plain": [
       "1206.014363713962"
      ]
     },
     "execution_count": 46,
     "metadata": {},
     "output_type": "execute_result"
    }
   ],
   "source": [
    "# среднее по столбцу\n",
    "df_sales['price'].mean()"
   ]
  },
  {
   "cell_type": "code",
   "execution_count": 47,
   "id": "5eb174f4",
   "metadata": {},
   "outputs": [
    {
     "data": {
      "text/html": [
       "<div>\n",
       "<style scoped>\n",
       "    .dataframe tbody tr th:only-of-type {\n",
       "        vertical-align: middle;\n",
       "    }\n",
       "\n",
       "    .dataframe tbody tr th {\n",
       "        vertical-align: top;\n",
       "    }\n",
       "\n",
       "    .dataframe thead th {\n",
       "        text-align: right;\n",
       "    }\n",
       "</style>\n",
       "<table border=\"1\" class=\"dataframe\">\n",
       "  <thead>\n",
       "    <tr style=\"text-align: right;\">\n",
       "      <th></th>\n",
       "      <th>sale_id</th>\n",
       "      <th>date</th>\n",
       "      <th>count_pizza</th>\n",
       "      <th>count_drink</th>\n",
       "      <th>price</th>\n",
       "      <th>user_id</th>\n",
       "    </tr>\n",
       "  </thead>\n",
       "  <tbody>\n",
       "    <tr>\n",
       "      <th>0</th>\n",
       "      <td>1000001</td>\n",
       "      <td>2022-02-04 10:00:24</td>\n",
       "      <td>1</td>\n",
       "      <td>0</td>\n",
       "      <td>720</td>\n",
       "      <td>1c1543</td>\n",
       "    </tr>\n",
       "    <tr>\n",
       "      <th>77722</th>\n",
       "      <td>1077723</td>\n",
       "      <td>2022-02-25 14:07:20</td>\n",
       "      <td>1</td>\n",
       "      <td>0</td>\n",
       "      <td>720</td>\n",
       "      <td>1c1543</td>\n",
       "    </tr>\n",
       "    <tr>\n",
       "      <th>163390</th>\n",
       "      <td>1163391</td>\n",
       "      <td>2022-03-20 18:16:03</td>\n",
       "      <td>1</td>\n",
       "      <td>0</td>\n",
       "      <td>720</td>\n",
       "      <td>1c1543</td>\n",
       "    </tr>\n",
       "  </tbody>\n",
       "</table>\n",
       "</div>"
      ],
      "text/plain": [
       "        sale_id                date  count_pizza  count_drink  price user_id\n",
       "0       1000001 2022-02-04 10:00:24            1            0    720  1c1543\n",
       "77722   1077723 2022-02-25 14:07:20            1            0    720  1c1543\n",
       "163390  1163391 2022-03-20 18:16:03            1            0    720  1c1543"
      ]
     },
     "execution_count": 47,
     "metadata": {},
     "output_type": "execute_result"
    }
   ],
   "source": [
    "# фильтрация данных\n",
    "df_sales[df_sales['user_id']=='1c1543']"
   ]
  },
  {
   "cell_type": "code",
   "execution_count": 48,
   "id": "01cea190",
   "metadata": {},
   "outputs": [
    {
     "data": {
      "text/plain": [
       "user_id\n",
       "000096    2\n",
       "0000d4    2\n",
       "0000de    3\n",
       "0000e4    2\n",
       "000112    1\n",
       "         ..\n",
       "fffc97    1\n",
       "fffcab    2\n",
       "fffd64    1\n",
       "ffff62    1\n",
       "ffff8f    2\n",
       "Name: price, Length: 99778, dtype: int64"
      ]
     },
     "execution_count": 48,
     "metadata": {},
     "output_type": "execute_result"
    }
   ],
   "source": [
    "# группировка данных\n",
    "df_sales.groupby('user_id')['price'].count()"
   ]
  },
  {
   "cell_type": "code",
   "execution_count": 49,
   "id": "64350244",
   "metadata": {},
   "outputs": [
    {
     "data": {
      "text/plain": [
       "3"
      ]
     },
     "execution_count": 49,
     "metadata": {},
     "output_type": "execute_result"
    }
   ],
   "source": [
    "# проверим что у пользователя '1c1543' действительной 3 покупки\n",
    "df_sales.groupby('user_id')['price'].count()['1c1543']"
   ]
  },
  {
   "cell_type": "markdown",
   "id": "74e73663",
   "metadata": {},
   "source": [
    "### Как часто пользователь заходит на сайт и ничего не покупает в этот день?"
   ]
  },
  {
   "cell_type": "code",
   "execution_count": 50,
   "id": "b299aff5",
   "metadata": {},
   "outputs": [
    {
     "data": {
      "text/html": [
       "<div>\n",
       "<style scoped>\n",
       "    .dataframe tbody tr th:only-of-type {\n",
       "        vertical-align: middle;\n",
       "    }\n",
       "\n",
       "    .dataframe tbody tr th {\n",
       "        vertical-align: top;\n",
       "    }\n",
       "\n",
       "    .dataframe thead th {\n",
       "        text-align: right;\n",
       "    }\n",
       "</style>\n",
       "<table border=\"1\" class=\"dataframe\">\n",
       "  <thead>\n",
       "    <tr style=\"text-align: right;\">\n",
       "      <th></th>\n",
       "      <th>user_id</th>\n",
       "      <th>page</th>\n",
       "      <th>date</th>\n",
       "      <th>load_time</th>\n",
       "    </tr>\n",
       "  </thead>\n",
       "  <tbody>\n",
       "    <tr>\n",
       "      <th>0</th>\n",
       "      <td>f25239</td>\n",
       "      <td>m</td>\n",
       "      <td>2022-02-03 23:45:37</td>\n",
       "      <td>80.8</td>\n",
       "    </tr>\n",
       "    <tr>\n",
       "      <th>1</th>\n",
       "      <td>06d6df</td>\n",
       "      <td>m</td>\n",
       "      <td>2022-02-03 23:49:56</td>\n",
       "      <td>70.5</td>\n",
       "    </tr>\n",
       "    <tr>\n",
       "      <th>2</th>\n",
       "      <td>06d6df</td>\n",
       "      <td>m</td>\n",
       "      <td>2022-02-03 23:51:16</td>\n",
       "      <td>89.7</td>\n",
       "    </tr>\n",
       "    <tr>\n",
       "      <th>3</th>\n",
       "      <td>f25239</td>\n",
       "      <td>m</td>\n",
       "      <td>2022-02-03 23:51:43</td>\n",
       "      <td>74.4</td>\n",
       "    </tr>\n",
       "    <tr>\n",
       "      <th>4</th>\n",
       "      <td>697870</td>\n",
       "      <td>m</td>\n",
       "      <td>2022-02-03 23:53:12</td>\n",
       "      <td>66.8</td>\n",
       "    </tr>\n",
       "  </tbody>\n",
       "</table>\n",
       "</div>"
      ],
      "text/plain": [
       "  user_id page                date  load_time\n",
       "0  f25239    m 2022-02-03 23:45:37       80.8\n",
       "1  06d6df    m 2022-02-03 23:49:56       70.5\n",
       "2  06d6df    m 2022-02-03 23:51:16       89.7\n",
       "3  f25239    m 2022-02-03 23:51:43       74.4\n",
       "4  697870    m 2022-02-03 23:53:12       66.8"
      ]
     },
     "execution_count": 50,
     "metadata": {},
     "output_type": "execute_result"
    }
   ],
   "source": [
    "df_web_logs.head()"
   ]
  },
  {
   "cell_type": "code",
   "execution_count": 51,
   "id": "2fb18779",
   "metadata": {},
   "outputs": [],
   "source": [
    "df_web_logs['day'] = df_web_logs['date'].dt.date\n",
    "df_sales['day'] = df_sales['date'].dt.date"
   ]
  },
  {
   "cell_type": "code",
   "execution_count": 53,
   "id": "7f992977",
   "metadata": {},
   "outputs": [
    {
     "name": "stdout",
     "output_type": "stream",
     "text": [
      "df_sales:\n",
      "    sale_id                date  count_pizza  count_drink  price user_id  \\\n",
      "0  1000001 2022-02-04 10:00:24            1            0    720  1c1543   \n",
      "1  1000002 2022-02-04 10:02:28            1            1    930  a9a6e8   \n",
      "2  1000003 2022-02-04 10:02:35            3            1   1980  23420a   \n",
      "\n",
      "          day  \n",
      "0  2022-02-04  \n",
      "1  2022-02-04  \n",
      "2  2022-02-04  \n",
      "df_web_logs:\n",
      "   user_id page                date  load_time         day\n",
      "0  f25239    m 2022-02-03 23:45:37       80.8  2022-02-03\n",
      "1  06d6df    m 2022-02-03 23:49:56       70.5  2022-02-03\n",
      "2  06d6df    m 2022-02-03 23:51:16       89.7  2022-02-03\n"
     ]
    }
   ],
   "source": [
    "print(f\"df_sales:\\n {df_sales.head(3)}\")\n",
    "print(f\"df_web_logs:\\n {df_web_logs.head(3)}\")"
   ]
  },
  {
   "cell_type": "code",
   "execution_count": 73,
   "id": "dff6b17a",
   "metadata": {},
   "outputs": [
    {
     "name": "stdout",
     "output_type": "stream",
     "text": [
      "user_day_web: \n",
      "                    count_page\n",
      "user_id day                   \n",
      "000096  2022-03-04           8\n",
      "        2022-03-22           7\n",
      "0000d4  2022-02-28           9\n",
      "        2022-03-27          10\n",
      "0000de  2022-02-11           6\n",
      "user_day_sales: \n",
      "                    price\n",
      "user_id day              \n",
      "000096  2022-03-04    720\n",
      "        2022-03-22    720\n",
      "0000d4  2022-02-28    720\n",
      "        2022-03-27    720\n",
      "0000de  2022-02-11    660\n"
     ]
    }
   ],
   "source": [
    "# сделаем таблицы с уникальными парами человек дата\n",
    "user_day_web = df_web_logs[['user_id', 'day', 'page']].groupby(['user_id', 'day']).agg(count_page=('page', 'count'))\n",
    "user_day_sales = df_sales[['user_id', 'day', 'price']].groupby(['user_id', 'day'])[['price']].sum()\n",
    "user_day_web.head()\n",
    "print(f\"user_day_web: \\n{user_day_web.head()}\")\n",
    "print(f\"user_day_sales: \\n{user_day_sales.head()}\")"
   ]
  },
  {
   "cell_type": "code",
   "execution_count": 74,
   "id": "5f39887a",
   "metadata": {},
   "outputs": [
    {
     "data": {
      "text/html": [
       "<div>\n",
       "<style scoped>\n",
       "    .dataframe tbody tr th:only-of-type {\n",
       "        vertical-align: middle;\n",
       "    }\n",
       "\n",
       "    .dataframe tbody tr th {\n",
       "        vertical-align: top;\n",
       "    }\n",
       "\n",
       "    .dataframe thead th {\n",
       "        text-align: right;\n",
       "    }\n",
       "</style>\n",
       "<table border=\"1\" class=\"dataframe\">\n",
       "  <thead>\n",
       "    <tr style=\"text-align: right;\">\n",
       "      <th></th>\n",
       "      <th></th>\n",
       "      <th>price</th>\n",
       "      <th>count_page</th>\n",
       "    </tr>\n",
       "    <tr>\n",
       "      <th>user_id</th>\n",
       "      <th>day</th>\n",
       "      <th></th>\n",
       "      <th></th>\n",
       "    </tr>\n",
       "  </thead>\n",
       "  <tbody>\n",
       "    <tr>\n",
       "      <th rowspan=\"2\" valign=\"top\">000096</th>\n",
       "      <th>2022-03-04</th>\n",
       "      <td>720.0</td>\n",
       "      <td>8</td>\n",
       "    </tr>\n",
       "    <tr>\n",
       "      <th>2022-03-22</th>\n",
       "      <td>720.0</td>\n",
       "      <td>7</td>\n",
       "    </tr>\n",
       "    <tr>\n",
       "      <th rowspan=\"2\" valign=\"top\">0000d4</th>\n",
       "      <th>2022-02-28</th>\n",
       "      <td>720.0</td>\n",
       "      <td>9</td>\n",
       "    </tr>\n",
       "    <tr>\n",
       "      <th>2022-03-27</th>\n",
       "      <td>720.0</td>\n",
       "      <td>10</td>\n",
       "    </tr>\n",
       "    <tr>\n",
       "      <th>0000de</th>\n",
       "      <th>2022-02-11</th>\n",
       "      <td>660.0</td>\n",
       "      <td>6</td>\n",
       "    </tr>\n",
       "    <tr>\n",
       "      <th>...</th>\n",
       "      <th>...</th>\n",
       "      <td>...</td>\n",
       "      <td>...</td>\n",
       "    </tr>\n",
       "    <tr>\n",
       "      <th rowspan=\"2\" valign=\"top\">ffff18</th>\n",
       "      <th>2022-02-21</th>\n",
       "      <td>NaN</td>\n",
       "      <td>3</td>\n",
       "    </tr>\n",
       "    <tr>\n",
       "      <th>2022-03-28</th>\n",
       "      <td>NaN</td>\n",
       "      <td>4</td>\n",
       "    </tr>\n",
       "    <tr>\n",
       "      <th>ffff62</th>\n",
       "      <th>2022-03-19</th>\n",
       "      <td>2220.0</td>\n",
       "      <td>8</td>\n",
       "    </tr>\n",
       "    <tr>\n",
       "      <th rowspan=\"2\" valign=\"top\">ffff8f</th>\n",
       "      <th>2022-02-05</th>\n",
       "      <td>2220.0</td>\n",
       "      <td>12</td>\n",
       "    </tr>\n",
       "    <tr>\n",
       "      <th>2022-02-13</th>\n",
       "      <td>600.0</td>\n",
       "      <td>8</td>\n",
       "    </tr>\n",
       "  </tbody>\n",
       "</table>\n",
       "<p>303127 rows × 2 columns</p>\n",
       "</div>"
      ],
      "text/plain": [
       "                     price  count_page\n",
       "user_id day                           \n",
       "000096  2022-03-04   720.0           8\n",
       "        2022-03-22   720.0           7\n",
       "0000d4  2022-02-28   720.0           9\n",
       "        2022-03-27   720.0          10\n",
       "0000de  2022-02-11   660.0           6\n",
       "...                    ...         ...\n",
       "ffff18  2022-02-21     NaN           3\n",
       "        2022-03-28     NaN           4\n",
       "ffff62  2022-03-19  2220.0           8\n",
       "ffff8f  2022-02-05  2220.0          12\n",
       "        2022-02-13   600.0           8\n",
       "\n",
       "[303127 rows x 2 columns]"
      ]
     },
     "execution_count": 74,
     "metadata": {},
     "output_type": "execute_result"
    }
   ],
   "source": [
    "# соединяем таблицы \n",
    "merged_df = pd.merge(\n",
    "    user_day_sales,\n",
    "    user_day_web,\n",
    "    left_index=True,\n",
    "    right_index=True,\n",
    "    how='outer'\n",
    ")\n",
    "merged_df"
   ]
  },
  {
   "cell_type": "code",
   "execution_count": 102,
   "id": "3ee45c42",
   "metadata": {},
   "outputs": [
    {
     "name": "stdout",
     "output_type": "stream",
     "text": [
      "price                   0.329802\n",
      "count_page              0.000000\n",
      "day_without_purchase    0.000000\n",
      "dtype: float64\n",
      "Общее количество посещений: 303127\n",
      "Посещение без покупок: 99972\n",
      "Процент посещений без покупок: 32.98 %\n"
     ]
    }
   ],
   "source": [
    "# считаем доли нулей в таблицах\n",
    "print(merged_df.isnull().mean())\n",
    "total_visit = len(merged_df)\n",
    "merged_df['day_without_purchase'] = merged_df['price'].isna()\n",
    "visits_without_purchase = merged_df['day_without_purchase'].sum()\n",
    "visits_share = round(100*(visits_without_purchase/total_visit), 2)\n",
    "\n",
    "\n",
    "print(f\"Общее количество посещений: {total_visit}\")\n",
    "print(f\"Посещение без покупок: {visits_without_purchase}\")\n",
    "print(f\"Процент посещений без покупок: {visits_share} %\")"
   ]
  },
  {
   "cell_type": "markdown",
   "id": "4ef5c5b3",
   "metadata": {},
   "source": [
    "**Вывод:** \n",
    "- Если делал покупку, то заходил на сайт в этот день;\n",
    "- Если заходил на сайт, то не обязательно покупал;\n",
    "- Доля человеко-дней без покупок 33%."
   ]
  },
  {
   "cell_type": "code",
   "execution_count": 90,
   "id": "0040b3ef",
   "metadata": {},
   "outputs": [
    {
     "data": {
      "text/html": [
       "<div>\n",
       "<style scoped>\n",
       "    .dataframe tbody tr th:only-of-type {\n",
       "        vertical-align: middle;\n",
       "    }\n",
       "\n",
       "    .dataframe tbody tr th {\n",
       "        vertical-align: top;\n",
       "    }\n",
       "\n",
       "    .dataframe thead th {\n",
       "        text-align: right;\n",
       "    }\n",
       "</style>\n",
       "<table border=\"1\" class=\"dataframe\">\n",
       "  <thead>\n",
       "    <tr style=\"text-align: right;\">\n",
       "      <th></th>\n",
       "      <th>user_id</th>\n",
       "      <th>day</th>\n",
       "      <th>visit_count</th>\n",
       "    </tr>\n",
       "  </thead>\n",
       "  <tbody>\n",
       "    <tr>\n",
       "      <th>0</th>\n",
       "      <td>000096</td>\n",
       "      <td>2022-03-04</td>\n",
       "      <td>8</td>\n",
       "    </tr>\n",
       "    <tr>\n",
       "      <th>1</th>\n",
       "      <td>000096</td>\n",
       "      <td>2022-03-22</td>\n",
       "      <td>7</td>\n",
       "    </tr>\n",
       "    <tr>\n",
       "      <th>2</th>\n",
       "      <td>0000d4</td>\n",
       "      <td>2022-02-28</td>\n",
       "      <td>9</td>\n",
       "    </tr>\n",
       "    <tr>\n",
       "      <th>3</th>\n",
       "      <td>0000d4</td>\n",
       "      <td>2022-03-27</td>\n",
       "      <td>10</td>\n",
       "    </tr>\n",
       "    <tr>\n",
       "      <th>4</th>\n",
       "      <td>0000de</td>\n",
       "      <td>2022-02-11</td>\n",
       "      <td>6</td>\n",
       "    </tr>\n",
       "  </tbody>\n",
       "</table>\n",
       "</div>"
      ],
      "text/plain": [
       "  user_id         day  visit_count\n",
       "0  000096  2022-03-04            8\n",
       "1  000096  2022-03-22            7\n",
       "2  0000d4  2022-02-28            9\n",
       "3  0000d4  2022-03-27           10\n",
       "4  0000de  2022-02-11            6"
      ]
     },
     "execution_count": 90,
     "metadata": {},
     "output_type": "execute_result"
    }
   ],
   "source": [
    "user_visits = df_web_logs.groupby(['user_id', 'day']).size().reset_index(name='visit_count')\n",
    "user_visits.head()"
   ]
  },
  {
   "cell_type": "code",
   "execution_count": 91,
   "id": "9ab2dd22",
   "metadata": {},
   "outputs": [
    {
     "data": {
      "text/html": [
       "<div>\n",
       "<style scoped>\n",
       "    .dataframe tbody tr th:only-of-type {\n",
       "        vertical-align: middle;\n",
       "    }\n",
       "\n",
       "    .dataframe tbody tr th {\n",
       "        vertical-align: top;\n",
       "    }\n",
       "\n",
       "    .dataframe thead th {\n",
       "        text-align: right;\n",
       "    }\n",
       "</style>\n",
       "<table border=\"1\" class=\"dataframe\">\n",
       "  <thead>\n",
       "    <tr style=\"text-align: right;\">\n",
       "      <th></th>\n",
       "      <th>user_id</th>\n",
       "      <th>day</th>\n",
       "      <th>purchase_count</th>\n",
       "    </tr>\n",
       "  </thead>\n",
       "  <tbody>\n",
       "    <tr>\n",
       "      <th>0</th>\n",
       "      <td>000096</td>\n",
       "      <td>2022-03-04</td>\n",
       "      <td>1</td>\n",
       "    </tr>\n",
       "    <tr>\n",
       "      <th>1</th>\n",
       "      <td>000096</td>\n",
       "      <td>2022-03-22</td>\n",
       "      <td>1</td>\n",
       "    </tr>\n",
       "    <tr>\n",
       "      <th>2</th>\n",
       "      <td>0000d4</td>\n",
       "      <td>2022-02-28</td>\n",
       "      <td>1</td>\n",
       "    </tr>\n",
       "    <tr>\n",
       "      <th>3</th>\n",
       "      <td>0000d4</td>\n",
       "      <td>2022-03-27</td>\n",
       "      <td>1</td>\n",
       "    </tr>\n",
       "    <tr>\n",
       "      <th>4</th>\n",
       "      <td>0000de</td>\n",
       "      <td>2022-02-11</td>\n",
       "      <td>1</td>\n",
       "    </tr>\n",
       "  </tbody>\n",
       "</table>\n",
       "</div>"
      ],
      "text/plain": [
       "  user_id         day  purchase_count\n",
       "0  000096  2022-03-04               1\n",
       "1  000096  2022-03-22               1\n",
       "2  0000d4  2022-02-28               1\n",
       "3  0000d4  2022-03-27               1\n",
       "4  0000de  2022-02-11               1"
      ]
     },
     "execution_count": 91,
     "metadata": {},
     "output_type": "execute_result"
    }
   ],
   "source": [
    "user_purchases = df_sales.groupby(['user_id', 'day']).size().reset_index(name='purchase_count')\n",
    "user_purchases.head()"
   ]
  },
  {
   "cell_type": "code",
   "execution_count": 93,
   "id": "748c0212",
   "metadata": {},
   "outputs": [],
   "source": [
    "# Соединяем таблицы, чтобы сопоставить посещения и покупки по пользователям и дням.\n",
    "merged_data = pd.merge(\n",
    "    user_visits,\n",
    "    user_purchases,\n",
    "    on=['user_id', 'day'],\n",
    "    how='left'\n",
    ")"
   ]
  },
  {
   "cell_type": "code",
   "execution_count": 94,
   "id": "323cfd5d",
   "metadata": {},
   "outputs": [
    {
     "data": {
      "text/html": [
       "<div>\n",
       "<style scoped>\n",
       "    .dataframe tbody tr th:only-of-type {\n",
       "        vertical-align: middle;\n",
       "    }\n",
       "\n",
       "    .dataframe tbody tr th {\n",
       "        vertical-align: top;\n",
       "    }\n",
       "\n",
       "    .dataframe thead th {\n",
       "        text-align: right;\n",
       "    }\n",
       "</style>\n",
       "<table border=\"1\" class=\"dataframe\">\n",
       "  <thead>\n",
       "    <tr style=\"text-align: right;\">\n",
       "      <th></th>\n",
       "      <th>user_id</th>\n",
       "      <th>day</th>\n",
       "      <th>visit_count</th>\n",
       "      <th>purchase_count</th>\n",
       "      <th>no_purchase</th>\n",
       "    </tr>\n",
       "  </thead>\n",
       "  <tbody>\n",
       "    <tr>\n",
       "      <th>0</th>\n",
       "      <td>000096</td>\n",
       "      <td>2022-03-04</td>\n",
       "      <td>8</td>\n",
       "      <td>1.0</td>\n",
       "      <td>False</td>\n",
       "    </tr>\n",
       "    <tr>\n",
       "      <th>1</th>\n",
       "      <td>000096</td>\n",
       "      <td>2022-03-22</td>\n",
       "      <td>7</td>\n",
       "      <td>1.0</td>\n",
       "      <td>False</td>\n",
       "    </tr>\n",
       "    <tr>\n",
       "      <th>2</th>\n",
       "      <td>0000d4</td>\n",
       "      <td>2022-02-28</td>\n",
       "      <td>9</td>\n",
       "      <td>1.0</td>\n",
       "      <td>False</td>\n",
       "    </tr>\n",
       "    <tr>\n",
       "      <th>3</th>\n",
       "      <td>0000d4</td>\n",
       "      <td>2022-03-27</td>\n",
       "      <td>10</td>\n",
       "      <td>1.0</td>\n",
       "      <td>False</td>\n",
       "    </tr>\n",
       "    <tr>\n",
       "      <th>4</th>\n",
       "      <td>0000de</td>\n",
       "      <td>2022-02-11</td>\n",
       "      <td>6</td>\n",
       "      <td>1.0</td>\n",
       "      <td>False</td>\n",
       "    </tr>\n",
       "    <tr>\n",
       "      <th>...</th>\n",
       "      <td>...</td>\n",
       "      <td>...</td>\n",
       "      <td>...</td>\n",
       "      <td>...</td>\n",
       "      <td>...</td>\n",
       "    </tr>\n",
       "    <tr>\n",
       "      <th>303122</th>\n",
       "      <td>ffff18</td>\n",
       "      <td>2022-02-21</td>\n",
       "      <td>3</td>\n",
       "      <td>NaN</td>\n",
       "      <td>True</td>\n",
       "    </tr>\n",
       "    <tr>\n",
       "      <th>303123</th>\n",
       "      <td>ffff18</td>\n",
       "      <td>2022-03-28</td>\n",
       "      <td>4</td>\n",
       "      <td>NaN</td>\n",
       "      <td>True</td>\n",
       "    </tr>\n",
       "    <tr>\n",
       "      <th>303124</th>\n",
       "      <td>ffff62</td>\n",
       "      <td>2022-03-19</td>\n",
       "      <td>8</td>\n",
       "      <td>1.0</td>\n",
       "      <td>False</td>\n",
       "    </tr>\n",
       "    <tr>\n",
       "      <th>303125</th>\n",
       "      <td>ffff8f</td>\n",
       "      <td>2022-02-05</td>\n",
       "      <td>12</td>\n",
       "      <td>1.0</td>\n",
       "      <td>False</td>\n",
       "    </tr>\n",
       "    <tr>\n",
       "      <th>303126</th>\n",
       "      <td>ffff8f</td>\n",
       "      <td>2022-02-13</td>\n",
       "      <td>8</td>\n",
       "      <td>1.0</td>\n",
       "      <td>False</td>\n",
       "    </tr>\n",
       "  </tbody>\n",
       "</table>\n",
       "<p>303127 rows × 5 columns</p>\n",
       "</div>"
      ],
      "text/plain": [
       "       user_id         day  visit_count  purchase_count  no_purchase\n",
       "0       000096  2022-03-04            8             1.0        False\n",
       "1       000096  2022-03-22            7             1.0        False\n",
       "2       0000d4  2022-02-28            9             1.0        False\n",
       "3       0000d4  2022-03-27           10             1.0        False\n",
       "4       0000de  2022-02-11            6             1.0        False\n",
       "...        ...         ...          ...             ...          ...\n",
       "303122  ffff18  2022-02-21            3             NaN         True\n",
       "303123  ffff18  2022-03-28            4             NaN         True\n",
       "303124  ffff62  2022-03-19            8             1.0        False\n",
       "303125  ffff8f  2022-02-05           12             1.0        False\n",
       "303126  ffff8f  2022-02-13            8             1.0        False\n",
       "\n",
       "[303127 rows x 5 columns]"
      ]
     },
     "execution_count": 94,
     "metadata": {},
     "output_type": "execute_result"
    }
   ],
   "source": [
    "# Определяем \"холостые\" посещения\n",
    "merged_data['no_purchase'] = merged_data['purchase_count'].isna()\n",
    "merged_data"
   ]
  },
  {
   "cell_type": "code",
   "execution_count": 97,
   "id": "707dbdab",
   "metadata": {},
   "outputs": [
    {
     "name": "stdout",
     "output_type": "stream",
     "text": [
      "Общее количество посещений: 303127\n",
      "Количество посещений без покупок: 99972\n",
      "Процент посещений без покупок: 32.98%\n"
     ]
    }
   ],
   "source": [
    "# Считаем общую статистику\n",
    "total_visits = len(merged_data)\n",
    "visits_without_purchase = merged_data['no_purchase'].sum()\n",
    "print(f'Общее количество посещений: {total_visits}')\n",
    "print(f'Количество посещений без покупок: {visits_without_purchase}')\n",
    "percentage = (visits_without_purchase / total_visits) * 100\n",
    "\n",
    "print(f\"Процент посещений без покупок: {percentage:.2f}%\")"
   ]
  },
  {
   "cell_type": "markdown",
   "id": "6d6a4916",
   "metadata": {},
   "source": [
    "### Топ-3 товара по суммарной выручке. "
   ]
  },
  {
   "cell_type": "code",
   "execution_count": 162,
   "id": "aa194733",
   "metadata": {},
   "outputs": [],
   "source": [
    "# Для решения используйте данные из файла 2022-04-01/2022-04-01T12_df_sales_detail.csv.\n",
    "import numpy as np"
   ]
  },
  {
   "cell_type": "code",
   "execution_count": 105,
   "id": "1000215a",
   "metadata": {},
   "outputs": [
    {
     "data": {
      "text/html": [
       "<div>\n",
       "<style scoped>\n",
       "    .dataframe tbody tr th:only-of-type {\n",
       "        vertical-align: middle;\n",
       "    }\n",
       "\n",
       "    .dataframe tbody tr th {\n",
       "        vertical-align: top;\n",
       "    }\n",
       "\n",
       "    .dataframe thead th {\n",
       "        text-align: right;\n",
       "    }\n",
       "</style>\n",
       "<table border=\"1\" class=\"dataframe\">\n",
       "  <thead>\n",
       "    <tr style=\"text-align: right;\">\n",
       "      <th></th>\n",
       "      <th>sale_id</th>\n",
       "      <th>good</th>\n",
       "      <th>price</th>\n",
       "      <th>date</th>\n",
       "      <th>user_id</th>\n",
       "    </tr>\n",
       "  </thead>\n",
       "  <tbody>\n",
       "    <tr>\n",
       "      <th>0</th>\n",
       "      <td>1000001</td>\n",
       "      <td>mexican pizza</td>\n",
       "      <td>720</td>\n",
       "      <td>2022-02-04 10:00:24</td>\n",
       "      <td>1c1543</td>\n",
       "    </tr>\n",
       "    <tr>\n",
       "      <th>1</th>\n",
       "      <td>1000002</td>\n",
       "      <td>chefs pizza</td>\n",
       "      <td>840</td>\n",
       "      <td>2022-02-04 10:02:28</td>\n",
       "      <td>a9a6e8</td>\n",
       "    </tr>\n",
       "    <tr>\n",
       "      <th>2</th>\n",
       "      <td>1000002</td>\n",
       "      <td>orange juice</td>\n",
       "      <td>90</td>\n",
       "      <td>2022-02-04 10:02:28</td>\n",
       "      <td>a9a6e8</td>\n",
       "    </tr>\n",
       "    <tr>\n",
       "      <th>3</th>\n",
       "      <td>1000003</td>\n",
       "      <td>cheese pizza</td>\n",
       "      <td>600</td>\n",
       "      <td>2022-02-04 10:02:35</td>\n",
       "      <td>23420a</td>\n",
       "    </tr>\n",
       "    <tr>\n",
       "      <th>4</th>\n",
       "      <td>1000003</td>\n",
       "      <td>italian pizza</td>\n",
       "      <td>720</td>\n",
       "      <td>2022-02-04 10:02:35</td>\n",
       "      <td>23420a</td>\n",
       "    </tr>\n",
       "  </tbody>\n",
       "</table>\n",
       "</div>"
      ],
      "text/plain": [
       "   sale_id           good  price                 date user_id\n",
       "0  1000001  mexican pizza    720  2022-02-04 10:00:24  1c1543\n",
       "1  1000002    chefs pizza    840  2022-02-04 10:02:28  a9a6e8\n",
       "2  1000002   orange juice     90  2022-02-04 10:02:28  a9a6e8\n",
       "3  1000003   cheese pizza    600  2022-02-04 10:02:35  23420a\n",
       "4  1000003  italian pizza    720  2022-02-04 10:02:35  23420a"
      ]
     },
     "execution_count": 105,
     "metadata": {},
     "output_type": "execute_result"
    }
   ],
   "source": [
    "URL_BASE = 'https://raw.githubusercontent.com/ab-courses/simulator-ab-datasets/main/2022-04-01/'\n",
    "\n",
    "def read_database(file_name):\n",
    "    return pd.read_csv(os.path.join(URL_BASE, file_name))\n",
    "\n",
    "df_sales_detail = read_database('2022-04-01T12_df_sales_detail.csv')\n",
    "df_sales_detail.head()"
   ]
  },
  {
   "cell_type": "code",
   "execution_count": 108,
   "id": "aabe2775",
   "metadata": {},
   "outputs": [
    {
     "name": "stdout",
     "output_type": "stream",
     "text": [
      "<class 'pandas.core.frame.DataFrame'>\n",
      "RangeIndex: 416481 entries, 0 to 416480\n",
      "Data columns (total 5 columns):\n",
      " #   Column   Non-Null Count   Dtype         \n",
      "---  ------   --------------   -----         \n",
      " 0   sale_id  416481 non-null  int64         \n",
      " 1   good     416481 non-null  object        \n",
      " 2   price    416481 non-null  int64         \n",
      " 3   date     416481 non-null  datetime64[ns]\n",
      " 4   user_id  416481 non-null  object        \n",
      "dtypes: datetime64[ns](1), int64(2), object(2)\n",
      "memory usage: 15.9+ MB\n"
     ]
    }
   ],
   "source": [
    "df_sales_detail['date'] = pd.to_datetime(df_sales_detail['date'])\n",
    "df_sales_detail.info()"
   ]
  },
  {
   "cell_type": "code",
   "execution_count": 184,
   "id": "98d3d568",
   "metadata": {},
   "outputs": [
    {
     "name": "stdout",
     "output_type": "stream",
     "text": [
      "Топ 3 товара по суммарной выручке: chefs pizza - 24558240 руб., double pepperoni pizza - 22558380 руб., chicken bbq pizza - 17622540 руб.\n"
     ]
    }
   ],
   "source": [
    "# df_result = df_sales_detail.groupby('good', as_index=False).agg(Count = ('price', 'sum')).sort_values('Count', ascending=False).nlargest(3, 'Count')[['good']]\n",
    "df_result = df_sales_detail.groupby('good', as_index=False) \\\n",
    "            .agg(Revenue = ('price', 'sum')) \\\n",
    "            .sort_values('Revenue', ascending=False) \\\n",
    "            .iloc[:3, :2].to_numpy() # head(3)\n",
    "\n",
    "# print(df_result) # [['chefs pizza' 24558240] ['double pepperoni pizza' 22558380] ['chicken bbq pizza' 17622540]]\n",
    "# print(type(df_result)) # <class 'numpy.ndarray'>\n",
    "print(f'Топ 3 товара по суммарной выручке: {', '.join([f'{product} - {revenue} руб.' for product, revenue in df_result])}')\n",
    "\n",
    "# Solution\n",
    "# top_3_revenue = (\n",
    "#     df_sales_detail\n",
    "#     .groupby('good')['price'].sum()\n",
    "#     .sort_values()[-3:].index.tolist()\n",
    "# )"
   ]
  },
  {
   "cell_type": "markdown",
   "id": "848425d9",
   "metadata": {},
   "source": [
    "### Оценка среднего срока, который проходит от захода пользователя на сайт до совершения покупки. "
   ]
  },
  {
   "cell_type": "code",
   "execution_count": null,
   "id": "b205ddaa",
   "metadata": {},
   "outputs": [
    {
     "name": "stdout",
     "output_type": "stream",
     "text": [
      "df_sales: \n",
      "   sale_id                date  count_pizza  count_drink  price user_id\n",
      "0  1000001 2022-02-04 10:00:24            1            0    720  1c1543\n",
      "1  1000002 2022-02-04 10:02:28            1            1    930  a9a6e8\n",
      "2  1000003 2022-02-04 10:02:35            3            1   1980  23420a\n",
      "3  1000004 2022-02-04 10:03:06            1            1    750  3e8ed5\n",
      "4  1000005 2022-02-04 10:03:23            1            1    870  cbc468\n",
      "df_logs: \n",
      "  user_id page                date  load_time\n",
      "0  f25239    m 2022-02-03 23:45:37       80.8\n",
      "1  06d6df    m 2022-02-03 23:49:56       70.5\n",
      "2  06d6df    m 2022-02-03 23:51:16       89.7\n",
      "3  f25239    m 2022-02-03 23:51:43       74.4\n",
      "4  697870    m 2022-02-03 23:53:12       66.8\n",
      "<class 'pandas.core.frame.DataFrame'>\n",
      "RangeIndex: 203847 entries, 0 to 203846\n",
      "Data columns (total 6 columns):\n",
      " #   Column       Non-Null Count   Dtype         \n",
      "---  ------       --------------   -----         \n",
      " 0   sale_id      203847 non-null  int64         \n",
      " 1   date         203847 non-null  datetime64[ns]\n",
      " 2   count_pizza  203847 non-null  int64         \n",
      " 3   count_drink  203847 non-null  int64         \n",
      " 4   price        203847 non-null  int64         \n",
      " 5   user_id      203847 non-null  object        \n",
      "dtypes: datetime64[ns](1), int64(4), object(1)\n",
      "memory usage: 9.3+ MB\n",
      "df_sales: \n",
      "None\n",
      "<class 'pandas.core.frame.DataFrame'>\n",
      "RangeIndex: 1964507 entries, 0 to 1964506\n",
      "Data columns (total 4 columns):\n",
      " #   Column     Dtype         \n",
      "---  ------     -----         \n",
      " 0   user_id    object        \n",
      " 1   page       object        \n",
      " 2   date       datetime64[ns]\n",
      " 3   load_time  float64       \n",
      "dtypes: datetime64[ns](1), float64(1), object(2)\n",
      "memory usage: 60.0+ MB\n",
      "df_logs: \n",
      "None\n"
     ]
    }
   ],
   "source": [
    "# Будем считать, что заход на сайт относится к покупке, если он был совершён не ранее, чем за два часа до совершения покупки. \n",
    "# Другими словами, для каждой покупки нужно посчитать время, которое проходит от покупки до первого захода на сайт \n",
    "# того же пользователя в течение двух часов перед покупкой. И от полученных значений времени посчитать среднее.\n",
    "# Файлы: 2022-04-01T12_df_sales.csv и 2022-04-01T12_df_web_logs.csv.\n",
    "\n",
    "URL_BASE = 'https://raw.githubusercontent.com/ab-courses/simulator-ab-datasets/main/2022-04-01/'\n",
    "\n",
    "def read_database(file_name: str) -> pd.DataFrame:\n",
    "    return pd.read_csv(os.path.join(URL_BASE, file_name))\n",
    "\n",
    "df_sales = read_database('2022-04-01T12_df_sales.csv')\n",
    "df_logs = read_database('2022-04-01T12_df_web_logs.csv')\n",
    "\n",
    "# конвертируем date[object] -> datetime:\n",
    "df_sales['date'] = pd.to_datetime(df_sales['date'])\n",
    "df_logs['date'] = pd.to_datetime(df_logs['date'])\n",
    "\n",
    "print(f\"df_sales: \\n{df_sales.head()}\")\n",
    "print(f\"df_logs: \\n{df_logs.head()}\")\n",
    "\n",
    "print(f\"df_sales: \\n{df_sales.info()}\")\n",
    "print(f\"df_logs: \\n{df_logs.info()}\")\n"
   ]
  },
  {
   "cell_type": "code",
   "execution_count": 212,
   "id": "39ae500c",
   "metadata": {},
   "outputs": [
    {
     "name": "stdout",
     "output_type": "stream",
     "text": [
      "Время от захода до покупки в течении 2 часов:\n",
      "         user_id           date_sale          date_visit\n",
      "0        1c1543 2022-02-04 10:00:24 2022-02-04 09:50:02\n",
      "1        1c1543 2022-02-04 10:00:24 2022-02-04 09:51:16\n",
      "2        1c1543 2022-02-04 10:00:24 2022-02-04 09:52:58\n",
      "3        1c1543 2022-02-04 10:00:24 2022-02-04 09:57:04\n",
      "4        1c1543 2022-02-04 10:00:24 2022-02-04 09:57:28\n",
      "...         ...                 ...                 ...\n",
      "4622832  cdaabb 2022-04-01 11:59:51 2022-04-01 11:56:06\n",
      "4622833  cdaabb 2022-04-01 11:59:51 2022-04-01 11:57:00\n",
      "4622834  cdaabb 2022-04-01 11:59:51 2022-04-01 11:57:09\n",
      "4622835  cdaabb 2022-04-01 11:59:51 2022-04-01 11:58:57\n",
      "4622836  cdaabb 2022-04-01 11:59:51 2022-04-01 11:59:30\n",
      "\n",
      "[1587227 rows x 3 columns]\n",
      "Ответ: 17\n"
     ]
    }
   ],
   "source": [
    "from datetime import timedelta\n",
    "\n",
    "# объединими таблицы с покупками и логами по пользователям\n",
    "# оставляем только user_id и времена\n",
    "\n",
    "df = pd.merge(\n",
    "    df_sales[['user_id', 'date']].rename(columns={'date': 'date_sale'}),\n",
    "    df_logs[['user_id', 'date']].rename(columns={'date': 'date_visit'}),\n",
    "    on='user_id',\n",
    "    how='inner'\n",
    ")\n",
    "# удаляем строки в которых заход на сайт ранее 2 часов до покупки и после покупки\n",
    "df = df[(df['date_visit'] >= df['date_sale'] - timedelta(hours=2)) & (df['date_visit'] < df['date_sale'])].copy()\n",
    "print(f\"Время от захода до покупки в течении 2 часов:\\n {df}\")\n",
    "\n",
    "# определяем время первого захода на сайт для покупки\n",
    "df_first_web = df.groupby(['user_id', 'date_sale'])[['date_visit']].min().reset_index()\n",
    "df_first_web\n",
    "# # вычисляем время в секундах\n",
    "df_first_web['delta'] = (df_first_web['date_sale'] - df_first_web['date_visit']).dt.total_seconds()\n",
    "\n",
    "# # считаем среднее время и переводим в минуты\n",
    "answer = round(df_first_web['delta'].mean() / 60)\n",
    "print('Ответ:', answer)"
   ]
  },
  {
   "cell_type": "markdown",
   "id": "b84eeddd",
   "metadata": {},
   "source": [
    "### Как много пользователей возвращается из месяца в месяц. Доля пользователей совершивших покупку в феврале и совершила покупку и в марте"
   ]
  },
  {
   "cell_type": "code",
   "execution_count": 213,
   "id": "8faddc27",
   "metadata": {},
   "outputs": [
    {
     "data": {
      "text/html": [
       "<div>\n",
       "<style scoped>\n",
       "    .dataframe tbody tr th:only-of-type {\n",
       "        vertical-align: middle;\n",
       "    }\n",
       "\n",
       "    .dataframe tbody tr th {\n",
       "        vertical-align: top;\n",
       "    }\n",
       "\n",
       "    .dataframe thead th {\n",
       "        text-align: right;\n",
       "    }\n",
       "</style>\n",
       "<table border=\"1\" class=\"dataframe\">\n",
       "  <thead>\n",
       "    <tr style=\"text-align: right;\">\n",
       "      <th></th>\n",
       "      <th>sale_id</th>\n",
       "      <th>date</th>\n",
       "      <th>count_pizza</th>\n",
       "      <th>count_drink</th>\n",
       "      <th>price</th>\n",
       "      <th>user_id</th>\n",
       "    </tr>\n",
       "  </thead>\n",
       "  <tbody>\n",
       "    <tr>\n",
       "      <th>0</th>\n",
       "      <td>1000001</td>\n",
       "      <td>2022-02-04 10:00:24</td>\n",
       "      <td>1</td>\n",
       "      <td>0</td>\n",
       "      <td>720</td>\n",
       "      <td>1c1543</td>\n",
       "    </tr>\n",
       "    <tr>\n",
       "      <th>1</th>\n",
       "      <td>1000002</td>\n",
       "      <td>2022-02-04 10:02:28</td>\n",
       "      <td>1</td>\n",
       "      <td>1</td>\n",
       "      <td>930</td>\n",
       "      <td>a9a6e8</td>\n",
       "    </tr>\n",
       "    <tr>\n",
       "      <th>2</th>\n",
       "      <td>1000003</td>\n",
       "      <td>2022-02-04 10:02:35</td>\n",
       "      <td>3</td>\n",
       "      <td>1</td>\n",
       "      <td>1980</td>\n",
       "      <td>23420a</td>\n",
       "    </tr>\n",
       "    <tr>\n",
       "      <th>3</th>\n",
       "      <td>1000004</td>\n",
       "      <td>2022-02-04 10:03:06</td>\n",
       "      <td>1</td>\n",
       "      <td>1</td>\n",
       "      <td>750</td>\n",
       "      <td>3e8ed5</td>\n",
       "    </tr>\n",
       "    <tr>\n",
       "      <th>4</th>\n",
       "      <td>1000005</td>\n",
       "      <td>2022-02-04 10:03:23</td>\n",
       "      <td>1</td>\n",
       "      <td>1</td>\n",
       "      <td>870</td>\n",
       "      <td>cbc468</td>\n",
       "    </tr>\n",
       "  </tbody>\n",
       "</table>\n",
       "</div>"
      ],
      "text/plain": [
       "   sale_id                date  count_pizza  count_drink  price user_id\n",
       "0  1000001 2022-02-04 10:00:24            1            0    720  1c1543\n",
       "1  1000002 2022-02-04 10:02:28            1            1    930  a9a6e8\n",
       "2  1000003 2022-02-04 10:02:35            3            1   1980  23420a\n",
       "3  1000004 2022-02-04 10:03:06            1            1    750  3e8ed5\n",
       "4  1000005 2022-02-04 10:03:23            1            1    870  cbc468"
      ]
     },
     "execution_count": 213,
     "metadata": {},
     "output_type": "execute_result"
    }
   ],
   "source": [
    "# Для решения используйте данные из файлов 2022-04-01T12_df_sales.csv.\n",
    "# Ответ округлите с точностью до 2-го знака после точки.\n",
    "\n",
    "# Connecting to data source\n",
    "URL_BASE = 'https://raw.githubusercontent.com/ab-courses/simulator-ab-datasets/main/2022-04-01/'\n",
    "\n",
    "def read_database(file_name):\n",
    "    return pd.read_csv(os.path.join(URL_BASE, file_name))\n",
    "\n",
    "df_sales = read_database('2022-04-01T12_df_sales.csv')\n",
    "df_sales['date'] = pd.to_datetime(df_sales['date'])\n",
    "df_sales.head()"
   ]
  },
  {
   "cell_type": "code",
   "execution_count": 229,
   "id": "6337e54c",
   "metadata": {},
   "outputs": [
    {
     "name": "stdout",
     "output_type": "stream",
     "text": [
      "Количество уникальных покупателей в феврале: 69662\n",
      "Количество уникальных покупателей в марте: 75951\n",
      "Количество уникальных покупателей февраль-март : 45872\n",
      "Retention rate (feb-mar): 0.66\n"
     ]
    }
   ],
   "source": [
    "df_sales['month'] = df_sales['date'].dt.month\n",
    "# уникальные пользователя с покупкой в феврале\n",
    "users_feb = df_sales[df_sales['month'] == 2]['user_id'].unique().tolist()\n",
    "print(f\"Количество уникальных покупателей в феврале: {len(users_feb)}\")\n",
    "\n",
    "# пользователи с покупкой в марте\n",
    "users_mar = df_sales[df_sales['month'] == 3]['user_id'].unique().tolist()\n",
    "print(f\"Количество уникальных покупателей в марте: {len(users_mar)}\")\n",
    "# только пользователи с февраля которые покупали в марте\n",
    "users_feb_mar = list(set(users_feb).intersection(set(users_mar)))\n",
    "print(f\"Количество уникальных покупателей февраль-март : {len(users_feb_mar)}\")\n",
    "\n",
    "result = round(len(users_feb_mar)/(len(users_feb)), 2)\n",
    "print(f\"Retention rate (feb-mar): {result}\")"
   ]
  }
 ],
 "metadata": {
  "kernelspec": {
   "display_name": "Python 3",
   "language": "python",
   "name": "python3"
  },
  "language_info": {
   "codemirror_mode": {
    "name": "ipython",
    "version": 3
   },
   "file_extension": ".py",
   "mimetype": "text/x-python",
   "name": "python",
   "nbconvert_exporter": "python",
   "pygments_lexer": "ipython3",
   "version": "3.12.1"
  }
 },
 "nbformat": 4,
 "nbformat_minor": 5
}
