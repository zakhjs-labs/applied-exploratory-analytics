{
 "cells": [
  {
   "cell_type": "markdown",
   "id": "fa269cd0",
   "metadata": {},
   "source": [
    "## **CUPED**"
   ]
  },
  {
   "cell_type": "code",
   "execution_count": 52,
   "id": "a3f0e1dd",
   "metadata": {},
   "outputs": [],
   "source": [
    "import os\n",
    "from datetime import datetime, timedelta\n",
    "import numpy as np\n",
    "import pandas as pd\n",
    "import matplotlib.pyplot as plt\n",
    "from tqdm.notebook import tqdm\n",
    "from scipy import stats\n",
    "import seaborn as sns"
   ]
  },
  {
   "cell_type": "markdown",
   "id": "566d6407",
   "metadata": {},
   "source": [
    "### Data Generation"
   ]
  },
  {
   "cell_type": "code",
   "execution_count": 2,
   "id": "8c2243ea",
   "metadata": {},
   "outputs": [],
   "source": [
    "def generate_data(sample_size, corr=0.8):\n",
    "    \"\"\"Генерируем две выборки с случайным сэмплированием.\n",
    "    \n",
    "    sample_size - размер выборки\n",
    "    corr - корреляция метрики во время эксперимента с метрикой до эксперимента\n",
    "    \n",
    "    return - pd.DataFrame со столбцами ['metric', 'metric_before', 'factor'],\n",
    "        'metric' - значение метрики во время эксперимента,\n",
    "        'metric_before' - значение метрики до время эксперимента.\n",
    "    \"\"\"\n",
    "    means = [5, 5]\n",
    "    cov = [[1, corr], [corr, 1]]\n",
    "    data = np.random.multivariate_normal(means, cov, sample_size)\n",
    "\n",
    "    # print(data)\n",
    "    df = pd.DataFrame({'metric': data[:, 0], 'metric_before': data[:, 1]})\n",
    "    return df"
   ]
  },
  {
   "cell_type": "code",
   "execution_count": 3,
   "id": "290ac0ec",
   "metadata": {},
   "outputs": [
    {
     "data": {
      "text/html": [
       "<div>\n",
       "<style scoped>\n",
       "    .dataframe tbody tr th:only-of-type {\n",
       "        vertical-align: middle;\n",
       "    }\n",
       "\n",
       "    .dataframe tbody tr th {\n",
       "        vertical-align: top;\n",
       "    }\n",
       "\n",
       "    .dataframe thead th {\n",
       "        text-align: right;\n",
       "    }\n",
       "</style>\n",
       "<table border=\"1\" class=\"dataframe\">\n",
       "  <thead>\n",
       "    <tr style=\"text-align: right;\">\n",
       "      <th></th>\n",
       "      <th>metric</th>\n",
       "      <th>metric_before</th>\n",
       "    </tr>\n",
       "  </thead>\n",
       "  <tbody>\n",
       "    <tr>\n",
       "      <th>0</th>\n",
       "      <td>4.879961</td>\n",
       "      <td>5.161342</td>\n",
       "    </tr>\n",
       "    <tr>\n",
       "      <th>1</th>\n",
       "      <td>5.974331</td>\n",
       "      <td>6.270050</td>\n",
       "    </tr>\n",
       "    <tr>\n",
       "      <th>2</th>\n",
       "      <td>5.982078</td>\n",
       "      <td>5.291614</td>\n",
       "    </tr>\n",
       "    <tr>\n",
       "      <th>3</th>\n",
       "      <td>5.980065</td>\n",
       "      <td>5.271637</td>\n",
       "    </tr>\n",
       "    <tr>\n",
       "      <th>4</th>\n",
       "      <td>2.672896</td>\n",
       "      <td>3.895771</td>\n",
       "    </tr>\n",
       "  </tbody>\n",
       "</table>\n",
       "</div>"
      ],
      "text/plain": [
       "     metric  metric_before\n",
       "0  4.879961       5.161342\n",
       "1  5.974331       6.270050\n",
       "2  5.982078       5.291614\n",
       "3  5.980065       5.271637\n",
       "4  2.672896       3.895771"
      ]
     },
     "execution_count": 3,
     "metadata": {},
     "output_type": "execute_result"
    }
   ],
   "source": [
    "df = generate_data(5, 0.6)\n",
    "df"
   ]
  },
  {
   "cell_type": "code",
   "execution_count": 4,
   "id": "78f1bfe0",
   "metadata": {},
   "outputs": [
    {
     "data": {
      "text/html": [
       "<div>\n",
       "<style scoped>\n",
       "    .dataframe tbody tr th:only-of-type {\n",
       "        vertical-align: middle;\n",
       "    }\n",
       "\n",
       "    .dataframe tbody tr th {\n",
       "        vertical-align: top;\n",
       "    }\n",
       "\n",
       "    .dataframe thead th {\n",
       "        text-align: right;\n",
       "    }\n",
       "</style>\n",
       "<table border=\"1\" class=\"dataframe\">\n",
       "  <thead>\n",
       "    <tr style=\"text-align: right;\">\n",
       "      <th></th>\n",
       "      <th>metric</th>\n",
       "      <th>metric_before</th>\n",
       "    </tr>\n",
       "  </thead>\n",
       "  <tbody>\n",
       "    <tr>\n",
       "      <th>metric</th>\n",
       "      <td>1.000</td>\n",
       "      <td>0.875</td>\n",
       "    </tr>\n",
       "    <tr>\n",
       "      <th>metric_before</th>\n",
       "      <td>0.875</td>\n",
       "      <td>1.000</td>\n",
       "    </tr>\n",
       "  </tbody>\n",
       "</table>\n",
       "</div>"
      ],
      "text/plain": [
       "               metric  metric_before\n",
       "metric          1.000          0.875\n",
       "metric_before   0.875          1.000"
      ]
     },
     "execution_count": 4,
     "metadata": {},
     "output_type": "execute_result"
    }
   ],
   "source": [
    "df.corr().round(3)"
   ]
  },
  {
   "cell_type": "markdown",
   "id": "343224ea",
   "metadata": {},
   "source": [
    "### Evaluation of $\\theta$\n",
    "\n",
    "$$\\hat{Y}_{CV} = \\overline{Y} - \\theta \\overline{X} + \\theta\\mathbb{E}X$$\n",
    "\n",
    "$$\\hat{Y}_{CV, i} = Y_i - \\theta X_i + \\theta\\mathbb{E}X$$\n",
    "\n",
    "Формула для оптимального значения $\\theta$:\n",
    "\n",
    "$$\\theta = \\frac{\\mathrm{cov}(Y,X)}{\\mathbb{V} X}$$\n"
   ]
  },
  {
   "cell_type": "code",
   "execution_count": 5,
   "id": "3585a5f6",
   "metadata": {},
   "outputs": [],
   "source": [
    "def calculate_theta(y_control, y_pilot, x_control, x_pilot):\n",
    "    \"\"\"Вычисляем Theta по данным двух групп.\n",
    "\n",
    "    y_control - значения метрики во время пилота на контрольной группе\n",
    "    y_pilot - значения метрики во время пилота на пилотной группе\n",
    "    x_control - значения ковариант на контрольной группе\n",
    "    x_pilot - значения ковариант на пилотной группе\n",
    "    \"\"\"\n",
    "    y = np.hstack([y_control, y_pilot])\n",
    "    x = np.hstack([x_control, x_pilot])\n",
    "    covariance = np.cov(x, y)[0, 1]\n",
    "    # print(f\"cov: {covariance}\")\n",
    "    variance = x.var()\n",
    "    theta = covariance / variance\n",
    "    return theta"
   ]
  },
  {
   "cell_type": "markdown",
   "id": "9aa18c42",
   "metadata": {},
   "source": [
    "Посмотрим, как работает функция. Сгенерируем два датасета, к одному из них добавим эффект, вычислим $\\theta$."
   ]
  },
  {
   "cell_type": "code",
   "execution_count": 6,
   "id": "585b8ec7",
   "metadata": {},
   "outputs": [
    {
     "name": "stdout",
     "output_type": "stream",
     "text": [
      "theta = 0.8154545315362456\n"
     ]
    }
   ],
   "source": [
    "sample_size = 100\n",
    "df_control = generate_data(sample_size)\n",
    "df_pilot = generate_data(sample_size)\n",
    "df_pilot['metric'] += np.random.normal(0.2, 0.1, sample_size)\n",
    "\n",
    "# print(df_pilot.head(3))\n",
    "theta = calculate_theta(\n",
    "    df_control['metric'], df_pilot['metric'],\n",
    "    df_control['metric_before'], df_pilot['metric_before']\n",
    ")\n",
    "print(f'theta = {theta}')"
   ]
  },
  {
   "cell_type": "markdown",
   "id": "5b8223d1",
   "metadata": {},
   "source": [
    "Проверим, действительно ли при таком значении $\\theta$ достигается минимум дисперсии. \n",
    "Для этого вычислим преобразованную метрику и построим график её дисперсии в зависимости от $\\theta$ \n",
    "для пилотной и контрольной групп.\n"
   ]
  },
  {
   "cell_type": "code",
   "execution_count": 7,
   "id": "9de77d25",
   "metadata": {},
   "outputs": [
    {
     "data": {
      "application/vnd.jupyter.widget-view+json": {
       "model_id": "a12e9fc0b71c417292efc460ffce916a",
       "version_major": 2,
       "version_minor": 0
      },
      "text/plain": [
       "  0%|          | 0/1000 [00:00<?, ?it/s]"
      ]
     },
     "metadata": {},
     "output_type": "display_data"
    },
    {
     "data": {
      "image/png": "[encoded data removed]",
      "text/plain": [
       "<Figure size 640x480 with 1 Axes>"
      ]
     },
     "metadata": {},
     "output_type": "display_data"
    }
   ],
   "source": [
    "thetas = np.linspace(0, 1.5, 1000)\n",
    "list_var_control = []\n",
    "list_var_pilot = []\n",
    "\n",
    "for theta_ in tqdm(thetas):\n",
    "    y_cuped_control = df_control['metric'] - theta_ * df_control['metric_before']\n",
    "    y_cuped_pilot = df_pilot['metric'] - theta_ * df_pilot['metric_before']\n",
    "    list_var_control.append(y_cuped_control.var())\n",
    "    list_var_pilot.append(y_cuped_pilot.var())\n",
    "\n",
    "plt.plot(thetas, list_var_control, label='var control')\n",
    "plt.plot(thetas, list_var_pilot, label='var pilot')\n",
    "plt.vlines(theta, 0.2, 0.5, label='theta_0', linewidth=4, alpha=0.5)\n",
    "plt.xlabel('$theta$')\n",
    "plt.ylabel('var')\n",
    "plt.legend()\n",
    "plt.show()"
   ]
  },
  {
   "cell_type": "markdown",
   "id": "d4ca38bd",
   "metadata": {},
   "source": [
    "Действительно, значение $\\theta$, найденное по формуле, близко к оптимальным значениям с минимальными дисперсиями."
   ]
  },
  {
   "cell_type": "markdown",
   "id": "5b1fd683",
   "metadata": {},
   "source": [
    "### Evaluation of Experiments"
   ]
  },
  {
   "cell_type": "code",
   "execution_count": 8,
   "id": "92d9740f",
   "metadata": {},
   "outputs": [],
   "source": [
    "def check_test(df_control, df_pilot):\n",
    "    \"\"\"Проверяет гипотезу о равенстве средних с помощью t-test.\n",
    "\n",
    "    return - pvalue.\n",
    "    \"\"\"\n",
    "    values_control = df_control['metric'].values\n",
    "    values_pilot = df_pilot['metric'].values\n",
    "    _, pvalue = stats.ttest_ind(values_control, values_pilot)\n",
    "    return pvalue\n",
    "\n",
    "\n",
    "def check_cuped_test(df_control, df_pilot, covariate_column):\n",
    "    \"\"\"Проверяет гипотезу о равенстве средних с использованием CUPED.\n",
    "\n",
    "    covariate_column - название стобца с ковариантой\n",
    "\n",
    "    return - pvalue.\n",
    "    \"\"\"\n",
    "    theta = calculate_theta(\n",
    "        df_control['metric'], df_pilot['metric'],\n",
    "        df_control[covariate_column], df_pilot[covariate_column]\n",
    "    )\n",
    "    metric_cuped_control = df_control['metric'] - theta * df_control[covariate_column]\n",
    "    metric_cuped_pilot = df_pilot['metric'] - theta * df_pilot[covariate_column]\n",
    "    _, pvalue = stats.ttest_ind(metric_cuped_control, metric_cuped_pilot)\n",
    "    return pvalue"
   ]
  },
  {
   "cell_type": "markdown",
   "id": "2aa790bc",
   "metadata": {},
   "source": [
    "Посмотрим, как работает `check_cuped_test`. \n",
    "Мы создавали пару датафреймов `df_control`, `df_pilot` с наличием эффекта в пилотной группе. \n",
    "Применим `check_test` и `check_cuped_test` к этим данным.\n"
   ]
  },
  {
   "cell_type": "code",
   "execution_count": 9,
   "id": "4c282402",
   "metadata": {},
   "outputs": [
    {
     "name": "stdout",
     "output_type": "stream",
     "text": [
      "pvalue_ttest = 0.284\n",
      "pvalue_cuped = 0.007\n"
     ]
    }
   ],
   "source": [
    "pvalue_ttest = check_test(df_control, df_pilot)\n",
    "pvalue_cuped = check_cuped_test(df_control, df_pilot, 'metric_before')\n",
    "print(f'pvalue_ttest = {pvalue_ttest:0.3f}')\n",
    "print(f'pvalue_cuped = {pvalue_cuped:0.3f}')"
   ]
  },
  {
   "cell_type": "markdown",
   "id": "c22fabb1",
   "metadata": {},
   "source": [
    "**p-value при применении CUPED стало меньше, чувствительность увеличилась**.\n",
    "\n",
    "#### Evaluation of Probabilities of Type I Errors\n",
    "\n",
    "Проведём много A/A тестов с различными значениями корреляции целевой метрики и ковариаты, \n",
    "затем построим распределение p-value. P-value должно быть распределено равномерно.\n"
   ]
  },
  {
   "cell_type": "code",
   "execution_count": 10,
   "id": "b3ccdf15",
   "metadata": {},
   "outputs": [
    {
     "data": {
      "application/vnd.jupyter.widget-view+json": {
       "model_id": "a770fcf9cf184f33ad0f51319d105c5a",
       "version_major": 2,
       "version_minor": 0
      },
      "text/plain": [
       "  0%|          | 0/1000 [00:00<?, ?it/s]"
      ]
     },
     "metadata": {},
     "output_type": "display_data"
    },
    {
     "data": {
      "image/png": "[encoded data removed]",
      "text/plain": [
       "<Figure size 640x480 with 1 Axes>"
      ]
     },
     "metadata": {},
     "output_type": "display_data"
    }
   ],
   "source": [
    "sample_size = 1000\n",
    "pvalues_cuped = []\n",
    "corrs = np.random.uniform(-1, 1, 1000)\n",
    "\n",
    "for corr in tqdm(corrs):\n",
    "    df_control = generate_data(sample_size, corr)\n",
    "    df_pilot = generate_data(sample_size, corr)\n",
    "    pvalues_cuped.append(check_cuped_test(df_control, df_pilot, 'metric_before'))\n",
    "\n",
    "\n",
    "plt.hist(pvalues_cuped, bins=100, density=True, cumulative=True, alpha=0.5)\n",
    "plt.xlabel('pvalue')\n",
    "plt.plot([0, 1], [0, 1], 'k')\n",
    "plt.show()"
   ]
  },
  {
   "cell_type": "markdown",
   "id": "9c90b6ae",
   "metadata": {},
   "source": [
    "p-value распределено равномерно.\n",
    "\n",
    "#### Comparing the Experiments' Power\n",
    "\n",
    "Проведём много синтетических A/B тестов и построим распределение p-value. \n",
    "Распределение p-value должно быть выпуклым вверх. Чем более оно выпукло, тем мощнее тест.\n"
   ]
  },
  {
   "cell_type": "code",
   "execution_count": 11,
   "id": "8c05a672",
   "metadata": {},
   "outputs": [
    {
     "data": {
      "application/vnd.jupyter.widget-view+json": {
       "model_id": "fddedb96875e446883eec5a3c238194c",
       "version_major": 2,
       "version_minor": 0
      },
      "text/plain": [
       "  0%|          | 0/1000 [00:00<?, ?it/s]"
      ]
     },
     "metadata": {},
     "output_type": "display_data"
    },
    {
     "data": {
      "image/png": "[encoded data removed]",
      "text/plain": [
       "<Figure size 640x480 with 1 Axes>"
      ]
     },
     "metadata": {},
     "output_type": "display_data"
    }
   ],
   "source": [
    "sample_size = 1000\n",
    "pvalues_ttest = []\n",
    "pvalues_cuped = []\n",
    "corrs = np.random.uniform(0.01, 0.99, 1000)\n",
    "\n",
    "for corr in tqdm(corrs):\n",
    "    df_control = generate_data(sample_size, corr)\n",
    "    df_pilot = generate_data(sample_size, corr)\n",
    "    df_pilot['metric'] += np.random.normal(0.1, 0.01, sample_size)\n",
    "    pvalues_ttest.append(check_test(df_control, df_pilot))\n",
    "    pvalues_cuped.append(check_cuped_test(df_control, df_pilot, 'metric_before'))\n",
    "\n",
    "\n",
    "list_pvalues = [pvalues_ttest, pvalues_cuped]\n",
    "list_titles = ['ttest', 'cuped']\n",
    "\n",
    "X = np.linspace(0, 1, 1000)\n",
    "for pvalues, title in zip(reversed(list_pvalues), reversed(list_titles)):\n",
    "    pvalues = np.array(pvalues)\n",
    "    Y = [np.mean(pvalues < x) for x in X]\n",
    "    plt.plot(X, Y, alpha=0.5, linewidth=3, label=title)\n",
    "plt.xlabel('pvalue')\n",
    "plt.xlim([-0.05, 1])\n",
    "plt.plot([0, 1], [0, 1], 'k')\n",
    "plt.legend(loc=5)\n",
    "plt.show()"
   ]
  },
  {
   "cell_type": "markdown",
   "id": "8455345f",
   "metadata": {},
   "source": [
    "**Критерий с использованием CUPED обладает большей мощностью**."
   ]
  },
  {
   "cell_type": "markdown",
   "id": "1c86bad2",
   "metadata": {},
   "source": [
    "\n",
    "### Pizzeria's Data\n",
    "\n",
    "Рассмотрим пример применения CUPED на данных пиццерии. \n",
    "Допустим, мы провели эксперимент на покупателях — высылали письмо с рекламой после покупки. \n",
    "В эксперимент попали только те, кто делал покупку во время эксперимента. \n",
    "Продолжительность эксперимента — 1 неделя. \n",
    "Метрика — средняя выручка с покупателя."
   ]
  },
  {
   "cell_type": "code",
   "execution_count": null,
   "id": "c834d408",
   "metadata": {},
   "outputs": [
    {
     "data": {
      "text/html": [
       "<div>\n",
       "<style scoped>\n",
       "    .dataframe tbody tr th:only-of-type {\n",
       "        vertical-align: middle;\n",
       "    }\n",
       "\n",
       "    .dataframe tbody tr th {\n",
       "        vertical-align: top;\n",
       "    }\n",
       "\n",
       "    .dataframe thead th {\n",
       "        text-align: right;\n",
       "    }\n",
       "</style>\n",
       "<table border=\"1\" class=\"dataframe\">\n",
       "  <thead>\n",
       "    <tr style=\"text-align: right;\">\n",
       "      <th></th>\n",
       "      <th>sale_id</th>\n",
       "      <th>date</th>\n",
       "      <th>count_pizza</th>\n",
       "      <th>count_drink</th>\n",
       "      <th>price</th>\n",
       "      <th>user_id</th>\n",
       "    </tr>\n",
       "  </thead>\n",
       "  <tbody>\n",
       "    <tr>\n",
       "      <th>0</th>\n",
       "      <td>1000001</td>\n",
       "      <td>2022-02-04 10:00:24</td>\n",
       "      <td>1</td>\n",
       "      <td>0</td>\n",
       "      <td>720</td>\n",
       "      <td>1c1543</td>\n",
       "    </tr>\n",
       "    <tr>\n",
       "      <th>1</th>\n",
       "      <td>1000002</td>\n",
       "      <td>2022-02-04 10:02:28</td>\n",
       "      <td>1</td>\n",
       "      <td>1</td>\n",
       "      <td>930</td>\n",
       "      <td>a9a6e8</td>\n",
       "    </tr>\n",
       "    <tr>\n",
       "      <th>2</th>\n",
       "      <td>1000003</td>\n",
       "      <td>2022-02-04 10:02:35</td>\n",
       "      <td>3</td>\n",
       "      <td>1</td>\n",
       "      <td>1980</td>\n",
       "      <td>23420a</td>\n",
       "    </tr>\n",
       "  </tbody>\n",
       "</table>\n",
       "</div>"
      ],
      "text/plain": [
       "   sale_id                date  count_pizza  count_drink  price user_id\n",
       "0  1000001 2022-02-04 10:00:24            1            0    720  1c1543\n",
       "1  1000002 2022-02-04 10:02:28            1            1    930  a9a6e8\n",
       "2  1000003 2022-02-04 10:02:35            3            1   1980  23420a"
      ]
     },
     "execution_count": 12,
     "metadata": {},
     "output_type": "execute_result"
    }
   ],
   "source": [
    "# загрузка данных\n",
    "URL_BASE = 'https://raw.githubusercontent.com/ab-courses/simulator-ab-datasets/main/2022-04-01/'\n",
    "\n",
    "def read_database(file_name):\n",
    "    return pd.read_csv(os.path.join(URL_BASE, file_name))\n",
    "\n",
    "df_sales = read_database('2022-04-01T12_df_sales.csv')\n",
    "df_sales['date'] = pd.to_datetime(df_sales['date'])\n",
    "df_sales.head(3)"
   ]
  },
  {
   "cell_type": "markdown",
   "id": "6dad36ad",
   "metadata": {},
   "source": [
    "df_sales - информация о покупках, одна строка - один заказ. Атрибуты:\n",
    "- sale_id - идентификатор покупки;\n",
    "- date - дата покупки;\n",
    "- count_pizza - количество пицц в заказе;\n",
    "- count_drink - количество напитков в заказе;\n",
    "- price - стоимость заказа;\n",
    "- user_id - идентификатор пользователя;\n"
   ]
  },
  {
   "cell_type": "markdown",
   "id": "47ba5506",
   "metadata": {},
   "source": [
    "Вычислим значения метрики и ковариат: \n",
    "стоимость покупок за 1 неделю до эксперимента и стоимость покупок за 4 недели до эксперимента.\n"
   ]
  },
  {
   "cell_type": "code",
   "execution_count": 42,
   "id": "2dbb5013",
   "metadata": {},
   "outputs": [
    {
     "data": {
      "text/html": [
       "<div>\n",
       "<style scoped>\n",
       "    .dataframe tbody tr th:only-of-type {\n",
       "        vertical-align: middle;\n",
       "    }\n",
       "\n",
       "    .dataframe tbody tr th {\n",
       "        vertical-align: top;\n",
       "    }\n",
       "\n",
       "    .dataframe thead th {\n",
       "        text-align: right;\n",
       "    }\n",
       "</style>\n",
       "<table border=\"1\" class=\"dataframe\">\n",
       "  <thead>\n",
       "    <tr style=\"text-align: right;\">\n",
       "      <th></th>\n",
       "      <th>metric</th>\n",
       "      <th>cov_one</th>\n",
       "      <th>cov_two</th>\n",
       "    </tr>\n",
       "    <tr>\n",
       "      <th>user_id</th>\n",
       "      <th></th>\n",
       "      <th></th>\n",
       "      <th></th>\n",
       "    </tr>\n",
       "  </thead>\n",
       "  <tbody>\n",
       "    <tr>\n",
       "      <th>000096</th>\n",
       "      <td>720</td>\n",
       "      <td>NaN</td>\n",
       "      <td>720.0</td>\n",
       "    </tr>\n",
       "    <tr>\n",
       "      <th>0000d4</th>\n",
       "      <td>720</td>\n",
       "      <td>NaN</td>\n",
       "      <td>720.0</td>\n",
       "    </tr>\n",
       "    <tr>\n",
       "      <th>0000de</th>\n",
       "      <td>660</td>\n",
       "      <td>NaN</td>\n",
       "      <td>660.0</td>\n",
       "    </tr>\n",
       "    <tr>\n",
       "      <th>0000e4</th>\n",
       "      <td>840</td>\n",
       "      <td>NaN</td>\n",
       "      <td>840.0</td>\n",
       "    </tr>\n",
       "    <tr>\n",
       "      <th>0001e2</th>\n",
       "      <td>2430</td>\n",
       "      <td>NaN</td>\n",
       "      <td>NaN</td>\n",
       "    </tr>\n",
       "  </tbody>\n",
       "</table>\n",
       "</div>"
      ],
      "text/plain": [
       "         metric  cov_one  cov_two\n",
       "user_id                          \n",
       "000096      720      NaN    720.0\n",
       "0000d4      720      NaN    720.0\n",
       "0000de      660      NaN    660.0\n",
       "0000e4      840      NaN    840.0\n",
       "0001e2     2430      NaN      NaN"
      ]
     },
     "execution_count": 42,
     "metadata": {},
     "output_type": "execute_result"
    }
   ],
   "source": [
    "begin_exp_date = datetime(2022, 3, 21)\n",
    "end_exp_date = begin_exp_date + timedelta(days=7)\n",
    "\n",
    "df_metrics = (\n",
    "    df_sales\n",
    "    [(df_sales['date'] >= begin_exp_date) & (df_sales['date'] < end_exp_date)]\n",
    "    .groupby('user_id')[['price']].sum()\n",
    "    .rename(columns={'price': 'metric'})\n",
    ")\n",
    "\n",
    "cov_params = [\n",
    "    (timedelta(days=7), 'one',),\n",
    "    (timedelta(days=28), 'two',),\n",
    "]\n",
    "for delta, name in cov_params:\n",
    "    begin_cov_date = begin_exp_date - delta\n",
    "    df_cov = (\n",
    "    df_sales\n",
    "    [(df_sales['date'] >= begin_cov_date) & (df_sales['date'] < begin_exp_date)]\n",
    "    .groupby('user_id')[['price']].sum()\n",
    "    .rename(columns={'price': f'cov_{name}'})\n",
    "    )\n",
    "    df_metrics = pd.merge(\n",
    "      df_metrics,\n",
    "      df_cov,\n",
    "      left_index=True,\n",
    "      right_index=True,\n",
    "      how='left'\n",
    "    )\n",
    "df_metrics.head()"
   ]
  },
  {
   "cell_type": "code",
   "execution_count": 43,
   "id": "7f0717b5",
   "metadata": {},
   "outputs": [
    {
     "data": {
      "text/plain": [
       "metric     0.000000\n",
       "cov_one    0.916514\n",
       "cov_two    0.246482\n",
       "dtype: float64"
      ]
     },
     "execution_count": 43,
     "metadata": {},
     "output_type": "execute_result"
    }
   ],
   "source": [
    "# доля пропусков в столбцах\n",
    "df_metrics.isnull().mean()"
   ]
  },
  {
   "cell_type": "markdown",
   "id": "a28558af",
   "metadata": {},
   "source": [
    "cov_one: выручка за 7 дней до эксперимента (сильно разрежена — 92% пропусков).\n",
    "cov_two: выручка за 28 дней до — более полная и полезная."
   ]
  },
  {
   "cell_type": "code",
   "execution_count": 44,
   "id": "814c92b7",
   "metadata": {},
   "outputs": [],
   "source": [
    "df_metrics.fillna(0, inplace=True)"
   ]
  },
  {
   "cell_type": "code",
   "execution_count": 93,
   "id": "3837553b",
   "metadata": {},
   "outputs": [
    {
     "data": {
      "image/png": "[encoded data removed]",
      "text/plain": [
       "<Figure size 640x480 with 2 Axes>"
      ]
     },
     "metadata": {},
     "output_type": "display_data"
    },
    {
     "data": {
      "text/html": [
       "<div>\n",
       "<style scoped>\n",
       "    .dataframe tbody tr th:only-of-type {\n",
       "        vertical-align: middle;\n",
       "    }\n",
       "\n",
       "    .dataframe tbody tr th {\n",
       "        vertical-align: top;\n",
       "    }\n",
       "\n",
       "    .dataframe thead th {\n",
       "        text-align: right;\n",
       "    }\n",
       "</style>\n",
       "<table border=\"1\" class=\"dataframe\">\n",
       "  <thead>\n",
       "    <tr style=\"text-align: right;\">\n",
       "      <th></th>\n",
       "      <th>metric</th>\n",
       "      <th>cov_one</th>\n",
       "      <th>cov_two</th>\n",
       "    </tr>\n",
       "  </thead>\n",
       "  <tbody>\n",
       "    <tr>\n",
       "      <th>metric</th>\n",
       "      <td>1.000000</td>\n",
       "      <td>0.10148</td>\n",
       "      <td>0.503251</td>\n",
       "    </tr>\n",
       "    <tr>\n",
       "      <th>cov_one</th>\n",
       "      <td>0.101480</td>\n",
       "      <td>1.00000</td>\n",
       "      <td>0.439640</td>\n",
       "    </tr>\n",
       "    <tr>\n",
       "      <th>cov_two</th>\n",
       "      <td>0.503251</td>\n",
       "      <td>0.43964</td>\n",
       "      <td>1.000000</td>\n",
       "    </tr>\n",
       "  </tbody>\n",
       "</table>\n",
       "</div>"
      ],
      "text/plain": [
       "           metric  cov_one   cov_two\n",
       "metric   1.000000  0.10148  0.503251\n",
       "cov_one  0.101480  1.00000  0.439640\n",
       "cov_two  0.503251  0.43964  1.000000"
      ]
     },
     "execution_count": 93,
     "metadata": {},
     "output_type": "execute_result"
    }
   ],
   "source": [
    "# корреляция\n",
    "sns.heatmap(df_metrics.corr(), cmap=\"Purples\", annot=True)\n",
    "plt.show()\n",
    "df_metrics.corr()"
   ]
  },
  {
   "cell_type": "markdown",
   "id": "55c7bd4c",
   "metadata": {},
   "source": [
    "Выберем две группы пользователей размера 10000. \n",
    "Добавим небольшой эффект к экспериментальной группе. \n",
    "Посмотрим, какие будут значения p-value для разных способов:\n"
   ]
  },
  {
   "cell_type": "code",
   "execution_count": 155,
   "id": "acb5248b",
   "metadata": {},
   "outputs": [
    {
     "name": "stdout",
     "output_type": "stream",
     "text": [
      "pvalue без CUPED: 0.0044\n",
      "pvalue с CUPED (cov_one): 0.0066\n",
      "pvalue с CUPED (cov_two): 0.0018\n"
     ]
    }
   ],
   "source": [
    "control_users, pilot_users = np.random.choice(df_metrics.index, (2, 10000,), False)\n",
    "df_control = df_metrics.loc[control_users]\n",
    "df_pilot = df_metrics.loc[pilot_users]\n",
    "df_pilot['metric'] += 30\n",
    "\n",
    "print(f'pvalue без CUPED: {check_test(df_control, df_pilot):0.4f}')\n",
    "\n",
    "for cov_name in ['cov_one', 'cov_two']:\n",
    "    pvalue = check_cuped_test(df_control, df_pilot, cov_name)\n",
    "    print(f'pvalue с CUPED ({cov_name}): {pvalue:0.4f}')"
   ]
  },
  {
   "cell_type": "markdown",
   "id": "a29ec067",
   "metadata": {},
   "source": [
    "Если позапускать ячейку выше несколько раз, **можно найти ситуации, когда с CUPED получаем p-value больше, чем в обычном t-test**. \n",
    "Получается, что **CUPED иногда может приводить к ошибке II рода, когда обычный t-test ошибку бы не допустил**. \n",
    "Все статистические тесты могут ошибаться, нам важно, чтобы они в среднем ошибались реже. \n",
    "Посмотрим на распределения p-value для разных методов.\n"
   ]
  },
  {
   "cell_type": "code",
   "execution_count": 49,
   "id": "7da9105b",
   "metadata": {},
   "outputs": [
    {
     "data": {
      "application/vnd.jupyter.widget-view+json": {
       "model_id": "f0ed0a3b51fa4b3fa522a0b978984415",
       "version_major": 2,
       "version_minor": 0
      },
      "text/plain": [
       "  0%|          | 0/1000 [00:00<?, ?it/s]"
      ]
     },
     "metadata": {},
     "output_type": "display_data"
    },
    {
     "data": {
      "image/png": "[encoded data removed]",
      "text/plain": [
       "<Figure size 640x480 with 1 Axes>"
      ]
     },
     "metadata": {},
     "output_type": "display_data"
    }
   ],
   "source": [
    "sample_size = 10000\n",
    "pvalues_ttest = []\n",
    "pvalues_cuped_cov_one = []\n",
    "pvalues_cuped_cov_two = []\n",
    "\n",
    "for corr in tqdm(corrs):\n",
    "    control_users, pilot_users = np.random.choice(df_metrics.index, (2, sample_size,), False)\n",
    "    df_control = df_metrics.loc[control_users]\n",
    "    df_pilot = df_metrics.loc[pilot_users]\n",
    "    df_pilot['metric'] += 20\n",
    "    pvalues_ttest.append(check_test(df_control, df_pilot))\n",
    "    pvalues_cuped_cov_one.append(check_cuped_test(df_control, df_pilot, 'cov_one'))\n",
    "    pvalues_cuped_cov_two.append(check_cuped_test(df_control, df_pilot, 'cov_two'))\n",
    "\n",
    "\n",
    "list_pvalues = [pvalues_ttest, pvalues_cuped_cov_one, pvalues_cuped_cov_two]\n",
    "list_titles = ['ttest', 'cuped cov one', 'cuped cov two']\n",
    "\n",
    "X = np.linspace(0, 1, 1000)\n",
    "for pvalues, title in zip(reversed(list_pvalues), reversed(list_titles)):\n",
    "    pvalues = np.array(pvalues)\n",
    "    Y = [np.mean(pvalues < x) for x in X]\n",
    "    plt.plot(X, Y, alpha=0.5, linewidth=3, label=title)\n",
    "plt.xlabel('pvalue')\n",
    "plt.xlim([-0.05, 1])\n",
    "plt.plot([0, 1], [0, 1], 'k')\n",
    "plt.legend(loc=5)\n",
    "plt.show()"
   ]
  },
  {
   "cell_type": "markdown",
   "id": "a93bce59",
   "metadata": {},
   "source": [
    "- CUPED с ковариатой \"стоимость покупок за 1 неделю до эксперимента\" практически совпадает по мощности с t-test\n",
    "- CUPED с ковариатой \"стоимость покупок за 4 неделю до эксперимента\" заметно лучше по мощности чем t-test\n",
    "- Если ковариата хорошо предсказывает метрику, CUPED даёт ощутимый прирост мощности."
   ]
  },
  {
   "cell_type": "markdown",
   "id": "07c02b8e",
   "metadata": {},
   "source": [
    "### CUPED + ML\n",
    "\n",
    "Попробуем построить ковариату с ещё большей корреляцией с помощью алгоритмов машинного обучения."
   ]
  },
  {
   "cell_type": "code",
   "execution_count": 166,
   "id": "e1eef8f8",
   "metadata": {},
   "outputs": [],
   "source": [
    "from lightgbm import LGBMRegressor\n",
    "\n",
    "def get_features(df, user_ids, date):\n",
    "    \"\"\"Генерирует признаки для предсказания.\n",
    "\n",
    "    Признаки - стоимости покупок по неделям за 4 недели.\n",
    "    \"\"\"\n",
    "    features = [pd.DataFrame(index=user_ids)]\n",
    "    for delta in range(0, 22, 7):\n",
    "        date_begin = date - timedelta(delta + 7)\n",
    "        date_end = date - timedelta(delta)\n",
    "        features.append(\n",
    "            df_sales\n",
    "            [(df_sales['date'] >= date_begin) & (df_sales['date'] < date_end)]\n",
    "            .groupby('user_id')[['price']].sum()\n",
    "            .rename(columns={'price': f'delta_{delta}'})\n",
    "        )\n",
    "    df_features = pd.concat(features, axis=1).loc[user_ids].fillna(0)\n",
    "    return df_features\n",
    "\n",
    "# данные для обучения\n",
    "df_y_train = (\n",
    "    df_sales\n",
    "    [\n",
    "      (df_sales['date'] >= begin_exp_date - timedelta(7))\n",
    "      & (df_sales['date'] < end_exp_date - timedelta(7))\n",
    "    ]\n",
    "    .groupby('user_id')[['price']].sum()\n",
    "    .rename(columns={'price': 'metric'})\n",
    ")\n",
    "df_x_train = get_features(df_sales, df_y_train.index, begin_exp_date - timedelta(7))\n",
    "# данные для прогноза\n",
    "df_x_test = get_features(df_sales, df_metrics.index, begin_exp_date)"
   ]
  },
  {
   "cell_type": "markdown",
   "id": "914f8c83",
   "metadata": {},
   "source": [
    "**Data**\n",
    "\n",
    "неделя 1, неделя 2, неделя 3, неделя 4, неделя 5, неделя 6\n",
    "\n",
    "\n",
    "**Train Data**\n",
    "\n",
    "признаки (неделя 1, неделя 2, неделя 3, неделя 4) -> прогноз (неделя 5)\n",
    "\n",
    "**Test data**\n",
    "\n",
    "признаки (неделя 2, неделя 3, неделя 4, неделя 5) -> прогноз (неделя 6)"
   ]
  },
  {
   "cell_type": "code",
   "execution_count": 167,
   "id": "d4fe7a18",
   "metadata": {},
   "outputs": [
    {
     "name": "stdout",
     "output_type": "stream",
     "text": [
      "[LightGBM] [Info] Auto-choosing row-wise multi-threading, the overhead of testing was 0.000616 seconds.\n",
      "You can set `force_row_wise=true` to remove the overhead.\n",
      "And if memory is not enough, you can set `force_col_wise=true`.\n",
      "[LightGBM] [Info] Total Bins 460\n",
      "[LightGBM] [Info] Number of data points in the train set: 24815, number of used features: 4\n",
      "[LightGBM] [Info] Start training from score 1226.003224\n"
     ]
    },
    {
     "name": "stderr",
     "output_type": "stream",
     "text": [
      "c:\\Users\\user\\AppData\\Local\\Programs\\Python\\Python312\\Lib\\site-packages\\sklearn\\utils\\validation.py:2739: UserWarning: X does not have valid feature names, but LGBMRegressor was fitted with feature names\n",
      "  warnings.warn(\n"
     ]
    },
    {
     "data": {
      "text/html": [
       "<div>\n",
       "<style scoped>\n",
       "    .dataframe tbody tr th:only-of-type {\n",
       "        vertical-align: middle;\n",
       "    }\n",
       "\n",
       "    .dataframe tbody tr th {\n",
       "        vertical-align: top;\n",
       "    }\n",
       "\n",
       "    .dataframe thead th {\n",
       "        text-align: right;\n",
       "    }\n",
       "</style>\n",
       "<table border=\"1\" class=\"dataframe\">\n",
       "  <thead>\n",
       "    <tr style=\"text-align: right;\">\n",
       "      <th></th>\n",
       "      <th>metric</th>\n",
       "      <th>cov_one</th>\n",
       "      <th>cov_two</th>\n",
       "      <th>predict</th>\n",
       "    </tr>\n",
       "  </thead>\n",
       "  <tbody>\n",
       "    <tr>\n",
       "      <th>metric</th>\n",
       "      <td>1.000000</td>\n",
       "      <td>0.101480</td>\n",
       "      <td>0.503251</td>\n",
       "      <td>0.761580</td>\n",
       "    </tr>\n",
       "    <tr>\n",
       "      <th>cov_one</th>\n",
       "      <td>0.101480</td>\n",
       "      <td>1.000000</td>\n",
       "      <td>0.439640</td>\n",
       "      <td>0.155329</td>\n",
       "    </tr>\n",
       "    <tr>\n",
       "      <th>cov_two</th>\n",
       "      <td>0.503251</td>\n",
       "      <td>0.439640</td>\n",
       "      <td>1.000000</td>\n",
       "      <td>0.657252</td>\n",
       "    </tr>\n",
       "    <tr>\n",
       "      <th>predict</th>\n",
       "      <td>0.761580</td>\n",
       "      <td>0.155329</td>\n",
       "      <td>0.657252</td>\n",
       "      <td>1.000000</td>\n",
       "    </tr>\n",
       "  </tbody>\n",
       "</table>\n",
       "</div>"
      ],
      "text/plain": [
       "           metric   cov_one   cov_two   predict\n",
       "metric   1.000000  0.101480  0.503251  0.761580\n",
       "cov_one  0.101480  1.000000  0.439640  0.155329\n",
       "cov_two  0.503251  0.439640  1.000000  0.657252\n",
       "predict  0.761580  0.155329  0.657252  1.000000"
      ]
     },
     "execution_count": 167,
     "metadata": {},
     "output_type": "execute_result"
    }
   ],
   "source": [
    "# обучение модели\n",
    "model = LGBMRegressor()\n",
    "model.fit(df_x_train.values, df_y_train['metric'].values)\n",
    "\n",
    "# предсказание модели\n",
    "predict = model.predict(df_x_test.values)\n",
    "\n",
    "df_metrics['predict'] = predict\n",
    "df_metrics.corr()"
   ]
  },
  {
   "cell_type": "code",
   "execution_count": 160,
   "id": "ed3e1756",
   "metadata": {},
   "outputs": [
    {
     "data": {
      "text/plain": [
       "user_id\n",
       "000096     773.028687\n",
       "0000d4     773.028687\n",
       "0000de     702.857149\n",
       "0000e4     889.388629\n",
       "0001e2    1247.891826\n",
       "Name: predict, dtype: float64"
      ]
     },
     "execution_count": 160,
     "metadata": {},
     "output_type": "execute_result"
    }
   ],
   "source": [
    "df_metrics['predict'].head()"
   ]
  },
  {
   "cell_type": "markdown",
   "id": "8cbe3b47",
   "metadata": {},
   "source": [
    "Получили **новую ковариату, которая имеет корреляцию больше предыдущих**."
   ]
  },
  {
   "cell_type": "code",
   "execution_count": 161,
   "id": "1ff4653c",
   "metadata": {},
   "outputs": [
    {
     "data": {
      "application/vnd.jupyter.widget-view+json": {
       "model_id": "27f7ebbe63364431bec7075a3f55c6b9",
       "version_major": 2,
       "version_minor": 0
      },
      "text/plain": [
       "  0%|          | 0/1000 [00:00<?, ?it/s]"
      ]
     },
     "metadata": {},
     "output_type": "display_data"
    },
    {
     "data": {
      "image/png": "[encoded data removed]",
      "text/plain": [
       "<Figure size 640x480 with 1 Axes>"
      ]
     },
     "metadata": {},
     "output_type": "display_data"
    }
   ],
   "source": [
    "sample_size = 10000\n",
    "pvalues_ttest = []\n",
    "pvalues_cuped_cov_one = []\n",
    "pvalues_cuped_cov_two = []\n",
    "pvalues_cuped_predict = []\n",
    "\n",
    "for corr in tqdm(corrs):\n",
    "    control_users, pilot_users = np.random.choice(df_metrics.index, (2, sample_size,), False)\n",
    "    df_control = df_metrics.loc[control_users]\n",
    "    df_pilot = df_metrics.loc[pilot_users]\n",
    "    df_pilot['metric'] += 0\n",
    "    pvalues_ttest.append(check_test(df_control, df_pilot))\n",
    "    pvalues_cuped_cov_one.append(check_cuped_test(df_control, df_pilot, 'cov_one'))\n",
    "    pvalues_cuped_cov_two.append(check_cuped_test(df_control, df_pilot, 'cov_two'))\n",
    "    pvalues_cuped_predict.append(check_cuped_test(df_control, df_pilot, 'predict'))\n",
    "\n",
    "\n",
    "list_pvalues = [pvalues_ttest, pvalues_cuped_cov_one, pvalues_cuped_cov_two, pvalues_cuped_predict]\n",
    "list_titles = ['ttest', 'cuped cov one', 'cuped cov two', 'cuped predict']\n",
    "\n",
    "X = np.linspace(0, 1, 1000)\n",
    "for pvalues, title in zip(reversed(list_pvalues), reversed(list_titles)):\n",
    "    pvalues = np.array(pvalues)\n",
    "    Y = [np.mean(pvalues < x) for x in X]\n",
    "    plt.plot(X, Y, alpha=0.5, linewidth=3, label=title)\n",
    "plt.xlabel('pvalue')\n",
    "plt.xlim([-0.05, 1])\n",
    "plt.plot([0, 1], [0, 1], 'k')\n",
    "plt.legend(loc=5)\n",
    "plt.show()"
   ]
  },
  {
   "cell_type": "markdown",
   "id": "4faf6e81",
   "metadata": {},
   "source": [
    "Распределение p-value равномерно для всех вариантов - ошибка 1 рода контролируется"
   ]
  },
  {
   "cell_type": "markdown",
   "id": "bdfa4906",
   "metadata": {},
   "source": [
    "### Оценка эксперимента Sending email (correct link) с использованием CUPED"
   ]
  },
  {
   "cell_type": "code",
   "execution_count": null,
   "id": "ca040a10",
   "metadata": {},
   "outputs": [
    {
     "name": "stdout",
     "output_type": "stream",
     "text": [
      "Experiment dates:  2022-04-25 00:00:00 2022-05-02 00:00:00\n",
      "Cov data dates:  2022-03-28 00:00:00 2022-04-25 00:00:00\n",
      "df_sales: \n",
      "    sale_id                date  count_pizza  count_drink  price user_id\n",
      "0  1000001 2022-02-04 10:00:24            1            0    720  1c1543\n",
      "1  1000002 2022-02-04 10:02:28            1            1    930  a9a6e8\n",
      "2  1000003 2022-02-04 10:02:35            3            1   1980  23420a\n",
      "df_users: \n",
      "   user_id  pilot\n",
      "0  a9a6e8      0\n",
      "1  23420a      0\n",
      "2  cbc468      0\n"
     ]
    }
   ],
   "source": [
    "# Оценим эксперимент «Sending email (correct link)» с использованием CUPED. \n",
    "# В качестве ковариаты используйте выручку пользователей за 4 недели до эксперимента.\n",
    "\n",
    "# Данные эксперимента «Sending email (correct link)»: 2022-05-03/2022-05-03T12_df_sales.csv и 2022-05-03/experiment_users.csv. \n",
    "# Эксперимент проводился с 2022-04-25 по 2022-05-02. Метрика — средняя выручка с клиента.\n",
    "\n",
    "# загрузка данных\n",
    "URL_BASE = 'https://raw.githubusercontent.com/ab-courses/simulator-ab-datasets/main/2022-05-03/'\n",
    "\n",
    "def calculate_theta(y_control, y_pilot, x_control, x_pilot):\n",
    "    \"\"\"Вычисляем Theta по данным двух групп.\n",
    "\n",
    "    y_control - значения метрики во время пилота на контрольной группе\n",
    "    y_pilot - значения метрики во время пилота на пилотной группе\n",
    "    x_control - значения ковариант на контрольной группе\n",
    "    x_pilot - значения ковариант на пилотной группе\n",
    "    \"\"\"\n",
    "    y = np.hstack([y_control, y_pilot])\n",
    "    x = np.hstack([x_control, x_pilot])\n",
    "    covariance = np.cov(x, y)[0, 1]\n",
    "    variance = x.var()\n",
    "    theta = covariance / variance\n",
    "    return theta\n",
    "\n",
    "def check_cuped_test(df_control, df_pilot, covariate_column):\n",
    "    \"\"\"Проверяет гипотезу о равенстве средних с использованием CUPED.\n",
    "\n",
    "    covariate_column - название стобца с ковариантой\n",
    "\n",
    "    return - pvalue.\n",
    "    \"\"\"\n",
    "    theta = calculate_theta(\n",
    "        df_control['metric'], df_pilot['metric'],\n",
    "        df_control[covariate_column], df_pilot[covariate_column]\n",
    "    )\n",
    "    metric_cuped_control = df_control['metric'] - theta * df_control[covariate_column]\n",
    "    metric_cuped_pilot = df_pilot['metric'] - theta * df_pilot[covariate_column]\n",
    "    _, pvalue = stats.ttest_ind(metric_cuped_control, metric_cuped_pilot)\n",
    "    return pvalue\n",
    "\n",
    "\n",
    "def read_database(file_name):\n",
    "    return pd.read_csv(os.path.join(URL_BASE, file_name))\n",
    "\n",
    "df_sales = read_database('2022-05-03T12_df_sales.csv')\n",
    "df_users = read_database('experiment_users.csv')\n",
    "df_sales['date'] = pd.to_datetime(df_sales['date'])\n",
    "\n",
    "# Эксперимент проводился с 2022-04-25 по 2022-05-02. Метрика — средняя выручка с клиента.\n",
    "begin_exp_date = datetime(2022, 4, 25)\n",
    "end_exp_date = datetime(2022, 5, 2)\n",
    "\n",
    "begin_cov_date = begin_exp_date - timedelta(days=28)\n",
    "end_cov_date = begin_exp_date\n",
    "print('Experiment dates: ',begin_exp_date, end_exp_date)\n",
    "print('Cov data dates: ', begin_cov_date, end_cov_date)\n",
    "print('df_sales: \\n', df_sales.head(3))\n",
    "print('df_users: \\n', df_users.head(3))"
   ]
  },
  {
   "cell_type": "code",
   "execution_count": 205,
   "id": "84c3b535",
   "metadata": {},
   "outputs": [
    {
     "name": "stdout",
     "output_type": "stream",
     "text": [
      "Итоговый dataframe:\n",
      "        user_id  pilot  metric     cov\n",
      "109362  95b780      1     0.0  2220.0\n",
      "109363  e8287a      1   720.0   690.0\n",
      "109364  7f272d      1     0.0   840.0\n",
      "109365  3cd81f      1   840.0   600.0\n",
      "109366  a34671      1     0.0  2280.0\n",
      "\n",
      "\n",
      "p-value: 0.0539\n"
     ]
    }
   ],
   "source": [
    "df_metrics = (\n",
    "    df_sales[(df_sales['date'] >= begin_exp_date) & (df_sales['date'] < end_exp_date)]\n",
    "    .groupby('user_id')\n",
    "    .agg(metric = ('price', 'sum'))\n",
    "    .reset_index()\n",
    ")\n",
    "df_cov_metrics = (\n",
    "    df_sales[(df_sales['date'] >= begin_cov_date) & (df_sales['date'] < end_cov_date)]\n",
    "    .groupby('user_id')\n",
    "    .agg(cov = ('price', 'sum'))\n",
    "    .reset_index()\n",
    ")\n",
    "df = df_users.merge(df_metrics, on='user_id', how='left')\n",
    "df = df.merge(df_cov_metrics, on='user_id', how='left').fillna(0)\n",
    "print(f'Итоговый dataframe:\\n', df.tail(5))\n",
    "pvalue = check_cuped_test(df[df['pilot'] == 0], df[df['pilot'] == 1], 'cov')\n",
    "print(f'\\n\\np-value: {pvalue:.4f}')"
   ]
  },
  {
   "cell_type": "markdown",
   "id": "9ff40bf5",
   "metadata": {},
   "source": [
    "### Метод calculate_metric класса MetricsService"
   ]
  },
  {
   "cell_type": "code",
   "execution_count": null,
   "id": "87f5449d",
   "metadata": {},
   "outputs": [
    {
     "name": "stdout",
     "output_type": "stream",
     "text": [
      "simple test passed\n"
     ]
    }
   ],
   "source": [
    "# Доработаем метод calculate_metric класса MetricsService.\n",
    "\n",
    "\n",
    "class DataService:\n",
    "\n",
    "    def __init__(self, table_name_2_table):\n",
    "        self.table_name_2_table = table_name_2_table\n",
    "\n",
    "    def get_data_subset(self, table_name, begin_date, end_date, user_ids=None, columns=None):\n",
    "        df = self.table_name_2_table[table_name]\n",
    "        if begin_date:\n",
    "            df = df[df['date'] >= begin_date]\n",
    "        if end_date:\n",
    "            df = df[df['date'] < end_date]\n",
    "        if user_ids:\n",
    "            df = df[df['user_id'].isin(user_ids)]\n",
    "        if columns:\n",
    "            df = df[columns]\n",
    "        return df.copy()\n",
    "\n",
    "\n",
    "class MetricsService:\n",
    "\n",
    "    def __init__(self, data_service):\n",
    "        \"\"\"Класс для вычисления метрик.\n",
    "\n",
    "        :param data_service (DataService): объект класса, предоставляющий доступ с данным.\n",
    "        \"\"\"\n",
    "        self.data_service = data_service\n",
    "\n",
    "    def _get_data_subset(self, table_name, begin_date, end_date, user_ids=None, columns=None):\n",
    "        \"\"\"Возвращает часть таблицы с данными.\"\"\"\n",
    "        return self.data_service.get_data_subset(table_name, begin_date, end_date, user_ids, columns)\n",
    "\n",
    "    def _calculate_revenue_web(self, begin_date, end_date, user_ids):\n",
    "        \"\"\"Вычисляет метрику суммарная выручка с пользователя за указанный период\n",
    "        для заходивших на сайт в указанный период.\n",
    "\n",
    "        Эта метрика нужна для экспериментов на сайте, когда в эксперимент попадают только те, кто заходил на сайт.\n",
    "        \n",
    "        Нужно вернуть значения user_id и суммарной выручки (sum(price)).\n",
    "        Данный о ценах в таблице 'sales'. Данные о заходивших на сайт в таблице 'web-logs'.\n",
    "        Если пользователь зашёл на сайт и ничего не купил, его суммарная стоимость покупок равна нулю.\n",
    "        Для каждого user_id должно быть ровно одно значение.\n",
    "\n",
    "        :param begin_date, end_date (datetime): период времени, за который нужно считать метрику.\n",
    "            Также за этот период времени нужно выбирать пользователей, которые заходили на сайт.\n",
    "        :param user_id (None, list[str]): id пользователей, по которым нужно отфильтровать полученные значения.\n",
    "        \n",
    "        :return (pd.DataFrame): датафрейм с двумя столбцами ['user_id', 'metric']\n",
    "        \"\"\"\n",
    "        user_ids_ = (\n",
    "            self._get_data_subset('web-logs', begin_date, end_date, user_ids, ['user_id'])\n",
    "            ['user_id'].unique()\n",
    "        )\n",
    "        df = (\n",
    "            self._get_data_subset('sales', begin_date, end_date, user_ids, ['user_id', 'price'])\n",
    "            .groupby('user_id')[['price']].sum().reset_index() \n",
    "            .rename(columns={'price': 'metric'})\n",
    "        )\n",
    "        df = pd.merge(pd.DataFrame({'user_id': user_ids_}), df, on='user_id', how='left').fillna(0)\n",
    "        return df[['user_id', 'metric']]\n",
    "\n",
    "    @staticmethod\n",
    "    def _calculate_cuped_theta(y, y_cov) -> float:\n",
    "        \"\"\"Вычисляем Theta.\n",
    "\n",
    "        y - значения метрики во время пилота\n",
    "        y_cov - значения ковариант\n",
    "        \"\"\"\n",
    "        covariance = np.cov(y_cov, y)[0, 1]\n",
    "        variance = y_cov.var()\n",
    "        theta = covariance / variance\n",
    "        return theta\n",
    "\n",
    "    def _calculate_cuped_metric(self, df) -> pd.Series:\n",
    "        \"\"\"Вычисляем столбец с CUPED метрикой.\n",
    "\n",
    "        :param df: датафрейм с метриками, columns = ['user_id', 'metric', 'metric_cov']\n",
    "        \"\"\"\n",
    "        y = df['metric'].values\n",
    "        y_cov = df['metric_cov'].values\n",
    "        theta = self._calculate_cuped_theta(y, y_cov)\n",
    "        return df['metric'] - theta * (df['metric_cov'] - df['metric_cov'].mean())  # с учетом централизации (когда CUPED как метрика новая)\n",
    "\n",
    "    def calculate_metric(self, metric_name, begin_date, end_date, cuped, user_ids=None):\n",
    "        \"\"\"Считает значения метрики.\n",
    "\n",
    "        :param metric_name (str): название метрики\n",
    "        :param begin_date (datetime): дата начала периода (включая границу)\n",
    "        :param end_date (datetime): дата окончания периода (не включая границу)\n",
    "        :param cuped (str): применение CUPED. ['off', 'on (previous week revenue)']\n",
    "            'off' - не применять CUPED\n",
    "            'on (previous week revenue)' - применяем CUPED, в качестве ковариаты\n",
    "                используем выручку за прошлую неделю\n",
    "        :param user_ids (list[str], None): список пользователей.\n",
    "            Если None, то вычисляет метрику для всех пользователей.\n",
    "        :return df: columns=['user_id', 'metric']\n",
    "        \"\"\"\n",
    "        if metric_name == 'revenue (web)':\n",
    "            if cuped == 'off':\n",
    "                return self._calculate_revenue_web(begin_date, end_date, user_ids)\n",
    "            elif cuped == 'on (previous week revenue)':\n",
    "                df = self._calculate_revenue_web(begin_date, end_date, user_ids)\n",
    "                begin_date_cov, end_date_cov = begin_date - timedelta(days=7), begin_date\n",
    "                df_cov = (\n",
    "                    self._calculate_revenue_web(begin_date_cov, end_date_cov, user_ids)\n",
    "                    .rename(columns={'metric': 'metric_cov'})\n",
    "                )\n",
    "                df = pd.merge(df, df_cov, on='user_id', how='left').fillna(0)\n",
    "                df['metric'] = self._calculate_cuped_metric(df)\n",
    "                return df[['user_id', 'metric']]\n",
    "            else:\n",
    "                raise ValueError('Wrong cuped')\n",
    "        else:\n",
    "            raise ValueError('Wrong metric name')\n",
    "\n",
    "\n",
    "def _chech_df(df, df_ideal, sort_by, reindex=False, set_dtypes=False, decimal=None):\n",
    "    assert isinstance(df, pd.DataFrame), 'Функция вернула не pd.DataFrame.'\n",
    "    assert len(df) == len(df_ideal), 'Неверное количество строк.'\n",
    "    assert len(df.T) == len(df_ideal.T), 'Неверное количество столбцов.'\n",
    "    columns = df_ideal.columns\n",
    "    assert df.columns.isin(columns).sum() == len(df.columns), 'Неверное название столбцов.'\n",
    "    df = df[columns].sort_values(sort_by)\n",
    "    df_ideal = df_ideal.sort_values(sort_by)\n",
    "    if reindex:\n",
    "        df_ideal.index = range(len(df_ideal))\n",
    "        df.index = range(len(df))\n",
    "    if set_dtypes:\n",
    "        for column, dtype in df_ideal.dtypes.to_dict().items():\n",
    "            df[column] = df[column].astype(dtype)\n",
    "    if decimal:\n",
    "        ideal_values = df_ideal.astype(float).values\n",
    "        values = df.astype(float).values\n",
    "        np.testing.assert_almost_equal(ideal_values, values, decimal=decimal)\n",
    "    else:\n",
    "        assert df_ideal.equals(df), 'Итоговый датафрейм не совпадает с верным результатом.'\n",
    "\n",
    "\n",
    "if __name__ == '__main__':\n",
    "    df_sales = pd.DataFrame({\n",
    "        'sale_id': [1, 2, 3, 4, 5],\n",
    "        'date': [datetime(2022, 3, day, 11) for day in range(10, 15)],\n",
    "        'price': [1100, 1500, 2000, 2500, 3000],\n",
    "        'user_id': ['1', '2', '1', '2', '3'],\n",
    "    })\n",
    "    df_web_logs = pd.DataFrame({\n",
    "        'date': [datetime(2022, 3, day, 11) for day in range(10, 15)],\n",
    "        'user_id': ['1', '2', '1', '2', '3'],\n",
    "    })\n",
    "    begin_date = datetime(2022, 3, 12, 0)\n",
    "    end_date = datetime(2022, 3, 19, 0)\n",
    "\n",
    "    ideal_metrics = pd.DataFrame({\n",
    "        'user_id': ['1', '2', '3'],\n",
    "        'metric': [2159.5303, 2933.0110, 2407.45856],\n",
    "    })\n",
    "\n",
    "    data_service = DataService({'sales': df_sales, 'web-logs': df_web_logs})\n",
    "    metrics_service = MetricsService(data_service)\n",
    "    metrics = metrics_service.calculate_metric(\n",
    "        'revenue (web)', begin_date, end_date, 'on (previous week revenue)'\n",
    "    )\n",
    "    _chech_df(metrics, ideal_metrics, ['user_id', 'metric'], True, True, decimal=1)\n",
    "    print('simple test passed')\n"
   ]
  }
 ],
 "metadata": {
  "kernelspec": {
   "display_name": "Python 3",
   "language": "python",
   "name": "python3"
  },
  "language_info": {
   "codemirror_mode": {
    "name": "ipython",
    "version": 3
   },
   "file_extension": ".py",
   "mimetype": "text/x-python",
   "name": "python",
   "nbconvert_exporter": "python",
   "pygments_lexer": "ipython3",
   "version": "3.12.1"
  }
 },
 "nbformat": 4,
 "nbformat_minor": 5
}
