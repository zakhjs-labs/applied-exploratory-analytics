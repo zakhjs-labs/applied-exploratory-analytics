{
 "cells": [
  {
   "cell_type": "markdown",
   "id": "c846bce6",
   "metadata": {},
   "source": [
    "###  Pizzeria's Data"
   ]
  },
  {
   "cell_type": "code",
   "execution_count": 1,
   "id": "32d2378f",
   "metadata": {},
   "outputs": [],
   "source": [
    "import time\n",
    "import os\n",
    "\n",
    "import numpy as np\n",
    "import pandas as pd\n",
    "import matplotlib.pyplot as plt\n",
    "import seaborn as sns\n",
    "import scipy.stats as stats\n",
    "from datetime import datetime\n",
    "\n",
    "from collections import defaultdict\n",
    "from tqdm.notebook import tqdm"
   ]
  },
  {
   "cell_type": "code",
   "execution_count": 2,
   "id": "c5f99795",
   "metadata": {},
   "outputs": [
    {
     "data": {
      "text/html": [
       "<div>\n",
       "<style scoped>\n",
       "    .dataframe tbody tr th:only-of-type {\n",
       "        vertical-align: middle;\n",
       "    }\n",
       "\n",
       "    .dataframe tbody tr th {\n",
       "        vertical-align: top;\n",
       "    }\n",
       "\n",
       "    .dataframe thead th {\n",
       "        text-align: right;\n",
       "    }\n",
       "</style>\n",
       "<table border=\"1\" class=\"dataframe\">\n",
       "  <thead>\n",
       "    <tr style=\"text-align: right;\">\n",
       "      <th></th>\n",
       "      <th>user_id</th>\n",
       "      <th>page</th>\n",
       "      <th>date</th>\n",
       "      <th>load_time</th>\n",
       "    </tr>\n",
       "  </thead>\n",
       "  <tbody>\n",
       "    <tr>\n",
       "      <th>0</th>\n",
       "      <td>f25239</td>\n",
       "      <td>m</td>\n",
       "      <td>2022-02-03 23:45:37</td>\n",
       "      <td>80.8</td>\n",
       "    </tr>\n",
       "    <tr>\n",
       "      <th>1</th>\n",
       "      <td>06d6df</td>\n",
       "      <td>m</td>\n",
       "      <td>2022-02-03 23:49:56</td>\n",
       "      <td>70.5</td>\n",
       "    </tr>\n",
       "    <tr>\n",
       "      <th>2</th>\n",
       "      <td>06d6df</td>\n",
       "      <td>m</td>\n",
       "      <td>2022-02-03 23:51:16</td>\n",
       "      <td>89.7</td>\n",
       "    </tr>\n",
       "  </tbody>\n",
       "</table>\n",
       "</div>"
      ],
      "text/plain": [
       "  user_id page                date  load_time\n",
       "0  f25239    m 2022-02-03 23:45:37       80.8\n",
       "1  06d6df    m 2022-02-03 23:49:56       70.5\n",
       "2  06d6df    m 2022-02-03 23:51:16       89.7"
      ]
     },
     "execution_count": 2,
     "metadata": {},
     "output_type": "execute_result"
    }
   ],
   "source": [
    "URL_BASE = 'https://raw.githubusercontent.com/ab-courses/simulator-ab-datasets/main/2022-04-01/'\n",
    "\n",
    "def read_database(file_name):\n",
    "    return pd.read_csv(os.path.join(URL_BASE, file_name))\n",
    "\n",
    "web_logs = read_database('2022-04-01T12_df_web_logs.csv')\n",
    "web_logs['date'] = pd.to_datetime(web_logs['date'])\n",
    "web_logs.head(3)"
   ]
  },
  {
   "cell_type": "markdown",
   "id": "e9071ef0",
   "metadata": {},
   "source": [
    "web-logs — таблица с логами посещения сайта.\n",
    "\n",
    "1. user_id — идентификатор пользователя;\n",
    "2. page — какая страница сайта была открыта. Типы страниц:\n",
    "    + m — страница с меню;\n",
    "    + b  — страница с корзиной и подтверждением заказа;\n",
    "    + p — страница с оплатой заказа;\n",
    "3. date — дата открытия страницы;\n",
    "4. load_time — время загрузки страницы в миллисекундах.\n",
    "\n",
    "**Предполагается, что данные независимы**\n",
    "\n",
    "Посмотрим, сколько данных нам потребуется, \n",
    "если мы захотим проводить тест в течение недели и хотим быть способны обнаружить эффект в 1%:"
   ]
  },
  {
   "cell_type": "code",
   "execution_count": 3,
   "id": "c54fdd6c",
   "metadata": {},
   "outputs": [
    {
     "data": {
      "text/plain": [
       "(247163, 4)"
      ]
     },
     "execution_count": 3,
     "metadata": {},
     "output_type": "execute_result"
    }
   ],
   "source": [
    "web_logs_hist = web_logs[\n",
    "    (web_logs['date'] >= datetime(2022, 3, 22))\n",
    "    & (web_logs['date'] < datetime(2022, 3, 29))\n",
    "]\n",
    "web_logs_hist.shape"
   ]
  },
  {
   "cell_type": "code",
   "execution_count": 6,
   "id": "e7fbf4d2",
   "metadata": {},
   "outputs": [
    {
     "name": "stdout",
     "output_type": "stream",
     "text": [
      "var is 12447.803325889607\n",
      "sample_size = 355889\n"
     ]
    }
   ],
   "source": [
    "# Calculating variance before dropping outliers\n",
    "\n",
    "alpha = 0.05\n",
    "beta = 0.2\n",
    "\n",
    "mean = web_logs_hist['load_time'].mean()\n",
    "std = web_logs_hist['load_time'].std()\n",
    "\n",
    "eff = mean * 0.01\n",
    "print(f\"var is {std ** 2}\")\n",
    "\n",
    "# Calculating sample size\n",
    "def get_sample_size_abs(epsilon, std, alpha=0.05, beta=0.2):\n",
    "    t_alpha = stats.norm.ppf(1 - alpha / 2, loc=0, scale=1)\n",
    "    t_beta = stats.norm.ppf(1 - beta, loc=0, scale=1)\n",
    "    z_scores_sum_squared = (t_alpha + t_beta) ** 2\n",
    "    sample_size = int(\n",
    "        np.ceil(\n",
    "            z_scores_sum_squared * (2 * std ** 2) / (epsilon ** 2)\n",
    "        )\n",
    "    )\n",
    "    return sample_size\n",
    "\n",
    "sample_size = get_sample_size_abs(eff, std, alpha=alpha, beta=beta)\n",
    "print(f'sample_size = {sample_size}')"
   ]
  },
  {
   "cell_type": "markdown",
   "id": "3d1dec5c",
   "metadata": {},
   "source": [
    "Нам требуется более 350 000 наблюдений, связанных с загрузкой страницы!\n",
    "Можно ли оценить такой же эффект, но с меньшими затратами? \n",
    "Давайте посмотрим на распределение выборки\n"
   ]
  },
  {
   "cell_type": "code",
   "execution_count": 7,
   "id": "a617468a",
   "metadata": {},
   "outputs": [
    {
     "data": {
      "text/plain": [
       "<Axes: >"
      ]
     },
     "execution_count": 7,
     "metadata": {},
     "output_type": "execute_result"
    },
    {
     "data": {
      "image/png": "[encoded data removed]",
      "text/plain": [
       "<Figure size 640x480 with 1 Axes>"
      ]
     },
     "metadata": {},
     "output_type": "display_data"
    }
   ],
   "source": [
    "web_logs['load_time'].hist()"
   ]
  },
  {
   "cell_type": "markdown",
   "id": "ba483a1b",
   "metadata": {},
   "source": [
    "Мы видим, что бОльшая часть данных находится около нуля, но при этом есть огромные выбросы, \n",
    "которые могут сильно влиять на дисперсию данных. \n",
    "Давайте попробуем удалить выбросы и повторить оценку дизайна эксперимента:"
   ]
  },
  {
   "cell_type": "code",
   "execution_count": 8,
   "id": "e8dfa8ae",
   "metadata": {},
   "outputs": [
    {
     "data": {
      "text/plain": [
       "<Axes: >"
      ]
     },
     "execution_count": 8,
     "metadata": {},
     "output_type": "execute_result"
    },
    {
     "data": {
      "image/png": "[encoded data removed]",
      "text/plain": [
       "<Figure size 640x480 with 1 Axes>"
      ]
     },
     "metadata": {},
     "output_type": "display_data"
    }
   ],
   "source": [
    "web_logs_filtered = web_logs[web_logs['load_time'] < 1000] \n",
    "web_logs_filtered['load_time'].hist()"
   ]
  },
  {
   "cell_type": "code",
   "execution_count": 10,
   "id": "aef658eb",
   "metadata": {},
   "outputs": [
    {
     "name": "stdout",
     "output_type": "stream",
     "text": [
      "Дисперсия(var) is 162.03326010465977\n"
     ]
    }
   ],
   "source": [
    "alpha = 0.05\n",
    "beta = 0.2\n",
    "\n",
    "std = web_logs_filtered['load_time'].std()\n",
    "print(f\"Дисперсия(var) is {std ** 2}\")"
   ]
  },
  {
   "cell_type": "code",
   "execution_count": 11,
   "id": "7d02b11a",
   "metadata": {},
   "outputs": [
    {
     "name": "stdout",
     "output_type": "stream",
     "text": [
      "sample_size = 4633\n"
     ]
    }
   ],
   "source": [
    "sample_size = get_sample_size_abs(eff, std, alpha=alpha, beta=beta)\n",
    "print(f'sample_size = {sample_size}')"
   ]
  },
  {
   "cell_type": "markdown",
   "id": "829483c9",
   "metadata": {},
   "source": [
    "**Дисперсия упала более чем в 76 раз, что привело к падению необходимого размера выборки в 76 раз**. \n",
    "Таким образом, даже такие простые методы, как фильтрация выбросов, могут приводить к существенному \n",
    "снижению дисперсии при условии, что данная процедура значительно снижает дисперсию"
   ]
  },
  {
   "cell_type": "markdown",
   "id": "6a2fd8dd",
   "metadata": {},
   "source": [
    "### Удаление выбросов и оценка мощности тестов (Эффект в тестах: умножение на константу)"
   ]
  },
  {
   "cell_type": "code",
   "execution_count": null,
   "id": "1af58509",
   "metadata": {},
   "outputs": [
    {
     "data": {
      "text/html": [
       "<div>\n",
       "<style scoped>\n",
       "    .dataframe tbody tr th:only-of-type {\n",
       "        vertical-align: middle;\n",
       "    }\n",
       "\n",
       "    .dataframe tbody tr th {\n",
       "        vertical-align: top;\n",
       "    }\n",
       "\n",
       "    .dataframe thead th {\n",
       "        text-align: right;\n",
       "    }\n",
       "</style>\n",
       "<table border=\"1\" class=\"dataframe\">\n",
       "  <thead>\n",
       "    <tr style=\"text-align: right;\">\n",
       "      <th></th>\n",
       "      <th>user_id</th>\n",
       "      <th>load_time</th>\n",
       "    </tr>\n",
       "  </thead>\n",
       "  <tbody>\n",
       "    <tr>\n",
       "      <th>885082</th>\n",
       "      <td>434cf2</td>\n",
       "      <td>69.8</td>\n",
       "    </tr>\n",
       "    <tr>\n",
       "      <th>885083</th>\n",
       "      <td>80fa93</td>\n",
       "      <td>86.3</td>\n",
       "    </tr>\n",
       "    <tr>\n",
       "      <th>885084</th>\n",
       "      <td>434cf2</td>\n",
       "      <td>58.0</td>\n",
       "    </tr>\n",
       "    <tr>\n",
       "      <th>885085</th>\n",
       "      <td>a0aaab</td>\n",
       "      <td>85.2</td>\n",
       "    </tr>\n",
       "    <tr>\n",
       "      <th>885086</th>\n",
       "      <td>a22f92</td>\n",
       "      <td>92.5</td>\n",
       "    </tr>\n",
       "  </tbody>\n",
       "</table>\n",
       "</div>"
      ],
      "text/plain": [
       "       user_id  load_time\n",
       "885082  434cf2       69.8\n",
       "885083  80fa93       86.3\n",
       "885084  434cf2       58.0\n",
       "885085  a0aaab       85.2\n",
       "885086  a22f92       92.5"
      ]
     },
     "execution_count": 51,
     "metadata": {},
     "output_type": "execute_result"
    }
   ],
   "source": [
    "# С одной стороны, при удалении выбросов снижается дисперсия, что приводит к увеличению чувствительности теста. \n",
    "# С другой стороны, при удалении выбросов уменьшается размер выборки, что приводит к уменьшению чувствительности.\n",
    "\n",
    "# Сравним мощности тестов с разной долей удаляемых данных. \n",
    "# Используем данные о времени работы бэкенда 2022-04-13/2022-04-13T12_df_web_logs.csv в период с 2022-03-01 по 2022-03-08. \n",
    "# Уровень значимости — 0.05. Размеры групп — 1000 человек (размер выборок будет больше, \n",
    "# так как на одного человека приходится много значений). \n",
    "# Проверяем гипотезу о равенстве средних с помощью теста Стьюдента. \n",
    "# Ожидаемый эффект — увеличение времени обработки на 1%. \n",
    "# Эффект в синтетических А/В-тестах добавляем умножением на константу.\n",
    "\n",
    "# 1. Удалить 0.02% выбросов;\n",
    "# 2. Удалить 0.2% выбросов;\n",
    "# 3. Удалить 2% выбросов;\n",
    "# 4. Удалить 10% выбросов;\n",
    "# 5. Удалить 20% выбросов.\n",
    "\n",
    "# Удалить 2% выбросов означает, что нужно убрать по 1% минимальных и максимальных значений выборки. \n",
    "# То есть оставить значения, которые лежат между np.quantile(values, 0.01) и np.quantile(values, 0.99). \n",
    "# Квантили вычислять для каждой групп отдельно.\n",
    "\n",
    "import os\n",
    "from datetime import datetime\n",
    "import numpy as np\n",
    "import pandas as pd\n",
    "from scipy import stats\n",
    "\n",
    "# URL_BASE = 'https://raw.githubusercontent.com/ab-courses/simulator-ab-datasets/main/'\n",
    "URL_BASE = 'https://raw.githubusercontent.com/ab-courses/simulator-ab-datasets/main/2022-04-01/'\n",
    "\n",
    "def read_database(file_name):\n",
    "    return pd.read_csv(os.path.join(URL_BASE, file_name))\n",
    "\n",
    "df_logs = read_database('2022-04-01T12_df_web_logs.csv')\n",
    "df_logs['date'] = pd.to_datetime(df_logs['date'])\n",
    "\n",
    "# df_logs = read_database('2022-04-13/2022-04-13T12_df_web_logs.csv')\n",
    "# df_logs['date'] = pd.to_datetime(df_logs['date'])\n",
    "\n",
    "begin_date = datetime(2022, 3, 1)\n",
    "end_date = datetime(2022, 3, 8)\n",
    "df_logs = df_logs[(df_logs['date']>=begin_date) & (df_logs['date'] < end_date)][['user_id', 'load_time']]\n",
    "df_logs.head()"
   ]
  },
  {
   "cell_type": "code",
   "execution_count": 52,
   "id": "59010ec5",
   "metadata": {},
   "outputs": [],
   "source": [
    "users = df_logs['user_id'].unique()\n",
    "# user_list = np.random.choice(users, size=1000, replace=False)\n",
    "# print(type(df_logs[df_logs['user_id'].isin(user_list)]['load_time'])) # Series\n",
    "# print(type(df_logs[df_logs['user_id'].isin(user_list)]['load_time'].values)) # Array\n",
    "# a = df_logs[df_logs['user_id'].isin(user_list)]['load_time'].values\n",
    "# print(type(a))\n",
    "# a[(a > np.quantile(a, 0.001)) & (a < np.quantile(a, 1-0.001))]"
   ]
  },
  {
   "cell_type": "code",
   "execution_count": 53,
   "id": "6447d356",
   "metadata": {},
   "outputs": [
    {
     "data": {
      "application/vnd.jupyter.widget-view+json": {
       "model_id": "e4d92c652b5e42c08d330a63def782b7",
       "version_major": 2,
       "version_minor": 0
      },
      "text/plain": [
       "  0%|          | 0/1000 [00:00<?, ?it/s]"
      ]
     },
     "metadata": {},
     "output_type": "display_data"
    },
    {
     "name": "stdout",
     "output_type": "stream",
     "text": [
      "idx=5 quantile=0.1, power=0.966\n",
      "idx=4 quantile=0.05, power=0.954, pvalue=nan, оценка мощности не отличается значимо от предыдущей\n",
      "idx=3 quantile=0.01, power=0.931, pvalue=nan, оценка мощности не отличается значимо от предыдущей\n",
      "idx=2 quantile=0.001, power=0.321, pvalue=nan, оценка мощности не отличается значимо от предыдущей\n",
      "idx=1 quantile=0.0001, power=0.074, pvalue=nan, оценка мощности не отличается значимо от предыдущей\n",
      "answer: 54321\n"
     ]
    }
   ],
   "source": [
    "from tqdm.notebook import tqdm\n",
    "# 1. Удалить 0.02% выбросов;\n",
    "# 2. Удалить 0.2% выбросов;\n",
    "# 3. Удалить 2% выбросов;\n",
    "# 4. Удалить 10% выбросов;\n",
    "# 5. Удалить 20% выбросов.\n",
    "\n",
    "sample_size = 1000\n",
    "effect = 0.01\n",
    "alpha = 0.05\n",
    "quantiles = [0.0001, 0.001, 0.01, 0.05, 0.1,] # 0.02, 0.2, 2, 10, 20 -> (% - доли)  0.0002, 0.002, 0.02, 0.1, 0.2 -> (x/2) с обеих сторон -> 0.0001, 0.001, 0.05, 0.1\n",
    "quantile2errors = {q: [] for q in quantiles} # {0.0001: [], 0.001: []... }\n",
    "for _ in tqdm(range(1000)):\n",
    "    a_users, b_users = np.random.choice(users, size=(2, sample_size), replace=False)\n",
    "    a_load_times = df_logs[df_logs['user_id'].isin(a_users)]['load_time'].values\n",
    "    b_load_times = df_logs[df_logs['user_id'].isin(b_users)]['load_time'].values * (1 + effect)\n",
    "\n",
    "    for q in quantiles:\n",
    "        a_values_filtered = a_load_times[\n",
    "            (a_load_times > np.quantile(a_load_times, q)) & \n",
    "            (a_load_times < np.quantile(a_load_times, 1-q))\n",
    "        ]\n",
    "        b_values_filtered = b_load_times[\n",
    "            (b_load_times > np.quantile(b_load_times, q)) & \n",
    "            (b_load_times < np.quantile(b_load_times, 1-q))\n",
    "        ]\n",
    "        pvalue = stats.ttest_ind(a_values_filtered, b_values_filtered).pvalue\n",
    "        quantile2errors[q].append(pvalue > alpha)\n",
    "\n",
    "\n",
    "def process_results(quantile2errors):\n",
    "    \"\"\"Обрабатываем данные и выводим результат.\"\"\"\n",
    "    # список из элементов: номер варианта, квантиль, доля ошибок, список ошибок).\n",
    "    data = [\n",
    "        (idx+1, quantile, np.mean(errors), errors)\n",
    "        for idx, (quantile, errors) in enumerate(quantile2errors.items())\n",
    "    ]\n",
    "    # сортируем по доле ошибок\n",
    "    data.sort(key=lambda x: x[2])\n",
    "    # проверим, что оценки мощности значимо отличаются друг от друга\n",
    "    print(f'idx={data[0][0]} quantile={data[0][1]}, power={1-data[0][2]:0.3f}')\n",
    "    for i in range(1, len(data)):\n",
    "        pvalue = stats.ttest_ind(data[i][3], data[i-1][3]).pvalue\n",
    "        if pvalue < 0.05:\n",
    "            msg = f'pvalue={pvalue:0.4f}, оценка мощности значимо отличается от предыдущей'\n",
    "        else:\n",
    "            msg = f'pvalue={pvalue:0.4f}, оценка мощности не отличается значимо от предыдущей'\n",
    "        print(f'idx={data[i][0]} quantile={data[i][1]}, power={1-data[i][2]:0.3f}, {msg}')\n",
    "    print('answer:', ''.join([str(x[0]) for x in data]))\n",
    "\n",
    "process_results(quantile2errors)\n",
    "\n",
    "# idx=5 quantile=0.1, power=0.968\n",
    "# idx=4 quantile=0.05, power=0.958, pvalue=0.0002, оценка мощности значимо отличается от предыдущей\n",
    "# idx=3 quantile=0.01, power=0.933, pvalue=0.0000, оценка мощности значимо отличается от предыдущей\n",
    "# idx=2 quantile=0.001, power=0.352, pvalue=0.0000, оценка мощности значимо отличается от предыдущей\n",
    "# idx=1 quantile=0.0001, power=0.094, pvalue=0.0000, оценка мощности значимо отличается от предыдущей\n",
    "# answer: 54321\n"
   ]
  },
  {
   "cell_type": "markdown",
   "id": "f0821248",
   "metadata": {},
   "source": [
    "### Удаление выбросов и оценка мощности тестов (Эффект в тестах: добавление константы)"
   ]
  },
  {
   "cell_type": "code",
   "execution_count": null,
   "id": "eb3b565f",
   "metadata": {},
   "outputs": [
    {
     "data": {
      "application/vnd.jupyter.widget-view+json": {
       "model_id": "743845aff0184d879da82fe46e2f180b",
       "version_major": 2,
       "version_minor": 0
      },
      "text/plain": [
       "  0%|          | 0/1000 [00:00<?, ?it/s]"
      ]
     },
     "metadata": {},
     "output_type": "display_data"
    },
    {
     "name": "stdout",
     "output_type": "stream",
     "text": [
      "idx=3 quantile=0.01, power=0.439\n",
      "idx=2 quantile=0.001, power=0.342, pvalue=nan, оценка мощности не отличается значимо от предыдущей\n",
      "idx=5 quantile=0.1, power=0.318, pvalue=nan, оценка мощности не отличается значимо от предыдущей\n",
      "idx=4 quantile=0.05, power=0.298, pvalue=nan, оценка мощности не отличается значимо от предыдущей\n",
      "idx=1 quantile=0.0001, power=0.083, pvalue=nan, оценка мощности не отличается значимо от предыдущей\n",
      "answer: 32541\n"
     ]
    }
   ],
   "source": [
    "# Выполним то же задание, изменив способ добавления эффекта. \n",
    "# Эффект в синтетических А/В-тестах добавляем добавлением константы к 1% данных.\n",
    "\n",
    "from tqdm.notebook import tqdm\n",
    "# 1. Удалить 0.02% выбросов;\n",
    "# 2. Удалить 0.2% выбросов;\n",
    "# 3. Удалить 2% выбросов;\n",
    "# 4. Удалить 10% выбросов;\n",
    "# 5. Удалить 20% выбросов.\n",
    "\n",
    "sample_size = 1000\n",
    "effect = 0.01\n",
    "alpha = 0.05\n",
    "quantiles = [0.0001, 0.001, 0.01, 0.05, 0.1,] # 0.02, 0.2, 2, 10, 20 -> (% - доли)  0.0002, 0.002, 0.02, 0.1, 0.2 -> (x/2) с обеих сторон -> 0.0001, 0.001, 0.05, 0.1\n",
    "quantile2errors = {q: [] for q in quantiles} # {0.0001: [], 0.001: []... }\n",
    "for _ in tqdm(range(1000)):\n",
    "    a_users, b_users = np.random.choice(users, size=(2, sample_size), replace=False)\n",
    "    a_load_times = df_logs[df_logs['user_id'].isin(a_users)]['load_time'].values\n",
    "    b_load_times = df_logs[df_logs['user_id'].isin(b_users)]['load_time'].values\n",
    "    b_mean = b_load_times.mean()\n",
    "    indexes = np.random.choice(np.arange(len(b_load_times)), int(len(b_load_times)/100), False)  # int(len(b_load_times)/100) - 1% от общего кол-ва данных | np.arange(len(b_load_times)) - индексы\n",
    "    b_load_times[indexes] += b_mean * effect * len(b_load_times) / len(indexes)\n",
    "\n",
    "\n",
    "    for q in quantiles:\n",
    "        a_values_filtered = a_load_times[\n",
    "            (a_load_times > np.quantile(a_load_times, q)) & \n",
    "            (a_load_times < np.quantile(a_load_times, 1-q))\n",
    "        ]\n",
    "        b_values_filtered = b_load_times[\n",
    "            (b_load_times > np.quantile(b_load_times, q)) & \n",
    "            (b_load_times < np.quantile(b_load_times, 1-q))\n",
    "        ]\n",
    "        pvalue = stats.ttest_ind(a_values_filtered, b_values_filtered).pvalue\n",
    "        quantile2errors[q].append(pvalue > alpha)\n",
    "\n",
    "\n",
    "def process_results(quantile2errors):\n",
    "    \"\"\"Обрабатываем данные и выводим результат.\"\"\"\n",
    "    # список из элементов: номер варианта, квантиль, доля ошибок, список ошибок).\n",
    "    data = [\n",
    "        (idx+1, quantile, np.mean(errors), errors)\n",
    "        for idx, (quantile, errors) in enumerate(quantile2errors.items())\n",
    "    ]\n",
    "    # сортируем по доле ошибок\n",
    "    data.sort(key=lambda x: x[2])\n",
    "    # проверим, что оценки мощности значимо отличаются друг от друга\n",
    "    print(f'idx={data[0][0]} quantile={data[0][1]}, power={1-data[0][2]:0.3f}')\n",
    "    for i in range(1, len(data)):\n",
    "        pvalue = stats.ttest_ind(data[i][3], data[i-1][3]).pvalue\n",
    "        if pvalue < 0.05:\n",
    "            msg = f'pvalue={pvalue:0.4f}, оценка мощности значимо отличается от предыдущей'\n",
    "        else:\n",
    "            msg = f'pvalue={pvalue:0.4f}, оценка мощности не отличается значимо от предыдущей'\n",
    "        print(f'idx={data[i][0]} quantile={data[i][1]}, power={1-data[i][2]:0.3f}, {msg}')\n",
    "    print('answer:', ''.join([str(x[0]) for x in data]))\n",
    "\n",
    "process_results(quantile2errors)\n"
   ]
  }
 ],
 "metadata": {
  "kernelspec": {
   "display_name": "Python 3",
   "language": "python",
   "name": "python3"
  },
  "language_info": {
   "codemirror_mode": {
    "name": "ipython",
    "version": 3
   },
   "file_extension": ".py",
   "mimetype": "text/x-python",
   "name": "python",
   "nbconvert_exporter": "python",
   "pygments_lexer": "ipython3",
   "version": "3.12.1"
  }
 },
 "nbformat": 4,
 "nbformat_minor": 5
}
