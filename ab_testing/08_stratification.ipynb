{
 "cells": [
  {
   "cell_type": "markdown",
   "id": "49f2fea1",
   "metadata": {},
   "source": [
    "## **Stratification**"
   ]
  },
  {
   "cell_type": "code",
   "execution_count": 2,
   "id": "4bfd1981",
   "metadata": {},
   "outputs": [],
   "source": [
    "import os\n",
    "from datetime import datetime, timedelta\n",
    "import numpy as np\n",
    "import pandas as pd\n",
    "import matplotlib.pyplot as plt\n",
    "from tqdm.notebook import tqdm\n",
    "from scipy import stats"
   ]
  },
  {
   "cell_type": "markdown",
   "id": "b0a1c384",
   "metadata": {},
   "source": [
    "### Data Generation\n",
    "\n",
    "Для простоты будем считать, что у нас две страты, которые представлены в **одинаковых** пропорциях в генеральной совокупности.\n",
    "Напишем функции генерирования данных для случайного и стратифицированного сэмплирования:\n"
   ]
  },
  {
   "cell_type": "code",
   "execution_count": 53,
   "id": "1e089271",
   "metadata": {},
   "outputs": [],
   "source": [
    "def generate_random_data(sample_size, mean_one, mean_two, std=1):\n",
    "    \"\"\"Генерируем две выборки с случайным сэмплированием.\n",
    "    \n",
    "    sample_size - размер выборки\n",
    "    mean_one, mean_two - средние значения в стратах\n",
    "    std - среднеквадратичное отклонение\n",
    "    \n",
    "    return - [df_one, df_two], пара pd.DataFrame со столбцами ['strat', 'metric'],\n",
    "        где столбце 'strat' содержится идентификатор страты, а в 'metric' - значения метрики.\n",
    "    \"\"\"\n",
    "    df_one = pd.DataFrame({'strat': 0, 'metric': np.random.normal(mean_one, std, sample_size)})\n",
    "    df_two = pd.DataFrame({'strat': 1, 'metric': np.random.normal(mean_two, std, sample_size)})\n",
    "    df = pd.concat([df_one, df_two], ignore_index=True).sample(sample_size * 2) #  делает перемешивание всех строк, потому что \n",
    "    # по умолчанию sample() возвращает случайную выборку из датафрейма. \n",
    "    # А если ты указал размер выборки равный общему количеству строк, это просто перетасовка (shuffle). Эквивалент random.shuffle() для датафрейма.\n",
    "    # print(df)\n",
    "    dfs = [df.iloc[:sample_size].copy(), df.iloc[sample_size:].copy()]\n",
    "    return dfs\n",
    "\n",
    "def generate_stratified_data(sample_size, mean_one, mean_two, std=1):\n",
    "    \"\"\"Генерируем две выборки с стратифицированным сэмплированием.\n",
    "    \n",
    "    sample_size - размер выборки\n",
    "    mean_one, mean_two - средние значения в стратах\n",
    "    std - среднеквадратичное отклонение\n",
    "    \n",
    "    return - [df_one, df_two], пара pd.DataFrame со столбцами ['strat', 'metric'],\n",
    "        где столбце 'strat' содержится идентификатор страты, а в 'metric' - значения метрики.\n",
    "    \"\"\"\n",
    "    size_strata_one = int(sample_size / 2)\n",
    "    size_strata_two = sample_size - size_strata_one\n",
    "    dfs = []\n",
    "    for _ in range(2):\n",
    "        metric = np.hstack([\n",
    "            np.random.normal(mean_one, std, size_strata_one),\n",
    "            np.random.normal(mean_two, std, size_strata_two)\n",
    "        ])\n",
    "        strat = np.hstack([\n",
    "            np.zeros(size_strata_one),\n",
    "            np.ones(size_strata_two)\n",
    "        ]).astype(int)\n",
    "        df = pd.DataFrame({'strat': strat, 'metric': metric})\n",
    "        dfs.append(df)\n",
    "    return dfs"
   ]
  },
  {
   "cell_type": "code",
   "execution_count": 50,
   "id": "39c29bde",
   "metadata": {},
   "outputs": [
    {
     "data": {
      "text/html": [
       "<div>\n",
       "<style scoped>\n",
       "    .dataframe tbody tr th:only-of-type {\n",
       "        vertical-align: middle;\n",
       "    }\n",
       "\n",
       "    .dataframe tbody tr th {\n",
       "        vertical-align: top;\n",
       "    }\n",
       "\n",
       "    .dataframe thead th {\n",
       "        text-align: right;\n",
       "    }\n",
       "</style>\n",
       "<table border=\"1\" class=\"dataframe\">\n",
       "  <thead>\n",
       "    <tr style=\"text-align: right;\">\n",
       "      <th></th>\n",
       "      <th>strat</th>\n",
       "      <th>metric</th>\n",
       "    </tr>\n",
       "  </thead>\n",
       "  <tbody>\n",
       "    <tr>\n",
       "      <th>4</th>\n",
       "      <td>0</td>\n",
       "      <td>3.527699</td>\n",
       "    </tr>\n",
       "    <tr>\n",
       "      <th>11</th>\n",
       "      <td>1</td>\n",
       "      <td>10.636362</td>\n",
       "    </tr>\n",
       "    <tr>\n",
       "      <th>9</th>\n",
       "      <td>1</td>\n",
       "      <td>11.813315</td>\n",
       "    </tr>\n",
       "    <tr>\n",
       "      <th>5</th>\n",
       "      <td>0</td>\n",
       "      <td>5.856362</td>\n",
       "    </tr>\n",
       "    <tr>\n",
       "      <th>1</th>\n",
       "      <td>0</td>\n",
       "      <td>7.122032</td>\n",
       "    </tr>\n",
       "    <tr>\n",
       "      <th>8</th>\n",
       "      <td>1</td>\n",
       "      <td>10.301303</td>\n",
       "    </tr>\n",
       "  </tbody>\n",
       "</table>\n",
       "</div>"
      ],
      "text/plain": [
       "    strat     metric\n",
       "4       0   3.527699\n",
       "11      1  10.636362\n",
       "9       1  11.813315\n",
       "5       0   5.856362\n",
       "1       0   7.122032\n",
       "8       1  10.301303"
      ]
     },
     "execution_count": 50,
     "metadata": {},
     "output_type": "execute_result"
    }
   ],
   "source": [
    "sample_size = 6\n",
    "mean_one = 5\n",
    "mean_two = 10\n",
    "\n",
    "dfs_srs = generate_random_data(sample_size, mean_one, mean_two)\n",
    "dfs_srs[0]"
   ]
  },
  {
   "cell_type": "code",
   "execution_count": 49,
   "id": "cb9e9c3e",
   "metadata": {},
   "outputs": [
    {
     "data": {
      "text/plain": [
       "[    strat     metric\n",
       " 0       0   6.564200\n",
       " 1       0   4.957700\n",
       " 2       0   4.179561\n",
       " 3       0   7.204261\n",
       " 4       0   3.780312\n",
       " ..    ...        ...\n",
       " 95      1   9.093705\n",
       " 96      1   9.537121\n",
       " 97      1  10.076160\n",
       " 98      1   9.454121\n",
       " 99      1  10.383825\n",
       " \n",
       " [100 rows x 2 columns],\n",
       "     strat     metric\n",
       " 0       0   2.562491\n",
       " 1       0   5.599560\n",
       " 2       0   4.861104\n",
       " 3       0   5.161500\n",
       " 4       0   6.009786\n",
       " ..    ...        ...\n",
       " 95      1  10.121901\n",
       " 96      1  10.317567\n",
       " 97      1  10.043423\n",
       " 98      1   9.551586\n",
       " 99      1  11.376612\n",
       " \n",
       " [100 rows x 2 columns]]"
      ]
     },
     "execution_count": 49,
     "metadata": {},
     "output_type": "execute_result"
    }
   ],
   "source": [
    "dfs_strat = generate_stratified_data(sample_size, mean_one, mean_two)\n",
    "dfs_strat"
   ]
  },
  {
   "cell_type": "markdown",
   "id": "e8411a8a",
   "metadata": {},
   "source": [
    "### Mean Calculation\n",
    "\n",
    "Нам необходимо оценить популяционное среднее бизнес метрики $Y$.\n",
    "\n",
    "1. $\\mu = \\mathbb{E} Y$ – популяционное среднее\n",
    "\n",
    "2. $\\sigma^2 = \\mathbb{V} Y$ – популяционная дисперсия\n",
    "\n",
    "3. $\\mu_k$, $\\sigma_k^2$ – среднее значение и дисперсия бизнес метрики для $k$-й страты\n",
    "\n",
    "4. $w_k$ – доля $k$-й страты в популяции\n",
    "\n",
    "5. $n_k$ – число пользователей из $k$-й страты в рассматриваемой группе\n",
    "\n",
    "6. $n = \\sum_{k=1}^K n_k$ – общий размер группы\n",
    "\n",
    "7. $Y_{11},\\ldots Y_{1n_1},\\ldots Y_{K1},\\ldots Y_{Kn_K}$ – выборка из г.с., \n",
    "    где $Y_{kj}$ - метрика для $j$-го пользователя $k$-й страты\n",
    "\n",
    "Для популяционного среднего можно рассмотреть две несмещенные точечные оценки:\n",
    "\n",
    "1. **Простое среднее**\n",
    "$$\\overline{Y} = \\frac{1}{n} \\sum_{k=1}^K \\sum_{j=1}^{n_k} Y_{kj} = \\frac{1}{n} \\sum_{i=1}^n Y_i$$ \n",
    "\n",
    "2. **Взвешенное среднее (стратифицированное среднее)**\n",
    "$$ \\hat{Y}_{strat} = \\sum_{k=1}^K w_k \\overline{Y}_k, \\quad\n",
    "\\overline{Y}_k = \\frac{1}{n_k} \\sum_{j=1}^{n_k} Y_{kj}$$"
   ]
  },
  {
   "cell_type": "code",
   "execution_count": 55,
   "id": "df92c829",
   "metadata": {},
   "outputs": [],
   "source": [
    "def calculate_mean(df):\n",
    "    \"\"\"Вычисляет обычное среднее по столбцу 'metric'.\"\"\"\n",
    "    return df['metric'].mean()\n",
    "\n",
    "\n",
    "def calculate_stratified_mean(df, weights):\n",
    "    \"\"\"Вычисляет стратифицированное среднее.\n",
    "\n",
    "    df - DataFrame с целевой метрикой и данными для стратификации\n",
    "    weights - dict - {название страты: вес страты}\n",
    "\n",
    "    return: float, mean_strat\n",
    "    \"\"\"\n",
    "    # print(df)\n",
    "    # print(f\"weight\\n{weights}\")\n",
    "    strat_mean = df.groupby('strat')['metric'].mean()\n",
    "    df_means_weights = pd.merge(\n",
    "        strat_mean,\n",
    "        pd.Series(weights, name='weight'),\n",
    "        how='inner',\n",
    "        left_index=True,\n",
    "        right_index=True\n",
    "    )\n",
    "    # если в данных df не было каких-то страт, то часть weights затрётся и сумма весов будет меньше 1\n",
    "    df_means_weights['weight'] = df_means_weights['weight'] / df_means_weights['weight'].sum()\n",
    "\n",
    "    mean_strat = (df_means_weights['weight'] * df_means_weights['metric']).sum()\n",
    "    return mean_strat"
   ]
  },
  {
   "cell_type": "code",
   "execution_count": 38,
   "id": "aee2a126",
   "metadata": {},
   "outputs": [
    {
     "data": {
      "application/vnd.jupyter.widget-view+json": {
       "model_id": "e2f96b7cfee34a7a88aee62362714fd2",
       "version_major": 2,
       "version_minor": 0
      },
      "text/plain": [
       "  0%|          | 0/3000 [00:00<?, ?it/s]"
      ]
     },
     "metadata": {},
     "output_type": "display_data"
    },
    {
     "name": "stdout",
     "output_type": "stream",
     "text": [
      "mean(means) = 7.50, mean(strat_means) = 7.50\n"
     ]
    },
    {
     "data": {
      "image/png": "[encoded data removed]",
      "text/plain": [
       "<Figure size 640x480 with 1 Axes>"
      ]
     },
     "metadata": {},
     "output_type": "display_data"
    }
   ],
   "source": [
    "sample_size = 100\n",
    "mean_one = 5\n",
    "mean_two = 10\n",
    "weights = {0: 0.5, 1: 0.5}\n",
    "\n",
    "\n",
    "means = []\n",
    "strat_means = []\n",
    "for _ in tqdm(range(3000)):\n",
    "    df = generate_random_data(sample_size, mean_one, mean_two)[0]\n",
    "    means.append(calculate_mean(df))\n",
    "    strat_means.append(calculate_stratified_mean(df, weights))\n",
    "\n",
    "\n",
    "print(f'mean(means) = {np.mean(means):0.2f}, mean(strat_means) = {np.mean(strat_means):0.2f}')\n",
    "\n",
    "plt.hist(means, bins=20, alpha=0.5, density=True, label='means')\n",
    "plt.hist(strat_means, bins=20, alpha=0.5, density=True, label='strat_means')\n",
    "plt.xlabel('metric')\n",
    "plt.title('Распределение обычного и\\nстратифицированного средних')\n",
    "plt.legend()\n",
    "plt.show()"
   ]
  },
  {
   "cell_type": "markdown",
   "id": "ab540fe5",
   "metadata": {},
   "source": [
    "- получили распределения с близкими средними\n",
    "- разброс у стратифицированного среднего меньше\n",
    "\n",
    "### Stratification Types\n",
    "\n",
    "**Стратификация:**\n",
    "стратифицированное семплирование $STRAT$ + Взвешенное среднее\n",
    "\n",
    "**Постстратификация:**\n",
    "случайное семплирование $SRS$ + Взвешенное среднее\n",
    "\n",
    "**Без стратификации:**\n",
    "случайное семплирование $SRS$ + Простое среднее\n",
    "\n",
    "1. **Простое среднее**\n",
    "$$\\overline{Y} = \\frac{1}{n} \\sum_{k=1}^K \\sum_{j=1}^{n_k} Y_{kj} = \\frac{1}{n} \\sum_{i=1}^n Y_i$$ \n",
    "\n",
    "2. **Взвешенное среднее (стратифицированное среднее)**\n",
    "$$ \\hat{Y}_{strat} = \\sum_{k=1}^K w_k \\overline{Y}_k, \\quad\n",
    "\\overline{Y}_k = \\frac{1}{n_k} \\sum_{j=1}^{n_k} Y_{kj}$$\n",
    "\n",
    "### Variance\n",
    "\n",
    "#### Dependence on Sample Size\n",
    "\n",
    "Будем увеличивать размер выборок и для каждого размера выборки вычислять оценку среднего несколько раз, \n",
    "чтобы затем оценить разброс:\n"
   ]
  },
  {
   "cell_type": "code",
   "execution_count": 56,
   "id": "4121519e",
   "metadata": {},
   "outputs": [
    {
     "name": "stdout",
     "output_type": "stream",
     "text": [
      "[5, 10, 15, 20, 50, 80]\n"
     ]
    },
    {
     "data": {
      "application/vnd.jupyter.widget-view+json": {
       "model_id": "f31c27d6d5bd45a389596b6cc491ce21",
       "version_major": 2,
       "version_minor": 0
      },
      "text/plain": [
       "  0%|          | 0/6 [00:00<?, ?it/s]"
      ]
     },
     "metadata": {},
     "output_type": "display_data"
    },
    {
     "data": {
      "image/png": "[encoded data removed]",
      "text/plain": [
       "<Figure size 640x480 with 1 Axes>"
      ]
     },
     "metadata": {},
     "output_type": "display_data"
    }
   ],
   "source": [
    "mean_one = 0\n",
    "mean_two = 5\n",
    "weights = {0: 0.5, 1: 0.5}\n",
    "sample_sizes = [5, 10, 15] + list(range(20, 81, 30))\n",
    "print(sample_sizes)\n",
    "\n",
    "var_random_means = []\n",
    "var_poststratified_means = []\n",
    "var_stratified_means = []\n",
    "\n",
    "for sample_size in tqdm(sample_sizes):\n",
    "    random_means = []\n",
    "    poststratified_means = []\n",
    "    stratified_means = []\n",
    "    for _ in range(1000):\n",
    "        df_srs = generate_random_data(sample_size, mean_one, mean_two)[0]\n",
    "        df_strat = generate_stratified_data(sample_size, mean_one, mean_two)[0]\n",
    "        random_means.append(calculate_mean(df_srs))\n",
    "        poststratified_means.append(calculate_stratified_mean(df_srs, weights))\n",
    "        stratified_means.append(calculate_stratified_mean(df_strat, weights))\n",
    "    var_random_means.append(np.var(random_means))\n",
    "    var_poststratified_means.append(np.var(poststratified_means))\n",
    "    var_stratified_means.append(np.var(stratified_means))\n",
    "\n",
    "plt.plot(sample_sizes, var_random_means, '-o', label='без стратификации')\n",
    "plt.plot(sample_sizes, var_poststratified_means, '-o', label='постратификация')\n",
    "plt.plot(sample_sizes, var_stratified_means, '-o', label='стратификация')\n",
    "plt.xlabel('размер выборки')\n",
    "plt.ylabel('var (Y)')\n",
    "plt.legend()\n",
    "plt.show()"
   ]
  },
  {
   "cell_type": "markdown",
   "id": "c31833df",
   "metadata": {},
   "source": [
    "- при увеличении sample_size дисперсия при постстратификации быстро приближается к дисперсии при стратификации\n",
    "- отличия дисперсий всех способов при увеличении sample_size уменьшаются\n",
    "\n",
    "#### Dependence on Difference Between Stratas' Means\n",
    "\n",
    "Проведём аналогичный эксперимент, только теперь будем увеличивать среднее значение метрики у второй страты:\n"
   ]
  },
  {
   "cell_type": "code",
   "execution_count": 57,
   "id": "52b4073a",
   "metadata": {},
   "outputs": [
    {
     "data": {
      "application/vnd.jupyter.widget-view+json": {
       "model_id": "e768e4c6d0b9484599cbebd081850006",
       "version_major": 2,
       "version_minor": 0
      },
      "text/plain": [
       "  0%|          | 0/6 [00:00<?, ?it/s]"
      ]
     },
     "metadata": {},
     "output_type": "display_data"
    },
    {
     "data": {
      "image/png": "[encoded data removed]",
      "text/plain": [
       "<Figure size 640x480 with 1 Axes>"
      ]
     },
     "metadata": {},
     "output_type": "display_data"
    }
   ],
   "source": [
    "mean_one = 0\n",
    "array_mean_two = np.linspace(0, 4, 6)\n",
    "weights = {0: 0.5, 1: 0.5}\n",
    "sample_sizes = 10\n",
    "\n",
    "var_random_means = []\n",
    "var_poststratified_means = []\n",
    "var_stratified_means = []\n",
    "\n",
    "for mean_two in tqdm(array_mean_two):\n",
    "    random_means = []\n",
    "    poststratified_means = []\n",
    "    stratified_means = []\n",
    "    for _ in range(1000):\n",
    "        df_srs = generate_random_data(sample_size, mean_one, mean_two)[0]\n",
    "        df_strat = generate_stratified_data(sample_size, mean_one, mean_two)[0]\n",
    "        random_means.append(calculate_mean(df_srs))\n",
    "        poststratified_means.append(calculate_stratified_mean(df_srs, weights))\n",
    "        stratified_means.append(calculate_stratified_mean(df_strat, weights))\n",
    "    var_random_means.append(np.var(random_means))\n",
    "    var_poststratified_means.append(np.var(poststratified_means))\n",
    "    var_stratified_means.append(np.var(stratified_means))\n",
    "\n",
    "plt.plot(array_mean_two, var_random_means, '-o', label='без стратификации')\n",
    "plt.plot(array_mean_two, var_poststratified_means, '-o', label='постстратификация')\n",
    "plt.plot(array_mean_two, var_stratified_means, '-o', label='стратификация')\n",
    "plt.xlabel('разница средних между стратами')\n",
    "plt.ylabel('var(Y)')\n",
    "plt.legend()\n",
    "plt.show()"
   ]
  },
  {
   "cell_type": "code",
   "execution_count": null,
   "id": "25a619fd",
   "metadata": {},
   "outputs": [],
   "source": []
  },
  {
   "cell_type": "markdown",
   "id": "98a223a5",
   "metadata": {},
   "source": [
    "- при увеличении отличий между стратами дисперсия без использования стратификации увеличивается\n",
    "- изменение отличий между стратами не влияют на дисперсию при использовании стратификации и постстратификации\n",
    "- при отсутствии отличий между стратами, дисперсии всех трёх методов совпадают\n",
    "\n",
    "### Experiment Evaluation\n"
   ]
  },
  {
   "cell_type": "code",
   "execution_count": 61,
   "id": "734bc394",
   "metadata": {},
   "outputs": [],
   "source": [
    "def check_test(df_control, df_pilot):\n",
    "    \"\"\"Проверяет гипотезу о равенстве средних для обычного среднего.\n",
    "    \n",
    "    return - pvalue.\n",
    "    \"\"\"\n",
    "    values_control = df_control['metric'].values\n",
    "    values_pilot = df_pilot['metric'].values\n",
    "    _, pvalue = stats.ttest_ind(values_control, values_pilot)\n",
    "    return pvalue\n",
    "\n",
    "\n",
    "def calculate_strat_var(df, weights):\n",
    "    \"\"\"Вычисляет стратифицированную дисперсию.\"\"\"\n",
    "    strat_vars = df.groupby('strat')['metric'].var()\n",
    "    df_vars_weights = pd.merge(\n",
    "        strat_vars,\n",
    "        pd.Series(weights, name='weight'),\n",
    "        how='inner',\n",
    "        left_index=True,\n",
    "        right_index=True\n",
    "    )\n",
    "    # если в данных df не было каких-то страт, то часть weights затрётся и сумма весов будет меньше 1\n",
    "    df_vars_weights['weight'] = df_vars_weights['weight'] / df_vars_weights['weight'].sum()\n",
    "    var_strat = (df_vars_weights['weight'] * df_vars_weights['metric']).sum()\n",
    "    return var_strat\n",
    "\n",
    "\n",
    "def check_stratified_test(df_control, df_pilot, weights):\n",
    "    \"\"\"Проверяет гипотезу о равенстве средних для стратифицированного среднего.\n",
    "    \n",
    "    return - pvalue.\n",
    "    \"\"\"\n",
    "    mean_strat_control = calculate_stratified_mean(df_control, weights)\n",
    "    mean_strat_pilot = calculate_stratified_mean(df_pilot, weights)\n",
    "    var_strat_control = calculate_strat_var(df_control, weights)\n",
    "    var_strat_pilot = calculate_strat_var(df_pilot, weights)\n",
    "    delta_mean_strat = mean_strat_pilot - mean_strat_control\n",
    "    std_mean_strat = (var_strat_pilot / len(df_pilot) + var_strat_control / len(df_control)) ** 0.5\n",
    "    t = delta_mean_strat / std_mean_strat\n",
    "    pvalue = (1 - stats.norm.cdf(np.abs(t))) * 2\n",
    "    return pvalue"
   ]
  },
  {
   "cell_type": "markdown",
   "id": "1fe520a5",
   "metadata": {},
   "source": [
    "Проверим что `check_stratified_test` работает корретно. \n",
    "Для этого применим к данным с одной стратой функции `check_stratified_test` и `check_test`. \n",
    "Результаты должны быть примерно одинаковы."
   ]
  },
  {
   "cell_type": "code",
   "execution_count": 65,
   "id": "eb4e112b",
   "metadata": {},
   "outputs": [
    {
     "data": {
      "text/plain": [
       "(0.04260500062744156, 0.0425917678685257)"
      ]
     },
     "execution_count": 65,
     "metadata": {},
     "output_type": "execute_result"
    }
   ],
   "source": [
    "size = 10000\n",
    "df_one = pd.DataFrame({'strat': 1, 'metric': np.random.normal(0, 1, size)})\n",
    "df_two = pd.DataFrame({'strat': 1, 'metric': np.random.normal(0.01, 1, size)})\n",
    "\n",
    "check_test(df_one, df_two), check_stratified_test(df_one, df_two, weights)"
   ]
  },
  {
   "cell_type": "markdown",
   "id": "2f289191",
   "metadata": {},
   "source": [
    "#### Evaluation of Probabilities of Type I Errors\n",
    "\n",
    "Проведём много A/A тестов и построим распределение p-value. p-value должно быть распределено равномерно:\n"
   ]
  },
  {
   "cell_type": "code",
   "execution_count": 66,
   "id": "5d4d129b",
   "metadata": {},
   "outputs": [
    {
     "data": {
      "application/vnd.jupyter.widget-view+json": {
       "model_id": "b74506f0ff7840df8b395584102569de",
       "version_major": 2,
       "version_minor": 0
      },
      "text/plain": [
       "  0%|          | 0/1000 [00:00<?, ?it/s]"
      ]
     },
     "metadata": {},
     "output_type": "display_data"
    },
    {
     "data": {
      "image/png": "[encoded data removed]",
      "text/plain": [
       "<Figure size 1800x500 with 3 Axes>"
      ]
     },
     "metadata": {},
     "output_type": "display_data"
    }
   ],
   "source": [
    "mean_one = 0\n",
    "mean_two = 2\n",
    "weights = {0: 0.5, 1: 0.5}\n",
    "sample_sizes = 1000\n",
    "\n",
    "pvalues_random = []\n",
    "pvalues_poststratified = []\n",
    "pvalues_stratified = []\n",
    "\n",
    "for _ in tqdm(range(1000)):\n",
    "    dfs_srs = generate_random_data(sample_size, mean_one, mean_two)\n",
    "    dfs_strat = generate_stratified_data(sample_size, mean_one, mean_two)\n",
    "\n",
    "    pvalues_random.append(check_test(*dfs_srs))\n",
    "    pvalues_poststratified.append(check_stratified_test(*dfs_srs, weights))\n",
    "    pvalues_stratified.append(check_stratified_test(*dfs_strat, weights))\n",
    "\n",
    "\n",
    "_, axes = plt.subplots(1, 3, figsize=[18, 5])\n",
    "list_pvalues = [pvalues_random, pvalues_poststratified, pvalues_stratified]\n",
    "list_titles = ['без стратификации', 'постстратификация', 'стратификация']\n",
    "\n",
    "for ax, pvalues, title in zip(axes, list_pvalues, list_titles):\n",
    "    ax.hist(pvalues, bins=100, density=True, cumulative=True, alpha=0.5)\n",
    "    ax.set_title(title)\n",
    "    ax.set_xlabel('pvalue')\n",
    "    ax.plot([0, 1], [0, 1], 'k')\n",
    "plt.show()"
   ]
  },
  {
   "cell_type": "markdown",
   "id": "888c705c",
   "metadata": {},
   "source": [
    "p-value распределено равномерно, все три способа показывают корректные результаты.\n",
    "\n",
    "#### Comparing the Experiments' Power\n",
    "\n",
    "Проведём много A/B тестов и построим распределение p-value. \n",
    "Распределение p-value должно быть выпуклым вверх. \n",
    "Чем более выпуклое, тем мощнее тест."
   ]
  },
  {
   "cell_type": "code",
   "execution_count": 67,
   "id": "fdb09791",
   "metadata": {},
   "outputs": [
    {
     "data": {
      "application/vnd.jupyter.widget-view+json": {
       "model_id": "838c907824f84518a74368718341fc18",
       "version_major": 2,
       "version_minor": 0
      },
      "text/plain": [
       "  0%|          | 0/1000 [00:00<?, ?it/s]"
      ]
     },
     "metadata": {},
     "output_type": "display_data"
    },
    {
     "data": {
      "image/png": "[encoded data removed]",
      "text/plain": [
       "<Figure size 640x480 with 1 Axes>"
      ]
     },
     "metadata": {},
     "output_type": "display_data"
    }
   ],
   "source": [
    "mean_one = 0\n",
    "mean_two = 2\n",
    "weights = {0: 0.5, 1: 0.5}\n",
    "sample_sizes = 1000\n",
    "\n",
    "pvalues_random = []\n",
    "pvalues_poststratified = []\n",
    "pvalues_stratified = []\n",
    "\n",
    "for _ in tqdm(range(1000)):\n",
    "    dfs_srs = generate_random_data(sample_size, mean_one, mean_two)\n",
    "    dfs_strat = generate_stratified_data(sample_size, mean_one, mean_two)\n",
    "\n",
    "    # add effect\n",
    "    effect = np.random.normal(0.3, 0.1, sample_size)\n",
    "    dfs_srs[1]['metric'] += effect\n",
    "    dfs_strat[1]['metric'] += effect\n",
    "    \n",
    "    pvalues_random.append(check_test(*dfs_srs))\n",
    "    pvalues_poststratified.append(check_stratified_test(*dfs_srs, weights))\n",
    "    pvalues_stratified.append(check_stratified_test(*dfs_strat, weights))\n",
    "\n",
    "\n",
    "list_pvalues = [pvalues_random, pvalues_poststratified, pvalues_stratified]\n",
    "list_titles = ['без стратификации', 'постстратификация', 'стратификация']\n",
    "\n",
    "X = np.linspace(0, 1, 1000)\n",
    "for pvalues, title in zip(reversed(list_pvalues), reversed(list_titles)):\n",
    "    pvalues = np.array(pvalues)\n",
    "    Y = [np.mean(pvalues < x) for x in X]\n",
    "    plt.plot(X, Y, alpha=0.5, linewidth=3, label=title)\n",
    "plt.xlabel('pvalue')\n",
    "plt.plot([0, 1], [0, 1], 'k')\n",
    "plt.legend(loc=5)\n",
    "plt.show()"
   ]
  },
  {
   "cell_type": "markdown",
   "id": "754f0f91",
   "metadata": {},
   "source": [
    "Методы с использованием стратификации обладают большей мощностью, а значит и большей чувствительностью.\n",
    "\n",
    "### Pizzeria's Data\n",
    "\n",
    "Посмотрим, как работает стратификация на примере данных пиццерии."
   ]
  },
  {
   "cell_type": "code",
   "execution_count": 68,
   "id": "7ac0acab",
   "metadata": {},
   "outputs": [],
   "source": [
    "URL_BASE = 'https://raw.githubusercontent.com/ab-courses/simulator-ab-datasets/main/'\n",
    "\n",
    "def read_database(file_name):\n",
    "    return pd.read_csv(os.path.join(URL_BASE, file_name))\n",
    "\n",
    "df_sales = read_database('2022-04-01/2022-04-01T12_df_sales.csv')\n",
    "df_sales['date'] = pd.to_datetime(df_sales['date'])\n",
    "df_user_strats = read_database('user_strats.csv')"
   ]
  },
  {
   "cell_type": "markdown",
   "id": "b66a9276",
   "metadata": {},
   "source": [
    "df_sales - информация о покупках, одна строка - один заказ. Атрибуты:\n",
    "- sale_id - идентификатор покупки;\n",
    "- date - дата покупки;\n",
    "- count_pizza - количество пицц в заказе;\n",
    "- count_drink - количество напитков в заказе;\n",
    "- price - стоимость заказа;\n",
    "- user_id - идентификатор пользователя."
   ]
  },
  {
   "cell_type": "code",
   "execution_count": 69,
   "id": "8a2adbab",
   "metadata": {},
   "outputs": [
    {
     "data": {
      "text/html": [
       "<div>\n",
       "<style scoped>\n",
       "    .dataframe tbody tr th:only-of-type {\n",
       "        vertical-align: middle;\n",
       "    }\n",
       "\n",
       "    .dataframe tbody tr th {\n",
       "        vertical-align: top;\n",
       "    }\n",
       "\n",
       "    .dataframe thead th {\n",
       "        text-align: right;\n",
       "    }\n",
       "</style>\n",
       "<table border=\"1\" class=\"dataframe\">\n",
       "  <thead>\n",
       "    <tr style=\"text-align: right;\">\n",
       "      <th></th>\n",
       "      <th>sale_id</th>\n",
       "      <th>date</th>\n",
       "      <th>count_pizza</th>\n",
       "      <th>count_drink</th>\n",
       "      <th>price</th>\n",
       "      <th>user_id</th>\n",
       "    </tr>\n",
       "  </thead>\n",
       "  <tbody>\n",
       "    <tr>\n",
       "      <th>0</th>\n",
       "      <td>1000001</td>\n",
       "      <td>2022-02-04 10:00:24</td>\n",
       "      <td>1</td>\n",
       "      <td>0</td>\n",
       "      <td>720</td>\n",
       "      <td>1c1543</td>\n",
       "    </tr>\n",
       "    <tr>\n",
       "      <th>1</th>\n",
       "      <td>1000002</td>\n",
       "      <td>2022-02-04 10:02:28</td>\n",
       "      <td>1</td>\n",
       "      <td>1</td>\n",
       "      <td>930</td>\n",
       "      <td>a9a6e8</td>\n",
       "    </tr>\n",
       "    <tr>\n",
       "      <th>2</th>\n",
       "      <td>1000003</td>\n",
       "      <td>2022-02-04 10:02:35</td>\n",
       "      <td>3</td>\n",
       "      <td>1</td>\n",
       "      <td>1980</td>\n",
       "      <td>23420a</td>\n",
       "    </tr>\n",
       "    <tr>\n",
       "      <th>3</th>\n",
       "      <td>1000004</td>\n",
       "      <td>2022-02-04 10:03:06</td>\n",
       "      <td>1</td>\n",
       "      <td>1</td>\n",
       "      <td>750</td>\n",
       "      <td>3e8ed5</td>\n",
       "    </tr>\n",
       "    <tr>\n",
       "      <th>4</th>\n",
       "      <td>1000005</td>\n",
       "      <td>2022-02-04 10:03:23</td>\n",
       "      <td>1</td>\n",
       "      <td>1</td>\n",
       "      <td>870</td>\n",
       "      <td>cbc468</td>\n",
       "    </tr>\n",
       "  </tbody>\n",
       "</table>\n",
       "</div>"
      ],
      "text/plain": [
       "   sale_id                date  count_pizza  count_drink  price user_id\n",
       "0  1000001 2022-02-04 10:00:24            1            0    720  1c1543\n",
       "1  1000002 2022-02-04 10:02:28            1            1    930  a9a6e8\n",
       "2  1000003 2022-02-04 10:02:35            3            1   1980  23420a\n",
       "3  1000004 2022-02-04 10:03:06            1            1    750  3e8ed5\n",
       "4  1000005 2022-02-04 10:03:23            1            1    870  cbc468"
      ]
     },
     "execution_count": 69,
     "metadata": {},
     "output_type": "execute_result"
    }
   ],
   "source": [
    "df_sales.head()"
   ]
  },
  {
   "cell_type": "markdown",
   "id": "5bd17887",
   "metadata": {},
   "source": [
    "Описание страт:\n",
    "- 1 — заходят только с мобильного устройства;\n",
    "- 2 — заходят только с компьютера;\n",
    "- 3 — заходят и с мобильного, и с компьютера.\n"
   ]
  },
  {
   "cell_type": "code",
   "execution_count": 70,
   "id": "8897d62d",
   "metadata": {},
   "outputs": [
    {
     "data": {
      "text/html": [
       "<div>\n",
       "<style scoped>\n",
       "    .dataframe tbody tr th:only-of-type {\n",
       "        vertical-align: middle;\n",
       "    }\n",
       "\n",
       "    .dataframe tbody tr th {\n",
       "        vertical-align: top;\n",
       "    }\n",
       "\n",
       "    .dataframe thead th {\n",
       "        text-align: right;\n",
       "    }\n",
       "</style>\n",
       "<table border=\"1\" class=\"dataframe\">\n",
       "  <thead>\n",
       "    <tr style=\"text-align: right;\">\n",
       "      <th></th>\n",
       "      <th>user_id</th>\n",
       "      <th>strat</th>\n",
       "    </tr>\n",
       "  </thead>\n",
       "  <tbody>\n",
       "    <tr>\n",
       "      <th>0</th>\n",
       "      <td>000096</td>\n",
       "      <td>1</td>\n",
       "    </tr>\n",
       "    <tr>\n",
       "      <th>1</th>\n",
       "      <td>0000d4</td>\n",
       "      <td>1</td>\n",
       "    </tr>\n",
       "    <tr>\n",
       "      <th>2</th>\n",
       "      <td>0000de</td>\n",
       "      <td>1</td>\n",
       "    </tr>\n",
       "    <tr>\n",
       "      <th>3</th>\n",
       "      <td>0000e4</td>\n",
       "      <td>1</td>\n",
       "    </tr>\n",
       "    <tr>\n",
       "      <th>4</th>\n",
       "      <td>0000e7</td>\n",
       "      <td>1</td>\n",
       "    </tr>\n",
       "  </tbody>\n",
       "</table>\n",
       "</div>"
      ],
      "text/plain": [
       "  user_id  strat\n",
       "0  000096      1\n",
       "1  0000d4      1\n",
       "2  0000de      1\n",
       "3  0000e4      1\n",
       "4  0000e7      1"
      ]
     },
     "execution_count": 70,
     "metadata": {},
     "output_type": "execute_result"
    }
   ],
   "source": [
    "df_user_strats.head()"
   ]
  },
  {
   "cell_type": "markdown",
   "id": "11563e68",
   "metadata": {},
   "source": [
    "#### Количество пользователей в стратах"
   ]
  },
  {
   "cell_type": "code",
   "execution_count": 71,
   "id": "bdc2ce1f",
   "metadata": {},
   "outputs": [
    {
     "data": {
      "text/plain": [
       "strat\n",
       "1    58285\n",
       "3    53518\n",
       "2    11644\n",
       "Name: count, dtype: int64"
      ]
     },
     "execution_count": 71,
     "metadata": {},
     "output_type": "execute_result"
    }
   ],
   "source": [
    "df_user_strats['strat'].value_counts()"
   ]
  },
  {
   "cell_type": "code",
   "execution_count": 74,
   "id": "ef7eb2dc",
   "metadata": {},
   "outputs": [
    {
     "data": {
      "text/html": [
       "<div>\n",
       "<style scoped>\n",
       "    .dataframe tbody tr th:only-of-type {\n",
       "        vertical-align: middle;\n",
       "    }\n",
       "\n",
       "    .dataframe tbody tr th {\n",
       "        vertical-align: top;\n",
       "    }\n",
       "\n",
       "    .dataframe thead th {\n",
       "        text-align: right;\n",
       "    }\n",
       "</style>\n",
       "<table border=\"1\" class=\"dataframe\">\n",
       "  <thead>\n",
       "    <tr style=\"text-align: right;\">\n",
       "      <th></th>\n",
       "      <th>user_id</th>\n",
       "      <th>metric</th>\n",
       "      <th>strat</th>\n",
       "    </tr>\n",
       "  </thead>\n",
       "  <tbody>\n",
       "    <tr>\n",
       "      <th>0</th>\n",
       "      <td>0000d4</td>\n",
       "      <td>720</td>\n",
       "      <td>1</td>\n",
       "    </tr>\n",
       "    <tr>\n",
       "      <th>1</th>\n",
       "      <td>0000de</td>\n",
       "      <td>660</td>\n",
       "      <td>1</td>\n",
       "    </tr>\n",
       "    <tr>\n",
       "      <th>2</th>\n",
       "      <td>0000e4</td>\n",
       "      <td>840</td>\n",
       "      <td>1</td>\n",
       "    </tr>\n",
       "    <tr>\n",
       "      <th>3</th>\n",
       "      <td>0001e2</td>\n",
       "      <td>2430</td>\n",
       "      <td>1</td>\n",
       "    </tr>\n",
       "    <tr>\n",
       "      <th>4</th>\n",
       "      <td>0001ff</td>\n",
       "      <td>720</td>\n",
       "      <td>1</td>\n",
       "    </tr>\n",
       "    <tr>\n",
       "      <th>5</th>\n",
       "      <td>00028b</td>\n",
       "      <td>1260</td>\n",
       "      <td>3</td>\n",
       "    </tr>\n",
       "    <tr>\n",
       "      <th>6</th>\n",
       "      <td>000964</td>\n",
       "      <td>1980</td>\n",
       "      <td>1</td>\n",
       "    </tr>\n",
       "  </tbody>\n",
       "</table>\n",
       "</div>"
      ],
      "text/plain": [
       "  user_id  metric  strat\n",
       "0  0000d4     720      1\n",
       "1  0000de     660      1\n",
       "2  0000e4     840      1\n",
       "3  0001e2    2430      1\n",
       "4  0001ff     720      1\n",
       "5  00028b    1260      3\n",
       "6  000964    1980      1"
      ]
     },
     "execution_count": 74,
     "metadata": {},
     "output_type": "execute_result"
    }
   ],
   "source": [
    "# считаем значения метрики\n",
    "begin_date = datetime(2022, 3, 23)\n",
    "end_date = datetime(2022, 3, 30)\n",
    "df_metrics = (\n",
    "    df_sales\n",
    "    [(df_sales['date'] >= begin_date) & (df_sales['date'] < end_date)]\n",
    "    .groupby('user_id')[['price']].sum()\n",
    "    .rename(columns={'price': 'metric'})\n",
    "    .reset_index()  \n",
    ")\n",
    "\n",
    "df_metrics = pd.merge(df_metrics, df_user_strats, on='user_id', how='left')\n",
    "df_metrics.head(7)"
   ]
  },
  {
   "cell_type": "markdown",
   "id": "919a5266",
   "metadata": {},
   "source": [
    "Посмотрим, как отличаются средние значения между стратами"
   ]
  },
  {
   "cell_type": "code",
   "execution_count": 75,
   "id": "fe77f0bb",
   "metadata": {},
   "outputs": [
    {
     "data": {
      "text/html": [
       "<div>\n",
       "<style scoped>\n",
       "    .dataframe tbody tr th:only-of-type {\n",
       "        vertical-align: middle;\n",
       "    }\n",
       "\n",
       "    .dataframe tbody tr th {\n",
       "        vertical-align: top;\n",
       "    }\n",
       "\n",
       "    .dataframe thead th {\n",
       "        text-align: right;\n",
       "    }\n",
       "</style>\n",
       "<table border=\"1\" class=\"dataframe\">\n",
       "  <thead>\n",
       "    <tr style=\"text-align: right;\">\n",
       "      <th></th>\n",
       "      <th>metric</th>\n",
       "    </tr>\n",
       "    <tr>\n",
       "      <th>strat</th>\n",
       "      <th></th>\n",
       "    </tr>\n",
       "  </thead>\n",
       "  <tbody>\n",
       "    <tr>\n",
       "      <th>1</th>\n",
       "      <td>1221.697525</td>\n",
       "    </tr>\n",
       "    <tr>\n",
       "      <th>2</th>\n",
       "      <td>1251.554174</td>\n",
       "    </tr>\n",
       "    <tr>\n",
       "      <th>3</th>\n",
       "      <td>1227.406882</td>\n",
       "    </tr>\n",
       "  </tbody>\n",
       "</table>\n",
       "</div>"
      ],
      "text/plain": [
       "            metric\n",
       "strat             \n",
       "1      1221.697525\n",
       "2      1251.554174\n",
       "3      1227.406882"
      ]
     },
     "execution_count": 75,
     "metadata": {},
     "output_type": "execute_result"
    }
   ],
   "source": [
    "df_metrics.groupby('strat')[['metric']].mean()"
   ]
  },
  {
   "cell_type": "markdown",
   "id": "83cc0196",
   "metadata": {},
   "source": [
    "Отличия небольшие. Посмотрим, поможет ли постстратификация увеличить чувствительность теста."
   ]
  },
  {
   "cell_type": "code",
   "execution_count": 78,
   "id": "9bec823b",
   "metadata": {},
   "outputs": [
    {
     "data": {
      "application/vnd.jupyter.widget-view+json": {
       "model_id": "059d0eb15b684fd1a7952be0ef8d3f89",
       "version_major": 2,
       "version_minor": 0
      },
      "text/plain": [
       "  0%|          | 0/1000 [00:00<?, ?it/s]"
      ]
     },
     "metadata": {},
     "output_type": "display_data"
    },
    {
     "data": {
      "image/png": "[encoded data removed]",
      "text/plain": [
       "<Figure size 640x480 with 1 Axes>"
      ]
     },
     "metadata": {},
     "output_type": "display_data"
    }
   ],
   "source": [
    "sample_size = 1000\n",
    "weights = df_user_strats['strat'].value_counts(normalize=True).to_dict() # {1: 0.472145941173135, 3: 0.4335301789431902, 2: 0.09432387988367477}\n",
    "effect = 0 \n",
    "\n",
    "pvalues_random = []\n",
    "pvalues_poststratified = []\n",
    "\n",
    "for _ in tqdm(range(1000)):\n",
    "    control_users, pilot_users = np.random.choice(df_metrics['user_id'].values, (2, sample_size), False)\n",
    "    df_control = df_metrics[df_metrics['user_id'].isin(control_users)].copy()\n",
    "    df_pilot = df_metrics[df_metrics['user_id'].isin(pilot_users)].copy()\n",
    "    df_pilot['metric'] += effect\n",
    "    pvalues_random.append(check_test(df_control, df_pilot))\n",
    "    pvalues_poststratified.append(check_stratified_test(df_control, df_pilot, weights))\n",
    "\n",
    "list_pvalues = [pvalues_random, pvalues_poststratified]\n",
    "list_titles = ['без стратификации', 'постстратификация']\n",
    "\n",
    "X = np.linspace(0, 1, 1000)\n",
    "for pvalues, title in zip(reversed(list_pvalues), reversed(list_titles)):\n",
    "    pvalues = np.array(pvalues)\n",
    "    Y = [np.mean(pvalues < x) for x in X]\n",
    "    plt.plot(X, Y, alpha=0.5, linewidth=3, label=title)\n",
    "plt.xlabel('pvalue')\n",
    "plt.plot([0, 1], [0, 1], 'k')\n",
    "plt.legend(loc=5)\n",
    "plt.show()"
   ]
  },
  {
   "cell_type": "markdown",
   "id": "d83345f5",
   "metadata": {},
   "source": [
    "В данном примере с данными пиццерии отличия невооружённым глазом незаметны."
   ]
  },
  {
   "cell_type": "markdown",
   "id": "8da4ef8b",
   "metadata": {},
   "source": [
    "### Разбиение объектов на страты (уменьшение дисперсии стратифицированного среднего)"
   ]
  },
  {
   "cell_type": "code",
   "execution_count": null,
   "id": "5ede874a",
   "metadata": {},
   "outputs": [
    {
     "name": "stdout",
     "output_type": "stream",
     "text": [
      "Отлично! Дисперсия равна 0.0, меньше порога 50000\n"
     ]
    }
   ],
   "source": [
    "# Предположим, у нас есть набор признаков, которые вычисляются независимо от эксперимента.\n",
    "# Используя эти признаки, разбъем объекты на страты так, \n",
    "# чтобы дисперсия стратифицированного среднего была минимальна и доля каждой страты была не менее 5% от всех данных.\n",
    "\n",
    "# Данные разбиты на 2 части. Первая часть доступна для исследования по ссылке stratification_task_data_public.csv. \n",
    "# Решение будет проверяться на второй части данных. Значения в столбцах \n",
    "# x1, ..., x10 — признаки, которые можно использовать для вычисления страт. \n",
    "# Значения в столбце y — измерения, по которым будет вычисляться целевая метрика эксперимента.\n",
    "\n",
    "import pandas as pd\n",
    "import numpy as np\n",
    "\n",
    "\n",
    "def get_strats(df: pd.DataFrame):\n",
    "    \"\"\"Возвращает страты объектов.\n",
    "    \n",
    "    :return (list | np.array | pd.Series): список страт объектов размера len(df).\n",
    "    \"\"\"\n",
    "    # print(df['x4'].unique()) # [0 2 1]\n",
    "    for i in df.index:\n",
    "        if df['x4'][i] == 0 and df['x8'][i] == 0:\n",
    "            df.loc[i, 'strat'] = 1\n",
    "        elif df['x4'][i] == 0 and df['x8'][i] == 1:\n",
    "            df.loc[i, 'strat'] = 2\n",
    "        elif df['x4'][i] == 1 and df['x8'][i] == 0:\n",
    "            df.loc[i, 'strat'] = 3\n",
    "        elif df['x4'][i] == 1 and df['x8'][i] == 1:\n",
    "            df.loc[i, 'strat'] = 4\n",
    "        elif df['x4'][i] == 2 and df['x8'][i] == 0:\n",
    "            df.loc[i, 'strat'] = 5\n",
    "        elif df['x4'][i] == 2 and df['x8'][i] == 1:\n",
    "            df.loc[i, 'strat'] = 6\n",
    "\n",
    "        return df['strat']\n",
    "\n",
    "\n",
    "def calculate_strat_var(df):\n",
    "    \"\"\"Вычисляет стратифицированную дисперсию популяции.\"\"\"\n",
    "    strat_vars = df.groupby('strat')['y'].var()\n",
    "    weights = df['strat'].value_counts(normalize=True)\n",
    "    stratified_var = (strat_vars * weights).sum()\n",
    "    return stratified_var\n",
    "\n",
    "\n",
    "if __name__ == \"__main__\":\n",
    "    bound = 50000\n",
    "    df = pd.read_csv('../data/stratification_task_data_public.csv')\n",
    "    strats = get_strats(df.drop('y', axis=1))\n",
    "    assert len(strats) == len(df), \"Неверный размер списка страт\"\n",
    "    min_part = pd.Series(strats).value_counts(normalize=True).min()\n",
    "    assert min_part >= 0.05, \"Минимальная доля одной из страт меньше 5%\"\n",
    "    df['strat'] = strats\n",
    "    strat_var = calculate_strat_var(df)\n",
    "    err_msg = f\"Дисперсия равна {strat_var:0.1f}, её нужно снизить до {bound}\"\n",
    "    assert strat_var <= bound, err_msg\n",
    "    print(f'Отлично! Дисперсия равна {strat_var:0.1f}, меньше порога {bound}')"
   ]
  },
  {
   "cell_type": "markdown",
   "id": "73fe5426",
   "metadata": {},
   "source": [
    "### Функция split_stratified - распределение по группам(контрольная и экспериментальная)"
   ]
  },
  {
   "cell_type": "code",
   "execution_count": null,
   "id": "3bb03e12",
   "metadata": {},
   "outputs": [
    {
     "name": "stdout",
     "output_type": "stream",
     "text": [
      "simple test passed\n"
     ]
    }
   ],
   "source": [
    "# Допустим, мы заранее определили множество клиентов, которые будут участвовать в эксперименте. \n",
    "# Их страты известны. Нужно написать функцию, которая будет стратифицировано распределять их по группам.\n",
    "\n",
    "# Распределение по группам будем считать стратифицированным, если для каждой страты количество клиентов \n",
    "# этой страты в группах отличаются не более, чем на 1.\n",
    "\n",
    "def split_stratified(strats: np.array) -> np.array:\n",
    "    \"\"\"Распределяет объекты по двум группам (0 — контрольная, 1 — экспериментальная)\n",
    "    с соблюдением стратификации: в каждой страте размеры групп отличаются не более чем на 1.\n",
    "    \"\"\"\n",
    "    # Получаем массив индексов от 0 до len(strats) - 1\n",
    "    indexes = np.arange(len(strats))\n",
    "    \n",
    "    # Создаём списки для индексов объектов, попавших в каждую из двух групп\n",
    "    a_indexes = []  # группа 0 (контрольная)\n",
    "    b_indexes = []  # группа 1 (экспериментальная)\n",
    "    \n",
    "    # Перебираем каждую уникальную страту в данных\n",
    "    for strat in np.unique(strats):\n",
    "        # Получаем индексы всех объектов, принадлежащих текущей страте\n",
    "        indexes_strat = indexes[strats == strat]\n",
    "        \n",
    "        # Считаем количество объектов в этой страте\n",
    "        size_strat = len(indexes_strat)\n",
    "        \n",
    "        # Перемешиваем индексы в текущей страте для случайного распределения\n",
    "        np.random.shuffle(indexes_strat)\n",
    "        \n",
    "        # Делим страты на две группы:\n",
    "        # - Первую половину (округление вниз) добавляем в группу A\n",
    "        # - Вторую половину — в группу B\n",
    "        # Это позволяет сбалансировать страты: если нечётное число, то разница будет максимум 1\n",
    "        a_indexes += list(indexes_strat[:size_strat // 2])\n",
    "        b_indexes += list(indexes_strat[size_strat // 2:])\n",
    "    \n",
    "    # Инициализируем массив с нулями (все объекты по умолчанию в группе 0)\n",
    "    groups = np.zeros(len(strats), dtype=int)\n",
    "    \n",
    "    # Индексы из группы B помечаем как 1 (экспериментальная группа)\n",
    "    groups[b_indexes] = 1\n",
    "    \n",
    "    return groups\n",
    "\n",
    "\n",
    "def check_split(df: pd.DataFrame):\n",
    "    \"\"\"Проверяет корректность разбиения на страты.\n",
    "    \n",
    "    :param df: датафрейм с двумя столбцами: ['strat', 'group'].\n",
    "    \"\"\"\n",
    "    df_agg = (\n",
    "        df\n",
    "        .groupby(['strat', 'group'])[['group']].count()\n",
    "        .rename(columns={'group': 'count'})\n",
    "        .reset_index()\n",
    "    )\n",
    "    df_pivot = df_agg.pivot(index='strat', values='count', columns='group')\n",
    "    max_delta = (df_pivot[0] - df_pivot[1]).abs().max()\n",
    "    assert max_delta <= 1, \"Размеры страт между группами отличаются более чем на 1.\"\n",
    "\n",
    "\n",
    "if __name__ == \"__main__\":\n",
    "    df = pd.DataFrame({'strat': [1, 2, 2, 2, 1, 1, 1, 3, 3]})\n",
    "    df['group'] = split_stratified(df['strat'].values)\n",
    "    check_split(df)\n",
    "    print('simple test passed')\n"
   ]
  },
  {
   "cell_type": "markdown",
   "id": "cf9ef75c",
   "metadata": {},
   "source": [
    "### Метод _ttest_strat класса ExperimentsService (функция для оценки эксперимента с применением постстратификации)"
   ]
  },
  {
   "cell_type": "code",
   "execution_count": null,
   "id": "c7d625f2",
   "metadata": {},
   "outputs": [
    {
     "name": "stdout",
     "output_type": "stream",
     "text": [
      "simple test passed\n"
     ]
    }
   ],
   "source": [
    "import numpy as np\n",
    "import pandas as pd\n",
    "from pydantic import BaseModel\n",
    "from scipy import stats\n",
    "\n",
    "\n",
    "class Design(BaseModel):\n",
    "    \"\"\"Дата-класс с описание параметров эксперимента.\n",
    "\n",
    "    statistical_test - тип статтеста. ['ttest', 'bootstrap']\n",
    "    effect - размер эффекта в процентах\n",
    "    alpha - уровень значимости\n",
    "    beta - допустимая вероятность ошибки II рода\n",
    "    stratification - постстратификация. 'on' - использовать постстратификация, 'off - не использовать.\n",
    "    \"\"\"\n",
    "    statistical_test: str = 'ttest'\n",
    "    effect: float = 3.\n",
    "    alpha: float = 0.05\n",
    "    beta: float = 0.1\n",
    "    stratification: str = 'off'\n",
    "\n",
    "\n",
    "class ExperimentsService:\n",
    "\n",
    "    @staticmethod\n",
    "    def _calc_strat_mean(df: pd.DataFrame, weights: pd.Series) -> float:\n",
    "        \"\"\"Считает стратифицированное среднее.\n",
    "\n",
    "        :param df: датафрейм с целевой метрикой и данными для стратификации\n",
    "        :param weights: маппинг {название страты: вес страты в популяции}\n",
    "        \"\"\"\n",
    "        strat_mean = df.groupby('strat')['metric'].mean()\n",
    "        return (strat_mean * weights).sum()\n",
    "\n",
    "    @staticmethod\n",
    "    def _calc_strat_var(df: pd.DataFrame, weights: pd.Series) -> float:\n",
    "        \"\"\"Считает стратифицированную дисперсию.\n",
    "\n",
    "        :param df: датафрейм с целевой метрикой и данными для стратификации\n",
    "        :param weights: маппинг {название страты: вес страты в популяции}\n",
    "        \"\"\"\n",
    "        strat_var = df.groupby('strat')['metric'].var()\n",
    "        return (strat_var * weights).sum()\n",
    "\n",
    "    def _ttest_strat(self, metrics_strat_a_group, metrics_strat_b_group):\n",
    "        \"\"\"Применяет постстратификацию, возвращает pvalue.\n",
    "\n",
    "        Веса страт считаем по данным обеих групп.\n",
    "        Предполагаем, что эксперимент проводится на всей популяции.\n",
    "        Веса страт нужно считать по данным всей популяции.\n",
    "\n",
    "        :param metrics_strat_a_group (np.ndarray): значения метрик и страт группы A.\n",
    "            shape = (n, 2), первый столбец - метрики, второй столбец - страты.\n",
    "        :param metrics_strat_b_group (np.ndarray): значения метрик и страт группы B.\n",
    "            shape = (n, 2), первый столбец - метрики, второй столбец - страты.\n",
    "        :param design (Design): объект с данными, описывающий параметры эксперимента\n",
    "        :return (float): значение p-value\n",
    "        \"\"\"\n",
    "        weights = (\n",
    "            pd.Series(np.hstack((metrics_strat_a_group[:, 1], metrics_strat_b_group[:, 1],)))\n",
    "            .value_counts(normalize=True)\n",
    "        )\n",
    "        # print(weights)\n",
    "        a = pd.DataFrame(metrics_strat_a_group, columns=['metric', 'strat'])\n",
    "        b = pd.DataFrame(metrics_strat_b_group, columns=['metric', 'strat'])\n",
    "        a_strat_mean = self._calc_strat_mean(a, weights)\n",
    "        b_strat_mean = self._calc_strat_mean(b, weights)\n",
    "        a_strat_var = self._calc_strat_var(a, weights)\n",
    "        b_strat_var = self._calc_strat_var(b, weights)\n",
    "        delta = b_strat_mean - a_strat_mean\n",
    "        std = (a_strat_var / len(a) + b_strat_var / len(b)) ** 0.5\n",
    "        t = delta / std\n",
    "        pvalue = 2 * (1 - stats.norm.cdf(np.abs(t)))\n",
    "        return pvalue\n",
    "\n",
    "    def get_pvalue(self, metrics_strat_a_group, metrics_strat_b_group, design):\n",
    "        \"\"\"Применяет статтест, возвращает pvalue.\n",
    "\n",
    "        :param metrics_strat_a_group (np.ndarray): значения метрик и страт группы A.\n",
    "            shape = (n, 2), первый столбец - метрики, второй столбец - страты.\n",
    "        :param metrics_strat_b_group (np.ndarray): значения метрик и страт группы B.\n",
    "            shape = (n, 2), первый столбец - метрики, второй столбец - страты.\n",
    "        :param design (Design): объект с данными, описывающий параметры эксперимента\n",
    "        :return (float): значение p-value\n",
    "        \"\"\"\n",
    "        if design.statistical_test == 'ttest':\n",
    "            if design.stratification == 'off':\n",
    "                _, pvalue = stats.ttest_ind(metrics_strat_a_group[:, 0], metrics_strat_b_group[:, 0])\n",
    "                return pvalue\n",
    "            elif design.stratification == 'on':\n",
    "                return self._ttest_strat(metrics_strat_a_group, metrics_strat_b_group)\n",
    "            else:\n",
    "                raise ValueError('Неверный design.stratification')\n",
    "        else:\n",
    "            raise ValueError('Неверный design.statistical_test')\n",
    "\n",
    "if __name__ == '__main__':\n",
    "    metrics_strat_a_group = np.zeros((10, 2,))\n",
    "    metrics_strat_a_group[:, 0] = np.arange(10)\n",
    "    metrics_strat_a_group[:, 1] = (np.arange(10) < 4).astype(float)\n",
    "    metrics_strat_b_group = np.zeros((10, 2,))\n",
    "    metrics_strat_b_group[:, 0] = np.arange(1, 11)\n",
    "    metrics_strat_b_group[:, 1] = (np.arange(10) < 5).astype(float)\n",
    "    design = Design(stratification='on')\n",
    "    ideal_pvalue = 0.037056\n",
    "\n",
    "    experiments_service = ExperimentsService()\n",
    "    pvalue = experiments_service.get_pvalue(metrics_strat_a_group, metrics_strat_b_group, design)\n",
    "\n",
    "    np.testing.assert_almost_equal(ideal_pvalue, pvalue, decimal=4, err_msg='Неверное значение pvalue')\n",
    "    print('simple test passed')"
   ]
  }
 ],
 "metadata": {
  "kernelspec": {
   "display_name": "Python 3",
   "language": "python",
   "name": "python3"
  },
  "language_info": {
   "codemirror_mode": {
    "name": "ipython",
    "version": 3
   },
   "file_extension": ".py",
   "mimetype": "text/x-python",
   "name": "python",
   "nbconvert_exporter": "python",
   "pygments_lexer": "ipython3",
   "version": "3.12.1"
  }
 },
 "nbformat": 4,
 "nbformat_minor": 5
}
